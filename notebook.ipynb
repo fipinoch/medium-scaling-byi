{
 "cells": [
  {
   "cell_type": "markdown",
   "source": [
    "### Load Formatter"
   ],
   "metadata": {}
  },
  {
   "cell_type": "code",
   "execution_count": 1,
   "source": [
    "%load_ext nb_black"
   ],
   "outputs": [
    {
     "output_type": "display_data",
     "data": {
      "application/javascript": "\n            setTimeout(function() {\n                var nbb_cell_id = 1;\n                var nbb_unformatted_code = \"%load_ext nb_black\";\n                var nbb_formatted_code = \"%load_ext nb_black\";\n                var nbb_cells = Jupyter.notebook.get_cells();\n                for (var i = 0; i < nbb_cells.length; ++i) {\n                    if (nbb_cells[i].input_prompt_number == nbb_cell_id) {\n                        if (nbb_cells[i].get_text() == nbb_unformatted_code) {\n                             nbb_cells[i].set_text(nbb_formatted_code);\n                        }\n                        break;\n                    }\n                }\n            }, 500);\n            ",
      "text/plain": [
       "<IPython.core.display.Javascript object>"
      ]
     },
     "metadata": {}
    }
   ],
   "metadata": {}
  },
  {
   "cell_type": "markdown",
   "source": [
    "### Load Modules"
   ],
   "metadata": {}
  },
  {
   "cell_type": "code",
   "execution_count": 2,
   "source": [
    "import pymc3 as pm\n",
    "import numpy as np\n",
    "from scipy import stats\n",
    "import pandas as pd\n",
    "from datetime import datetime\n",
    "import plotly.express as px"
   ],
   "outputs": [
    {
     "output_type": "display_data",
     "data": {
      "application/javascript": "\n            setTimeout(function() {\n                var nbb_cell_id = 2;\n                var nbb_unformatted_code = \"import pymc3 as pm\\nimport numpy as np\\nfrom scipy import stats\\nimport pandas as pd\\nfrom datetime import datetime\\nimport plotly.express as px\";\n                var nbb_formatted_code = \"import pymc3 as pm\\nimport numpy as np\\nfrom scipy import stats\\nimport pandas as pd\\nfrom datetime import datetime\\nimport plotly.express as px\";\n                var nbb_cells = Jupyter.notebook.get_cells();\n                for (var i = 0; i < nbb_cells.length; ++i) {\n                    if (nbb_cells[i].input_prompt_number == nbb_cell_id) {\n                        if (nbb_cells[i].get_text() == nbb_unformatted_code) {\n                             nbb_cells[i].set_text(nbb_formatted_code);\n                        }\n                        break;\n                    }\n                }\n            }, 500);\n            ",
      "text/plain": [
       "<IPython.core.display.Javascript object>"
      ]
     },
     "metadata": {}
    }
   ],
   "metadata": {}
  },
  {
   "cell_type": "markdown",
   "source": [
    "### Generate some fake data"
   ],
   "metadata": {}
  },
  {
   "cell_type": "code",
   "execution_count": 3,
   "source": [
    "p_true = 0.75\n",
    "\n",
    "pdf = pd.DataFrame()\n",
    "for size in [10 ** i for i in range(1, 7)]:\n",
    "    x = stats.bernoulli.rvs(p=p_true, size=size, random_state=42)\n",
    "    pdf = pdf.append(pd.DataFrame({\"size\": size, \"x\": x}))"
   ],
   "outputs": [
    {
     "output_type": "display_data",
     "data": {
      "application/javascript": "\n            setTimeout(function() {\n                var nbb_cell_id = 3;\n                var nbb_unformatted_code = \"p_true = 0.75\\n\\npdf = pd.DataFrame()\\nfor size in [10 ** i for i in range(1, 7)]:\\n    x = stats.bernoulli.rvs(p=p_true, size=size, random_state=42)\\n    pdf = pdf.append(pd.DataFrame({\\\"size\\\": size, \\\"x\\\": x}))\";\n                var nbb_formatted_code = \"p_true = 0.75\\n\\npdf = pd.DataFrame()\\nfor size in [10 ** i for i in range(1, 7)]:\\n    x = stats.bernoulli.rvs(p=p_true, size=size, random_state=42)\\n    pdf = pdf.append(pd.DataFrame({\\\"size\\\": size, \\\"x\\\": x}))\";\n                var nbb_cells = Jupyter.notebook.get_cells();\n                for (var i = 0; i < nbb_cells.length; ++i) {\n                    if (nbb_cells[i].input_prompt_number == nbb_cell_id) {\n                        if (nbb_cells[i].get_text() == nbb_unformatted_code) {\n                             nbb_cells[i].set_text(nbb_formatted_code);\n                        }\n                        break;\n                    }\n                }\n            }, 500);\n            ",
      "text/plain": [
       "<IPython.core.display.Javascript object>"
      ]
     },
     "metadata": {}
    }
   ],
   "metadata": {}
  },
  {
   "cell_type": "markdown",
   "source": [
    "### Model with whole data"
   ],
   "metadata": {}
  },
  {
   "cell_type": "code",
   "execution_count": 10,
   "source": [
    "x = pdf.x.values[0:100]\n",
    "\n",
    "with pm.Model() as model:\n",
    "    p = pm.Beta(\"p\", alpha=1, beta=1)\n",
    "    obs = pm.Bernoulli(\"obs\", p=p, observed=x)\n",
    "\n",
    "    trace = pm.sample(1_000, return_inferencedata=False)"
   ],
   "outputs": [
    {
     "output_type": "stream",
     "name": "stderr",
     "text": [
      "Auto-assigning NUTS sampler...\n",
      "Initializing NUTS using jitter+adapt_diag...\n",
      "Multiprocess sampling (4 chains in 4 jobs)\n",
      "NUTS: [p]\n"
     ]
    },
    {
     "output_type": "display_data",
     "data": {
      "text/html": [
       "\n",
       "    <div>\n",
       "        <style>\n",
       "            /* Turns off some styling */\n",
       "            progress {\n",
       "                /* gets rid of default border in Firefox and Opera. */\n",
       "                border: none;\n",
       "                /* Needs to be in here for Safari polyfill so background images work as expected. */\n",
       "                background-size: auto;\n",
       "            }\n",
       "            .progress-bar-interrupted, .progress-bar-interrupted::-webkit-progress-bar {\n",
       "                background: #F44336;\n",
       "            }\n",
       "        </style>\n",
       "      <progress value='8000' class='' max='8000' style='width:300px; height:20px; vertical-align: middle;'></progress>\n",
       "      100.00% [8000/8000 00:01<00:00 Sampling 4 chains, 0 divergences]\n",
       "    </div>\n",
       "    "
      ],
      "text/plain": [
       "<IPython.core.display.HTML object>"
      ]
     },
     "metadata": {}
    },
    {
     "output_type": "stream",
     "name": "stderr",
     "text": [
      "Sampling 4 chains for 1_000 tune and 1_000 draw iterations (4_000 + 4_000 draws total) took 11 seconds.\n"
     ]
    },
    {
     "output_type": "display_data",
     "data": {
      "application/javascript": "\n            setTimeout(function() {\n                var nbb_cell_id = 10;\n                var nbb_unformatted_code = \"x = pdf.x.values[0:100]\\n\\nwith pm.Model() as model:\\n    p = pm.Beta(\\\"p\\\", alpha=1, beta=1)\\n    obs = pm.Bernoulli(\\\"obs\\\", p=p, observed=x)\\n\\n    trace = pm.sample(1_000, return_inferencedata=False)\";\n                var nbb_formatted_code = \"x = pdf.x.values[0:100]\\n\\nwith pm.Model() as model:\\n    p = pm.Beta(\\\"p\\\", alpha=1, beta=1)\\n    obs = pm.Bernoulli(\\\"obs\\\", p=p, observed=x)\\n\\n    trace = pm.sample(1_000, return_inferencedata=False)\";\n                var nbb_cells = Jupyter.notebook.get_cells();\n                for (var i = 0; i < nbb_cells.length; ++i) {\n                    if (nbb_cells[i].input_prompt_number == nbb_cell_id) {\n                        if (nbb_cells[i].get_text() == nbb_unformatted_code) {\n                             nbb_cells[i].set_text(nbb_formatted_code);\n                        }\n                        break;\n                    }\n                }\n            }, 500);\n            ",
      "text/plain": [
       "<IPython.core.display.Javascript object>"
      ]
     },
     "metadata": {}
    }
   ],
   "metadata": {}
  },
  {
   "cell_type": "code",
   "execution_count": 40,
   "source": [
    "def pandas_bernoulli_model(pdf: pd.DataFrame) -> pd.Series:\n",
    "\n",
    "    t0 = datetime.now()\n",
    "\n",
    "    x = pdf.x.values\n",
    "\n",
    "    with pm.Model() as model:\n",
    "        p = pm.Beta(\"p\", alpha=1, beta=1)\n",
    "        obs = pm.Bernoulli(\"obs\", p=p, observed=x)\n",
    "        trace = pm.sample(1_000, return_inferencedata=False)\n",
    "\n",
    "    t1 = datetime.now()\n",
    "\n",
    "    p_hat = trace[\"p\"].mean()\n",
    "    hdi = pm.hdi(trace[\"p\"], hdi_prob=0.94)\n",
    "    sample_time = trace.report.t_sampling\n",
    "    deltat = t1 - t0\n",
    "\n",
    "    return pd.Series(\n",
    "        {\n",
    "            \"p_hat\": p_hat,\n",
    "            \"hdi_3%\": hdi[0],\n",
    "            \"hdi_97%\": hdi[1],\n",
    "            \"runtime\": deltat,\n",
    "            \"sample_time\": sample_time,\n",
    "        }\n",
    "    )"
   ],
   "outputs": [
    {
     "output_type": "display_data",
     "data": {
      "application/javascript": "\n            setTimeout(function() {\n                var nbb_cell_id = 40;\n                var nbb_unformatted_code = \"def pandas_bernoulli_model(pdf: pd.DataFrame) -> pd.Series:\\n\\n    t0 = datetime.now()\\n\\n    x = pdf.x.values\\n\\n    with pm.Model() as model:\\n        p = pm.Beta(\\\"p\\\", alpha=1, beta=1)\\n        obs = pm.Bernoulli(\\\"obs\\\", p=p, observed=x)\\n        trace = pm.sample(1_000, return_inferencedata=False)\\n\\n    t1 = datetime.now()\\n\\n    p_hat = trace[\\\"p\\\"].mean()\\n    hdi = pm.hdi(trace[\\\"p\\\"], hdi_prob=0.94)\\n    sample_time = trace.report.t_sampling\\n    deltat = t1 - t0\\n\\n    return pd.Series(\\n        {\\\"p_hat\\\": p_hat, \\\"hdi_3%\\\": hdi[0], \\\"hdi_97%\\\": hdi[1], \\\"runtime\\\": deltat, 'sample_time': sample_time}\\n    )\";\n                var nbb_formatted_code = \"def pandas_bernoulli_model(pdf: pd.DataFrame) -> pd.Series:\\n\\n    t0 = datetime.now()\\n\\n    x = pdf.x.values\\n\\n    with pm.Model() as model:\\n        p = pm.Beta(\\\"p\\\", alpha=1, beta=1)\\n        obs = pm.Bernoulli(\\\"obs\\\", p=p, observed=x)\\n        trace = pm.sample(1_000, return_inferencedata=False)\\n\\n    t1 = datetime.now()\\n\\n    p_hat = trace[\\\"p\\\"].mean()\\n    hdi = pm.hdi(trace[\\\"p\\\"], hdi_prob=0.94)\\n    sample_time = trace.report.t_sampling\\n    deltat = t1 - t0\\n\\n    return pd.Series(\\n        {\\n            \\\"p_hat\\\": p_hat,\\n            \\\"hdi_3%\\\": hdi[0],\\n            \\\"hdi_97%\\\": hdi[1],\\n            \\\"runtime\\\": deltat,\\n            \\\"sample_time\\\": sample_time,\\n        }\\n    )\";\n                var nbb_cells = Jupyter.notebook.get_cells();\n                for (var i = 0; i < nbb_cells.length; ++i) {\n                    if (nbb_cells[i].input_prompt_number == nbb_cell_id) {\n                        if (nbb_cells[i].get_text() == nbb_unformatted_code) {\n                             nbb_cells[i].set_text(nbb_formatted_code);\n                        }\n                        break;\n                    }\n                }\n            }, 500);\n            ",
      "text/plain": [
       "<IPython.core.display.Javascript object>"
      ]
     },
     "metadata": {}
    }
   ],
   "metadata": {}
  },
  {
   "cell_type": "code",
   "execution_count": 42,
   "source": [
    "results = pdf.groupby(\"size\").apply(pandas_bernoulli_model)"
   ],
   "outputs": [
    {
     "output_type": "stream",
     "name": "stderr",
     "text": [
      "Auto-assigning NUTS sampler...\n",
      "Initializing NUTS using jitter+adapt_diag...\n",
      "Multiprocess sampling (4 chains in 4 jobs)\n",
      "NUTS: [p]\n"
     ]
    },
    {
     "output_type": "display_data",
     "data": {
      "text/html": [
       "\n",
       "    <div>\n",
       "        <style>\n",
       "            /* Turns off some styling */\n",
       "            progress {\n",
       "                /* gets rid of default border in Firefox and Opera. */\n",
       "                border: none;\n",
       "                /* Needs to be in here for Safari polyfill so background images work as expected. */\n",
       "                background-size: auto;\n",
       "            }\n",
       "            .progress-bar-interrupted, .progress-bar-interrupted::-webkit-progress-bar {\n",
       "                background: #F44336;\n",
       "            }\n",
       "        </style>\n",
       "      <progress value='8000' class='' max='8000' style='width:300px; height:20px; vertical-align: middle;'></progress>\n",
       "      100.00% [8000/8000 00:01<00:00 Sampling 4 chains, 0 divergences]\n",
       "    </div>\n",
       "    "
      ],
      "text/plain": [
       "<IPython.core.display.HTML object>"
      ]
     },
     "metadata": {}
    },
    {
     "output_type": "stream",
     "name": "stderr",
     "text": [
      "Sampling 4 chains for 1_000 tune and 1_000 draw iterations (4_000 + 4_000 draws total) took 10 seconds.\n",
      "Auto-assigning NUTS sampler...\n",
      "Initializing NUTS using jitter+adapt_diag...\n",
      "Multiprocess sampling (4 chains in 4 jobs)\n",
      "NUTS: [p]\n"
     ]
    },
    {
     "output_type": "display_data",
     "data": {
      "text/html": [
       "\n",
       "    <div>\n",
       "        <style>\n",
       "            /* Turns off some styling */\n",
       "            progress {\n",
       "                /* gets rid of default border in Firefox and Opera. */\n",
       "                border: none;\n",
       "                /* Needs to be in here for Safari polyfill so background images work as expected. */\n",
       "                background-size: auto;\n",
       "            }\n",
       "            .progress-bar-interrupted, .progress-bar-interrupted::-webkit-progress-bar {\n",
       "                background: #F44336;\n",
       "            }\n",
       "        </style>\n",
       "      <progress value='8000' class='' max='8000' style='width:300px; height:20px; vertical-align: middle;'></progress>\n",
       "      100.00% [8000/8000 00:01<00:00 Sampling 4 chains, 0 divergences]\n",
       "    </div>\n",
       "    "
      ],
      "text/plain": [
       "<IPython.core.display.HTML object>"
      ]
     },
     "metadata": {}
    },
    {
     "output_type": "stream",
     "name": "stderr",
     "text": [
      "Sampling 4 chains for 1_000 tune and 1_000 draw iterations (4_000 + 4_000 draws total) took 10 seconds.\n",
      "The acceptance probability does not match the target. It is 0.8804832072843767, but should be close to 0.8. Try to increase the number of tuning steps.\n",
      "Auto-assigning NUTS sampler...\n",
      "Initializing NUTS using jitter+adapt_diag...\n",
      "Multiprocess sampling (4 chains in 4 jobs)\n",
      "NUTS: [p]\n"
     ]
    },
    {
     "output_type": "display_data",
     "data": {
      "text/html": [
       "\n",
       "    <div>\n",
       "        <style>\n",
       "            /* Turns off some styling */\n",
       "            progress {\n",
       "                /* gets rid of default border in Firefox and Opera. */\n",
       "                border: none;\n",
       "                /* Needs to be in here for Safari polyfill so background images work as expected. */\n",
       "                background-size: auto;\n",
       "            }\n",
       "            .progress-bar-interrupted, .progress-bar-interrupted::-webkit-progress-bar {\n",
       "                background: #F44336;\n",
       "            }\n",
       "        </style>\n",
       "      <progress value='8000' class='' max='8000' style='width:300px; height:20px; vertical-align: middle;'></progress>\n",
       "      100.00% [8000/8000 00:01<00:00 Sampling 4 chains, 0 divergences]\n",
       "    </div>\n",
       "    "
      ],
      "text/plain": [
       "<IPython.core.display.HTML object>"
      ]
     },
     "metadata": {}
    },
    {
     "output_type": "stream",
     "name": "stderr",
     "text": [
      "Sampling 4 chains for 1_000 tune and 1_000 draw iterations (4_000 + 4_000 draws total) took 10 seconds.\n",
      "Auto-assigning NUTS sampler...\n",
      "Initializing NUTS using jitter+adapt_diag...\n",
      "Multiprocess sampling (4 chains in 4 jobs)\n",
      "NUTS: [p]\n"
     ]
    },
    {
     "output_type": "display_data",
     "data": {
      "text/html": [
       "\n",
       "    <div>\n",
       "        <style>\n",
       "            /* Turns off some styling */\n",
       "            progress {\n",
       "                /* gets rid of default border in Firefox and Opera. */\n",
       "                border: none;\n",
       "                /* Needs to be in here for Safari polyfill so background images work as expected. */\n",
       "                background-size: auto;\n",
       "            }\n",
       "            .progress-bar-interrupted, .progress-bar-interrupted::-webkit-progress-bar {\n",
       "                background: #F44336;\n",
       "            }\n",
       "        </style>\n",
       "      <progress value='8000' class='' max='8000' style='width:300px; height:20px; vertical-align: middle;'></progress>\n",
       "      100.00% [8000/8000 00:01<00:00 Sampling 4 chains, 0 divergences]\n",
       "    </div>\n",
       "    "
      ],
      "text/plain": [
       "<IPython.core.display.HTML object>"
      ]
     },
     "metadata": {}
    },
    {
     "output_type": "stream",
     "name": "stderr",
     "text": [
      "Sampling 4 chains for 1_000 tune and 1_000 draw iterations (4_000 + 4_000 draws total) took 11 seconds.\n",
      "Auto-assigning NUTS sampler...\n",
      "Initializing NUTS using jitter+adapt_diag...\n",
      "Multiprocess sampling (4 chains in 4 jobs)\n",
      "NUTS: [p]\n"
     ]
    },
    {
     "output_type": "display_data",
     "data": {
      "text/html": [
       "\n",
       "    <div>\n",
       "        <style>\n",
       "            /* Turns off some styling */\n",
       "            progress {\n",
       "                /* gets rid of default border in Firefox and Opera. */\n",
       "                border: none;\n",
       "                /* Needs to be in here for Safari polyfill so background images work as expected. */\n",
       "                background-size: auto;\n",
       "            }\n",
       "            .progress-bar-interrupted, .progress-bar-interrupted::-webkit-progress-bar {\n",
       "                background: #F44336;\n",
       "            }\n",
       "        </style>\n",
       "      <progress value='8000' class='' max='8000' style='width:300px; height:20px; vertical-align: middle;'></progress>\n",
       "      100.00% [8000/8000 00:07<00:00 Sampling 4 chains, 0 divergences]\n",
       "    </div>\n",
       "    "
      ],
      "text/plain": [
       "<IPython.core.display.HTML object>"
      ]
     },
     "metadata": {}
    },
    {
     "output_type": "stream",
     "name": "stderr",
     "text": [
      "Sampling 4 chains for 1_000 tune and 1_000 draw iterations (4_000 + 4_000 draws total) took 16 seconds.\n",
      "The acceptance probability does not match the target. It is 0.8810255019400122, but should be close to 0.8. Try to increase the number of tuning steps.\n",
      "Auto-assigning NUTS sampler...\n",
      "Initializing NUTS using jitter+adapt_diag...\n",
      "Multiprocess sampling (4 chains in 4 jobs)\n",
      "NUTS: [p]\n"
     ]
    },
    {
     "output_type": "display_data",
     "data": {
      "text/html": [
       "\n",
       "    <div>\n",
       "        <style>\n",
       "            /* Turns off some styling */\n",
       "            progress {\n",
       "                /* gets rid of default border in Firefox and Opera. */\n",
       "                border: none;\n",
       "                /* Needs to be in here for Safari polyfill so background images work as expected. */\n",
       "                background-size: auto;\n",
       "            }\n",
       "            .progress-bar-interrupted, .progress-bar-interrupted::-webkit-progress-bar {\n",
       "                background: #F44336;\n",
       "            }\n",
       "        </style>\n",
       "      <progress value='8000' class='' max='8000' style='width:300px; height:20px; vertical-align: middle;'></progress>\n",
       "      100.00% [8000/8000 01:11<00:00 Sampling 4 chains, 0 divergences]\n",
       "    </div>\n",
       "    "
      ],
      "text/plain": [
       "<IPython.core.display.HTML object>"
      ]
     },
     "metadata": {}
    },
    {
     "output_type": "stream",
     "name": "stderr",
     "text": [
      "Sampling 4 chains for 1_000 tune and 1_000 draw iterations (4_000 + 4_000 draws total) took 80 seconds.\n"
     ]
    },
    {
     "output_type": "display_data",
     "data": {
      "application/javascript": "\n            setTimeout(function() {\n                var nbb_cell_id = 42;\n                var nbb_unformatted_code = \"results = pdf.groupby(\\\"size\\\").apply(pandas_bernoulli_model)\";\n                var nbb_formatted_code = \"results = pdf.groupby(\\\"size\\\").apply(pandas_bernoulli_model)\";\n                var nbb_cells = Jupyter.notebook.get_cells();\n                for (var i = 0; i < nbb_cells.length; ++i) {\n                    if (nbb_cells[i].input_prompt_number == nbb_cell_id) {\n                        if (nbb_cells[i].get_text() == nbb_unformatted_code) {\n                             nbb_cells[i].set_text(nbb_formatted_code);\n                        }\n                        break;\n                    }\n                }\n            }, 500);\n            ",
      "text/plain": [
       "<IPython.core.display.Javascript object>"
      ]
     },
     "metadata": {}
    }
   ],
   "metadata": {
    "scrolled": true
   }
  },
  {
   "cell_type": "code",
   "execution_count": 44,
   "source": [
    "results.assign(runtime=lambda x: x.runtime.dt.total_seconds())"
   ],
   "outputs": [
    {
     "output_type": "execute_result",
     "data": {
      "text/html": [
       "<div>\n",
       "<style scoped>\n",
       "    .dataframe tbody tr th:only-of-type {\n",
       "        vertical-align: middle;\n",
       "    }\n",
       "\n",
       "    .dataframe tbody tr th {\n",
       "        vertical-align: top;\n",
       "    }\n",
       "\n",
       "    .dataframe thead th {\n",
       "        text-align: right;\n",
       "    }\n",
       "</style>\n",
       "<table border=\"1\" class=\"dataframe\">\n",
       "  <thead>\n",
       "    <tr style=\"text-align: right;\">\n",
       "      <th></th>\n",
       "      <th>p_hat</th>\n",
       "      <th>hdi_3%</th>\n",
       "      <th>hdi_97%</th>\n",
       "      <th>runtime</th>\n",
       "      <th>sample_time</th>\n",
       "    </tr>\n",
       "    <tr>\n",
       "      <th>size</th>\n",
       "      <th></th>\n",
       "      <th></th>\n",
       "      <th></th>\n",
       "      <th></th>\n",
       "      <th></th>\n",
       "    </tr>\n",
       "  </thead>\n",
       "  <tbody>\n",
       "    <tr>\n",
       "      <th>10</th>\n",
       "      <td>0.751227</td>\n",
       "      <td>0.533017</td>\n",
       "      <td>0.955473</td>\n",
       "      <td>11.847637</td>\n",
       "      <td>10.300048</td>\n",
       "    </tr>\n",
       "    <tr>\n",
       "      <th>100</th>\n",
       "      <td>0.756432</td>\n",
       "      <td>0.676535</td>\n",
       "      <td>0.832873</td>\n",
       "      <td>11.896031</td>\n",
       "      <td>10.352192</td>\n",
       "    </tr>\n",
       "    <tr>\n",
       "      <th>1000</th>\n",
       "      <td>0.756059</td>\n",
       "      <td>0.729839</td>\n",
       "      <td>0.781115</td>\n",
       "      <td>11.961634</td>\n",
       "      <td>10.307325</td>\n",
       "    </tr>\n",
       "    <tr>\n",
       "      <th>10000</th>\n",
       "      <td>0.758605</td>\n",
       "      <td>0.750400</td>\n",
       "      <td>0.766287</td>\n",
       "      <td>12.563323</td>\n",
       "      <td>10.755775</td>\n",
       "    </tr>\n",
       "    <tr>\n",
       "      <th>100000</th>\n",
       "      <td>0.750553</td>\n",
       "      <td>0.747921</td>\n",
       "      <td>0.753133</td>\n",
       "      <td>22.114658</td>\n",
       "      <td>16.402040</td>\n",
       "    </tr>\n",
       "    <tr>\n",
       "      <th>1000000</th>\n",
       "      <td>0.749893</td>\n",
       "      <td>0.749085</td>\n",
       "      <td>0.750729</td>\n",
       "      <td>216.195539</td>\n",
       "      <td>80.437720</td>\n",
       "    </tr>\n",
       "  </tbody>\n",
       "</table>\n",
       "</div>"
      ],
      "text/plain": [
       "            p_hat    hdi_3%   hdi_97%     runtime  sample_time\n",
       "size                                                          \n",
       "10       0.751227  0.533017  0.955473   11.847637    10.300048\n",
       "100      0.756432  0.676535  0.832873   11.896031    10.352192\n",
       "1000     0.756059  0.729839  0.781115   11.961634    10.307325\n",
       "10000    0.758605  0.750400  0.766287   12.563323    10.755775\n",
       "100000   0.750553  0.747921  0.753133   22.114658    16.402040\n",
       "1000000  0.749893  0.749085  0.750729  216.195539    80.437720"
      ]
     },
     "metadata": {},
     "execution_count": 44
    },
    {
     "output_type": "display_data",
     "data": {
      "application/javascript": "\n            setTimeout(function() {\n                var nbb_cell_id = 44;\n                var nbb_unformatted_code = \"results.assign(runtime=lambda x: x.runtime.dt.total_seconds())\";\n                var nbb_formatted_code = \"results.assign(runtime=lambda x: x.runtime.dt.total_seconds())\";\n                var nbb_cells = Jupyter.notebook.get_cells();\n                for (var i = 0; i < nbb_cells.length; ++i) {\n                    if (nbb_cells[i].input_prompt_number == nbb_cell_id) {\n                        if (nbb_cells[i].get_text() == nbb_unformatted_code) {\n                             nbb_cells[i].set_text(nbb_formatted_code);\n                        }\n                        break;\n                    }\n                }\n            }, 500);\n            ",
      "text/plain": [
       "<IPython.core.display.Javascript object>"
      ]
     },
     "metadata": {}
    }
   ],
   "metadata": {}
  },
  {
   "cell_type": "code",
   "execution_count": 64,
   "source": [
    "import plotly.graph_objs as go\n",
    "from plotly.subplots import make_subplots\n",
    "\n",
    "\n",
    "def plot_results(results: pd.DataFrame, estimate: str, true_value: float):\n",
    "\n",
    "    pdf_plot = results.reset_index().sort_values([\"size\"])\n",
    "\n",
    "    x = pdf_plot[\"size\"].values\n",
    "    y = pdf_plot[estimate].values\n",
    "    y_upper = pdf_plot[\"hdi_97%\"].values\n",
    "    y_lower = pdf_plot[\"hdi_3%\"].values\n",
    "    y2 = pdf_plot[\"sample_time\"].values\n",
    "\n",
    "    fig = (\n",
    "        make_subplots(specs=[[{\"secondary_y\": True}]])\n",
    "        .add_traces(\n",
    "            [\n",
    "                go.Scatter(\n",
    "                    x=np.append(x, x[::-1]),  # x, then x reversed\n",
    "                    y=np.append(y_upper, y_lower[::-1]),  # upper, then lower reversed\n",
    "                    fill=\"toself\",\n",
    "                    fillcolor=\"rgba(0,100,80,0.2)\",\n",
    "                    line=dict(color=\"rgba(255,255,255,0)\"),\n",
    "                    #                 hoverinfo=\"skip\",\n",
    "                    name=\"HDI Bands (94%)\",\n",
    "                ),\n",
    "                go.Scatter(\n",
    "                    x=x,\n",
    "                    y=y,\n",
    "                    line=dict(color=\"rgb(0,100,80)\"),\n",
    "                    mode=\"lines\",\n",
    "                    name=\"Mean\",\n",
    "                ),\n",
    "            ]\n",
    "        )\n",
    "        .add_trace(\n",
    "            go.Scatter(x=x, y=y2, mode=\"lines\", name=\"Runtime\"), secondary_y=True\n",
    "        )\n",
    "        .add_hline(y=true_value, name=\"True Value\", line_dash=\"dash\")\n",
    "        .update_xaxes(type=\"log\", title=\"Data Size (N)\")\n",
    "        .update_yaxes(type=\"log\", secondary_y=True, title=\"Seconds\")\n",
    "        .update_yaxes(title=\"Probability\", secondary_y=False, type=\"log\")\n",
    "    )\n",
    "\n",
    "    return fig"
   ],
   "outputs": [
    {
     "output_type": "display_data",
     "data": {
      "application/javascript": "\n            setTimeout(function() {\n                var nbb_cell_id = 64;\n                var nbb_unformatted_code = \"import plotly.graph_objs as go\\nfrom plotly.subplots import make_subplots\\n\\n\\ndef plot_results(results: pd.DataFrame, estimate: str, true_value: float):\\n\\n    pdf_plot = results.reset_index().sort_values([\\\"size\\\"])\\n\\n    x = pdf_plot[\\\"size\\\"].values\\n    y = pdf_plot[estimate].values\\n    y_upper = pdf_plot[\\\"hdi_97%\\\"].values\\n    y_lower = pdf_plot[\\\"hdi_3%\\\"].values\\n    y2 = pdf_plot[\\\"sample_time\\\"].values\\n\\n    fig = (\\n        make_subplots(specs=[[{\\\"secondary_y\\\": True}]])\\n        .add_traces(\\n            [\\n                go.Scatter(\\n                    x=np.append(x, x[::-1]),  # x, then x reversed\\n                    y=np.append(y_upper, y_lower[::-1]),  # upper, then lower reversed\\n                    fill=\\\"toself\\\",\\n                    fillcolor=\\\"rgba(0,100,80,0.2)\\\",\\n                    line=dict(color=\\\"rgba(255,255,255,0)\\\"),\\n                    #                 hoverinfo=\\\"skip\\\",\\n                    name=\\\"HDI Bands (94%)\\\",\\n                ),\\n                go.Scatter(\\n                    x=x,\\n                    y=y,\\n                    line=dict(color=\\\"rgb(0,100,80)\\\"),\\n                    mode=\\\"lines\\\",\\n                    name=\\\"Mean\\\",\\n                ),\\n            ]\\n        )\\n        .add_trace(\\n            go.Scatter(x=x, y=y2, mode=\\\"lines\\\", name=\\\"Runtime\\\"), secondary_y=True\\n        )\\n        .add_hline(y=true_value, name=\\\"True Value\\\", line_dash=\\\"dash\\\")\\n        .update_xaxes(type=\\\"log\\\", title=\\\"Data Size (N)\\\")\\n        .update_yaxes(type=\\\"log\\\", secondary_y=True, title=\\\"Seconds\\\")\\n        .update_yaxes(title=\\\"Probability\\\", secondary_y=False, type=\\\"log\\\")\\n    )\\n\\n    return fig\";\n                var nbb_formatted_code = \"import plotly.graph_objs as go\\nfrom plotly.subplots import make_subplots\\n\\n\\ndef plot_results(results: pd.DataFrame, estimate: str, true_value: float):\\n\\n    pdf_plot = results.reset_index().sort_values([\\\"size\\\"])\\n\\n    x = pdf_plot[\\\"size\\\"].values\\n    y = pdf_plot[estimate].values\\n    y_upper = pdf_plot[\\\"hdi_97%\\\"].values\\n    y_lower = pdf_plot[\\\"hdi_3%\\\"].values\\n    y2 = pdf_plot[\\\"sample_time\\\"].values\\n\\n    fig = (\\n        make_subplots(specs=[[{\\\"secondary_y\\\": True}]])\\n        .add_traces(\\n            [\\n                go.Scatter(\\n                    x=np.append(x, x[::-1]),  # x, then x reversed\\n                    y=np.append(y_upper, y_lower[::-1]),  # upper, then lower reversed\\n                    fill=\\\"toself\\\",\\n                    fillcolor=\\\"rgba(0,100,80,0.2)\\\",\\n                    line=dict(color=\\\"rgba(255,255,255,0)\\\"),\\n                    #                 hoverinfo=\\\"skip\\\",\\n                    name=\\\"HDI Bands (94%)\\\",\\n                ),\\n                go.Scatter(\\n                    x=x,\\n                    y=y,\\n                    line=dict(color=\\\"rgb(0,100,80)\\\"),\\n                    mode=\\\"lines\\\",\\n                    name=\\\"Mean\\\",\\n                ),\\n            ]\\n        )\\n        .add_trace(\\n            go.Scatter(x=x, y=y2, mode=\\\"lines\\\", name=\\\"Runtime\\\"), secondary_y=True\\n        )\\n        .add_hline(y=true_value, name=\\\"True Value\\\", line_dash=\\\"dash\\\")\\n        .update_xaxes(type=\\\"log\\\", title=\\\"Data Size (N)\\\")\\n        .update_yaxes(type=\\\"log\\\", secondary_y=True, title=\\\"Seconds\\\")\\n        .update_yaxes(title=\\\"Probability\\\", secondary_y=False, type=\\\"log\\\")\\n    )\\n\\n    return fig\";\n                var nbb_cells = Jupyter.notebook.get_cells();\n                for (var i = 0; i < nbb_cells.length; ++i) {\n                    if (nbb_cells[i].input_prompt_number == nbb_cell_id) {\n                        if (nbb_cells[i].get_text() == nbb_unformatted_code) {\n                             nbb_cells[i].set_text(nbb_formatted_code);\n                        }\n                        break;\n                    }\n                }\n            }, 500);\n            ",
      "text/plain": [
       "<IPython.core.display.Javascript object>"
      ]
     },
     "metadata": {}
    }
   ],
   "metadata": {}
  },
  {
   "cell_type": "code",
   "execution_count": 67,
   "source": [
    "plot_results(results, \"p_hat\", p_true)"
   ],
   "outputs": [
    {
     "output_type": "display_data",
     "data": {
      "application/vnd.plotly.v1+json": {
       "config": {
        "plotlyServerURL": "https://plot.ly"
       },
       "data": [
        {
         "fill": "toself",
         "fillcolor": "rgba(0,100,80,0.2)",
         "line": {
          "color": "rgba(255,255,255,0)"
         },
         "name": "HDI Bands (94%)",
         "type": "scatter",
         "x": [
          10,
          100,
          1000,
          10000,
          100000,
          1000000,
          1000000,
          100000,
          10000,
          1000,
          100,
          10
         ],
         "y": [
          0.955472814267565,
          0.832873371235668,
          0.7811150407885006,
          0.7662867382906869,
          0.7531325601966226,
          0.750729161457116,
          0.7490847692753496,
          0.7479206720445766,
          0.7504003171306657,
          0.7298387536919929,
          0.6765348325591403,
          0.5330173056406455
         ]
        },
        {
         "line": {
          "color": "rgb(0,100,80)"
         },
         "mode": "lines",
         "name": "Mean",
         "type": "scatter",
         "x": [
          10,
          100,
          1000,
          10000,
          100000,
          1000000
         ],
         "y": [
          0.7512274381021741,
          0.756431683651087,
          0.7560591840004135,
          0.7586048113694117,
          0.7505534356914514,
          0.7498934654228134
         ]
        },
        {
         "mode": "lines",
         "name": "Runtime",
         "type": "scatter",
         "x": [
          10,
          100,
          1000,
          10000,
          100000,
          1000000
         ],
         "xaxis": "x",
         "y": [
          10.300048112869263,
          10.352191925048828,
          10.3073251247406,
          10.755774974822998,
          16.402039766311646,
          80.43772006034851
         ],
         "yaxis": "y2"
        }
       ],
       "layout": {
        "shapes": [
         {
          "line": {
           "dash": "dash"
          },
          "name": "True Value",
          "type": "line",
          "x0": 0,
          "x1": 1,
          "xref": "x domain",
          "y0": 0.75,
          "y1": 0.75,
          "yref": "y"
         }
        ],
        "template": {
         "data": {
          "bar": [
           {
            "error_x": {
             "color": "#2a3f5f"
            },
            "error_y": {
             "color": "#2a3f5f"
            },
            "marker": {
             "line": {
              "color": "#E5ECF6",
              "width": 0.5
             },
             "pattern": {
              "fillmode": "overlay",
              "size": 10,
              "solidity": 0.2
             }
            },
            "type": "bar"
           }
          ],
          "barpolar": [
           {
            "marker": {
             "line": {
              "color": "#E5ECF6",
              "width": 0.5
             },
             "pattern": {
              "fillmode": "overlay",
              "size": 10,
              "solidity": 0.2
             }
            },
            "type": "barpolar"
           }
          ],
          "carpet": [
           {
            "aaxis": {
             "endlinecolor": "#2a3f5f",
             "gridcolor": "white",
             "linecolor": "white",
             "minorgridcolor": "white",
             "startlinecolor": "#2a3f5f"
            },
            "baxis": {
             "endlinecolor": "#2a3f5f",
             "gridcolor": "white",
             "linecolor": "white",
             "minorgridcolor": "white",
             "startlinecolor": "#2a3f5f"
            },
            "type": "carpet"
           }
          ],
          "choropleth": [
           {
            "colorbar": {
             "outlinewidth": 0,
             "ticks": ""
            },
            "type": "choropleth"
           }
          ],
          "contour": [
           {
            "colorbar": {
             "outlinewidth": 0,
             "ticks": ""
            },
            "colorscale": [
             [
              0,
              "#0d0887"
             ],
             [
              0.1111111111111111,
              "#46039f"
             ],
             [
              0.2222222222222222,
              "#7201a8"
             ],
             [
              0.3333333333333333,
              "#9c179e"
             ],
             [
              0.4444444444444444,
              "#bd3786"
             ],
             [
              0.5555555555555556,
              "#d8576b"
             ],
             [
              0.6666666666666666,
              "#ed7953"
             ],
             [
              0.7777777777777778,
              "#fb9f3a"
             ],
             [
              0.8888888888888888,
              "#fdca26"
             ],
             [
              1,
              "#f0f921"
             ]
            ],
            "type": "contour"
           }
          ],
          "contourcarpet": [
           {
            "colorbar": {
             "outlinewidth": 0,
             "ticks": ""
            },
            "type": "contourcarpet"
           }
          ],
          "heatmap": [
           {
            "colorbar": {
             "outlinewidth": 0,
             "ticks": ""
            },
            "colorscale": [
             [
              0,
              "#0d0887"
             ],
             [
              0.1111111111111111,
              "#46039f"
             ],
             [
              0.2222222222222222,
              "#7201a8"
             ],
             [
              0.3333333333333333,
              "#9c179e"
             ],
             [
              0.4444444444444444,
              "#bd3786"
             ],
             [
              0.5555555555555556,
              "#d8576b"
             ],
             [
              0.6666666666666666,
              "#ed7953"
             ],
             [
              0.7777777777777778,
              "#fb9f3a"
             ],
             [
              0.8888888888888888,
              "#fdca26"
             ],
             [
              1,
              "#f0f921"
             ]
            ],
            "type": "heatmap"
           }
          ],
          "heatmapgl": [
           {
            "colorbar": {
             "outlinewidth": 0,
             "ticks": ""
            },
            "colorscale": [
             [
              0,
              "#0d0887"
             ],
             [
              0.1111111111111111,
              "#46039f"
             ],
             [
              0.2222222222222222,
              "#7201a8"
             ],
             [
              0.3333333333333333,
              "#9c179e"
             ],
             [
              0.4444444444444444,
              "#bd3786"
             ],
             [
              0.5555555555555556,
              "#d8576b"
             ],
             [
              0.6666666666666666,
              "#ed7953"
             ],
             [
              0.7777777777777778,
              "#fb9f3a"
             ],
             [
              0.8888888888888888,
              "#fdca26"
             ],
             [
              1,
              "#f0f921"
             ]
            ],
            "type": "heatmapgl"
           }
          ],
          "histogram": [
           {
            "marker": {
             "pattern": {
              "fillmode": "overlay",
              "size": 10,
              "solidity": 0.2
             }
            },
            "type": "histogram"
           }
          ],
          "histogram2d": [
           {
            "colorbar": {
             "outlinewidth": 0,
             "ticks": ""
            },
            "colorscale": [
             [
              0,
              "#0d0887"
             ],
             [
              0.1111111111111111,
              "#46039f"
             ],
             [
              0.2222222222222222,
              "#7201a8"
             ],
             [
              0.3333333333333333,
              "#9c179e"
             ],
             [
              0.4444444444444444,
              "#bd3786"
             ],
             [
              0.5555555555555556,
              "#d8576b"
             ],
             [
              0.6666666666666666,
              "#ed7953"
             ],
             [
              0.7777777777777778,
              "#fb9f3a"
             ],
             [
              0.8888888888888888,
              "#fdca26"
             ],
             [
              1,
              "#f0f921"
             ]
            ],
            "type": "histogram2d"
           }
          ],
          "histogram2dcontour": [
           {
            "colorbar": {
             "outlinewidth": 0,
             "ticks": ""
            },
            "colorscale": [
             [
              0,
              "#0d0887"
             ],
             [
              0.1111111111111111,
              "#46039f"
             ],
             [
              0.2222222222222222,
              "#7201a8"
             ],
             [
              0.3333333333333333,
              "#9c179e"
             ],
             [
              0.4444444444444444,
              "#bd3786"
             ],
             [
              0.5555555555555556,
              "#d8576b"
             ],
             [
              0.6666666666666666,
              "#ed7953"
             ],
             [
              0.7777777777777778,
              "#fb9f3a"
             ],
             [
              0.8888888888888888,
              "#fdca26"
             ],
             [
              1,
              "#f0f921"
             ]
            ],
            "type": "histogram2dcontour"
           }
          ],
          "mesh3d": [
           {
            "colorbar": {
             "outlinewidth": 0,
             "ticks": ""
            },
            "type": "mesh3d"
           }
          ],
          "parcoords": [
           {
            "line": {
             "colorbar": {
              "outlinewidth": 0,
              "ticks": ""
             }
            },
            "type": "parcoords"
           }
          ],
          "pie": [
           {
            "automargin": true,
            "type": "pie"
           }
          ],
          "scatter": [
           {
            "marker": {
             "colorbar": {
              "outlinewidth": 0,
              "ticks": ""
             }
            },
            "type": "scatter"
           }
          ],
          "scatter3d": [
           {
            "line": {
             "colorbar": {
              "outlinewidth": 0,
              "ticks": ""
             }
            },
            "marker": {
             "colorbar": {
              "outlinewidth": 0,
              "ticks": ""
             }
            },
            "type": "scatter3d"
           }
          ],
          "scattercarpet": [
           {
            "marker": {
             "colorbar": {
              "outlinewidth": 0,
              "ticks": ""
             }
            },
            "type": "scattercarpet"
           }
          ],
          "scattergeo": [
           {
            "marker": {
             "colorbar": {
              "outlinewidth": 0,
              "ticks": ""
             }
            },
            "type": "scattergeo"
           }
          ],
          "scattergl": [
           {
            "marker": {
             "colorbar": {
              "outlinewidth": 0,
              "ticks": ""
             }
            },
            "type": "scattergl"
           }
          ],
          "scattermapbox": [
           {
            "marker": {
             "colorbar": {
              "outlinewidth": 0,
              "ticks": ""
             }
            },
            "type": "scattermapbox"
           }
          ],
          "scatterpolar": [
           {
            "marker": {
             "colorbar": {
              "outlinewidth": 0,
              "ticks": ""
             }
            },
            "type": "scatterpolar"
           }
          ],
          "scatterpolargl": [
           {
            "marker": {
             "colorbar": {
              "outlinewidth": 0,
              "ticks": ""
             }
            },
            "type": "scatterpolargl"
           }
          ],
          "scatterternary": [
           {
            "marker": {
             "colorbar": {
              "outlinewidth": 0,
              "ticks": ""
             }
            },
            "type": "scatterternary"
           }
          ],
          "surface": [
           {
            "colorbar": {
             "outlinewidth": 0,
             "ticks": ""
            },
            "colorscale": [
             [
              0,
              "#0d0887"
             ],
             [
              0.1111111111111111,
              "#46039f"
             ],
             [
              0.2222222222222222,
              "#7201a8"
             ],
             [
              0.3333333333333333,
              "#9c179e"
             ],
             [
              0.4444444444444444,
              "#bd3786"
             ],
             [
              0.5555555555555556,
              "#d8576b"
             ],
             [
              0.6666666666666666,
              "#ed7953"
             ],
             [
              0.7777777777777778,
              "#fb9f3a"
             ],
             [
              0.8888888888888888,
              "#fdca26"
             ],
             [
              1,
              "#f0f921"
             ]
            ],
            "type": "surface"
           }
          ],
          "table": [
           {
            "cells": {
             "fill": {
              "color": "#EBF0F8"
             },
             "line": {
              "color": "white"
             }
            },
            "header": {
             "fill": {
              "color": "#C8D4E3"
             },
             "line": {
              "color": "white"
             }
            },
            "type": "table"
           }
          ]
         },
         "layout": {
          "annotationdefaults": {
           "arrowcolor": "#2a3f5f",
           "arrowhead": 0,
           "arrowwidth": 1
          },
          "autotypenumbers": "strict",
          "coloraxis": {
           "colorbar": {
            "outlinewidth": 0,
            "ticks": ""
           }
          },
          "colorscale": {
           "diverging": [
            [
             0,
             "#8e0152"
            ],
            [
             0.1,
             "#c51b7d"
            ],
            [
             0.2,
             "#de77ae"
            ],
            [
             0.3,
             "#f1b6da"
            ],
            [
             0.4,
             "#fde0ef"
            ],
            [
             0.5,
             "#f7f7f7"
            ],
            [
             0.6,
             "#e6f5d0"
            ],
            [
             0.7,
             "#b8e186"
            ],
            [
             0.8,
             "#7fbc41"
            ],
            [
             0.9,
             "#4d9221"
            ],
            [
             1,
             "#276419"
            ]
           ],
           "sequential": [
            [
             0,
             "#0d0887"
            ],
            [
             0.1111111111111111,
             "#46039f"
            ],
            [
             0.2222222222222222,
             "#7201a8"
            ],
            [
             0.3333333333333333,
             "#9c179e"
            ],
            [
             0.4444444444444444,
             "#bd3786"
            ],
            [
             0.5555555555555556,
             "#d8576b"
            ],
            [
             0.6666666666666666,
             "#ed7953"
            ],
            [
             0.7777777777777778,
             "#fb9f3a"
            ],
            [
             0.8888888888888888,
             "#fdca26"
            ],
            [
             1,
             "#f0f921"
            ]
           ],
           "sequentialminus": [
            [
             0,
             "#0d0887"
            ],
            [
             0.1111111111111111,
             "#46039f"
            ],
            [
             0.2222222222222222,
             "#7201a8"
            ],
            [
             0.3333333333333333,
             "#9c179e"
            ],
            [
             0.4444444444444444,
             "#bd3786"
            ],
            [
             0.5555555555555556,
             "#d8576b"
            ],
            [
             0.6666666666666666,
             "#ed7953"
            ],
            [
             0.7777777777777778,
             "#fb9f3a"
            ],
            [
             0.8888888888888888,
             "#fdca26"
            ],
            [
             1,
             "#f0f921"
            ]
           ]
          },
          "colorway": [
           "#636efa",
           "#EF553B",
           "#00cc96",
           "#ab63fa",
           "#FFA15A",
           "#19d3f3",
           "#FF6692",
           "#B6E880",
           "#FF97FF",
           "#FECB52"
          ],
          "font": {
           "color": "#2a3f5f"
          },
          "geo": {
           "bgcolor": "white",
           "lakecolor": "white",
           "landcolor": "#E5ECF6",
           "showlakes": true,
           "showland": true,
           "subunitcolor": "white"
          },
          "hoverlabel": {
           "align": "left"
          },
          "hovermode": "closest",
          "mapbox": {
           "style": "light"
          },
          "paper_bgcolor": "white",
          "plot_bgcolor": "#E5ECF6",
          "polar": {
           "angularaxis": {
            "gridcolor": "white",
            "linecolor": "white",
            "ticks": ""
           },
           "bgcolor": "#E5ECF6",
           "radialaxis": {
            "gridcolor": "white",
            "linecolor": "white",
            "ticks": ""
           }
          },
          "scene": {
           "xaxis": {
            "backgroundcolor": "#E5ECF6",
            "gridcolor": "white",
            "gridwidth": 2,
            "linecolor": "white",
            "showbackground": true,
            "ticks": "",
            "zerolinecolor": "white"
           },
           "yaxis": {
            "backgroundcolor": "#E5ECF6",
            "gridcolor": "white",
            "gridwidth": 2,
            "linecolor": "white",
            "showbackground": true,
            "ticks": "",
            "zerolinecolor": "white"
           },
           "zaxis": {
            "backgroundcolor": "#E5ECF6",
            "gridcolor": "white",
            "gridwidth": 2,
            "linecolor": "white",
            "showbackground": true,
            "ticks": "",
            "zerolinecolor": "white"
           }
          },
          "shapedefaults": {
           "line": {
            "color": "#2a3f5f"
           }
          },
          "ternary": {
           "aaxis": {
            "gridcolor": "white",
            "linecolor": "white",
            "ticks": ""
           },
           "baxis": {
            "gridcolor": "white",
            "linecolor": "white",
            "ticks": ""
           },
           "bgcolor": "#E5ECF6",
           "caxis": {
            "gridcolor": "white",
            "linecolor": "white",
            "ticks": ""
           }
          },
          "title": {
           "x": 0.05
          },
          "xaxis": {
           "automargin": true,
           "gridcolor": "white",
           "linecolor": "white",
           "ticks": "",
           "title": {
            "standoff": 15
           },
           "zerolinecolor": "white",
           "zerolinewidth": 2
          },
          "yaxis": {
           "automargin": true,
           "gridcolor": "white",
           "linecolor": "white",
           "ticks": "",
           "title": {
            "standoff": 15
           },
           "zerolinecolor": "white",
           "zerolinewidth": 2
          }
         }
        },
        "xaxis": {
         "anchor": "y",
         "domain": [
          0,
          0.94
         ],
         "title": {
          "text": "Data Size (N)"
         },
         "type": "log"
        },
        "yaxis": {
         "anchor": "x",
         "domain": [
          0,
          1
         ],
         "title": {
          "text": "Probability"
         },
         "type": "log"
        },
        "yaxis2": {
         "anchor": "x",
         "overlaying": "y",
         "side": "right",
         "title": {
          "text": "Seconds"
         },
         "type": "log"
        }
       }
      },
      "text/html": [
       "<div>                            <div id=\"80f8ffc2-68bb-4d11-90d8-5113b82fce06\" class=\"plotly-graph-div\" style=\"height:525px; width:100%;\"></div>            <script type=\"text/javascript\">                require([\"plotly\"], function(Plotly) {                    window.PLOTLYENV=window.PLOTLYENV || {};                                    if (document.getElementById(\"80f8ffc2-68bb-4d11-90d8-5113b82fce06\")) {                    Plotly.newPlot(                        \"80f8ffc2-68bb-4d11-90d8-5113b82fce06\",                        [{\"fill\":\"toself\",\"fillcolor\":\"rgba(0,100,80,0.2)\",\"line\":{\"color\":\"rgba(255,255,255,0)\"},\"name\":\"HDI Bands (94%)\",\"type\":\"scatter\",\"x\":[10,100,1000,10000,100000,1000000,1000000,100000,10000,1000,100,10],\"y\":[0.955472814267565,0.832873371235668,0.7811150407885006,0.7662867382906869,0.7531325601966226,0.750729161457116,0.7490847692753496,0.7479206720445766,0.7504003171306657,0.7298387536919929,0.6765348325591403,0.5330173056406455]},{\"line\":{\"color\":\"rgb(0,100,80)\"},\"mode\":\"lines\",\"name\":\"Mean\",\"type\":\"scatter\",\"x\":[10,100,1000,10000,100000,1000000],\"y\":[0.7512274381021741,0.756431683651087,0.7560591840004135,0.7586048113694117,0.7505534356914514,0.7498934654228134]},{\"mode\":\"lines\",\"name\":\"Runtime\",\"type\":\"scatter\",\"x\":[10,100,1000,10000,100000,1000000],\"xaxis\":\"x\",\"y\":[10.300048112869263,10.352191925048828,10.3073251247406,10.755774974822998,16.402039766311646,80.43772006034851],\"yaxis\":\"y2\"}],                        {\"shapes\":[{\"line\":{\"dash\":\"dash\"},\"name\":\"True Value\",\"type\":\"line\",\"x0\":0,\"x1\":1,\"xref\":\"x domain\",\"y0\":0.75,\"y1\":0.75,\"yref\":\"y\"}],\"template\":{\"data\":{\"bar\":[{\"error_x\":{\"color\":\"#2a3f5f\"},\"error_y\":{\"color\":\"#2a3f5f\"},\"marker\":{\"line\":{\"color\":\"#E5ECF6\",\"width\":0.5},\"pattern\":{\"fillmode\":\"overlay\",\"size\":10,\"solidity\":0.2}},\"type\":\"bar\"}],\"barpolar\":[{\"marker\":{\"line\":{\"color\":\"#E5ECF6\",\"width\":0.5},\"pattern\":{\"fillmode\":\"overlay\",\"size\":10,\"solidity\":0.2}},\"type\":\"barpolar\"}],\"carpet\":[{\"aaxis\":{\"endlinecolor\":\"#2a3f5f\",\"gridcolor\":\"white\",\"linecolor\":\"white\",\"minorgridcolor\":\"white\",\"startlinecolor\":\"#2a3f5f\"},\"baxis\":{\"endlinecolor\":\"#2a3f5f\",\"gridcolor\":\"white\",\"linecolor\":\"white\",\"minorgridcolor\":\"white\",\"startlinecolor\":\"#2a3f5f\"},\"type\":\"carpet\"}],\"choropleth\":[{\"colorbar\":{\"outlinewidth\":0,\"ticks\":\"\"},\"type\":\"choropleth\"}],\"contour\":[{\"colorbar\":{\"outlinewidth\":0,\"ticks\":\"\"},\"colorscale\":[[0.0,\"#0d0887\"],[0.1111111111111111,\"#46039f\"],[0.2222222222222222,\"#7201a8\"],[0.3333333333333333,\"#9c179e\"],[0.4444444444444444,\"#bd3786\"],[0.5555555555555556,\"#d8576b\"],[0.6666666666666666,\"#ed7953\"],[0.7777777777777778,\"#fb9f3a\"],[0.8888888888888888,\"#fdca26\"],[1.0,\"#f0f921\"]],\"type\":\"contour\"}],\"contourcarpet\":[{\"colorbar\":{\"outlinewidth\":0,\"ticks\":\"\"},\"type\":\"contourcarpet\"}],\"heatmap\":[{\"colorbar\":{\"outlinewidth\":0,\"ticks\":\"\"},\"colorscale\":[[0.0,\"#0d0887\"],[0.1111111111111111,\"#46039f\"],[0.2222222222222222,\"#7201a8\"],[0.3333333333333333,\"#9c179e\"],[0.4444444444444444,\"#bd3786\"],[0.5555555555555556,\"#d8576b\"],[0.6666666666666666,\"#ed7953\"],[0.7777777777777778,\"#fb9f3a\"],[0.8888888888888888,\"#fdca26\"],[1.0,\"#f0f921\"]],\"type\":\"heatmap\"}],\"heatmapgl\":[{\"colorbar\":{\"outlinewidth\":0,\"ticks\":\"\"},\"colorscale\":[[0.0,\"#0d0887\"],[0.1111111111111111,\"#46039f\"],[0.2222222222222222,\"#7201a8\"],[0.3333333333333333,\"#9c179e\"],[0.4444444444444444,\"#bd3786\"],[0.5555555555555556,\"#d8576b\"],[0.6666666666666666,\"#ed7953\"],[0.7777777777777778,\"#fb9f3a\"],[0.8888888888888888,\"#fdca26\"],[1.0,\"#f0f921\"]],\"type\":\"heatmapgl\"}],\"histogram\":[{\"marker\":{\"pattern\":{\"fillmode\":\"overlay\",\"size\":10,\"solidity\":0.2}},\"type\":\"histogram\"}],\"histogram2d\":[{\"colorbar\":{\"outlinewidth\":0,\"ticks\":\"\"},\"colorscale\":[[0.0,\"#0d0887\"],[0.1111111111111111,\"#46039f\"],[0.2222222222222222,\"#7201a8\"],[0.3333333333333333,\"#9c179e\"],[0.4444444444444444,\"#bd3786\"],[0.5555555555555556,\"#d8576b\"],[0.6666666666666666,\"#ed7953\"],[0.7777777777777778,\"#fb9f3a\"],[0.8888888888888888,\"#fdca26\"],[1.0,\"#f0f921\"]],\"type\":\"histogram2d\"}],\"histogram2dcontour\":[{\"colorbar\":{\"outlinewidth\":0,\"ticks\":\"\"},\"colorscale\":[[0.0,\"#0d0887\"],[0.1111111111111111,\"#46039f\"],[0.2222222222222222,\"#7201a8\"],[0.3333333333333333,\"#9c179e\"],[0.4444444444444444,\"#bd3786\"],[0.5555555555555556,\"#d8576b\"],[0.6666666666666666,\"#ed7953\"],[0.7777777777777778,\"#fb9f3a\"],[0.8888888888888888,\"#fdca26\"],[1.0,\"#f0f921\"]],\"type\":\"histogram2dcontour\"}],\"mesh3d\":[{\"colorbar\":{\"outlinewidth\":0,\"ticks\":\"\"},\"type\":\"mesh3d\"}],\"parcoords\":[{\"line\":{\"colorbar\":{\"outlinewidth\":0,\"ticks\":\"\"}},\"type\":\"parcoords\"}],\"pie\":[{\"automargin\":true,\"type\":\"pie\"}],\"scatter\":[{\"marker\":{\"colorbar\":{\"outlinewidth\":0,\"ticks\":\"\"}},\"type\":\"scatter\"}],\"scatter3d\":[{\"line\":{\"colorbar\":{\"outlinewidth\":0,\"ticks\":\"\"}},\"marker\":{\"colorbar\":{\"outlinewidth\":0,\"ticks\":\"\"}},\"type\":\"scatter3d\"}],\"scattercarpet\":[{\"marker\":{\"colorbar\":{\"outlinewidth\":0,\"ticks\":\"\"}},\"type\":\"scattercarpet\"}],\"scattergeo\":[{\"marker\":{\"colorbar\":{\"outlinewidth\":0,\"ticks\":\"\"}},\"type\":\"scattergeo\"}],\"scattergl\":[{\"marker\":{\"colorbar\":{\"outlinewidth\":0,\"ticks\":\"\"}},\"type\":\"scattergl\"}],\"scattermapbox\":[{\"marker\":{\"colorbar\":{\"outlinewidth\":0,\"ticks\":\"\"}},\"type\":\"scattermapbox\"}],\"scatterpolar\":[{\"marker\":{\"colorbar\":{\"outlinewidth\":0,\"ticks\":\"\"}},\"type\":\"scatterpolar\"}],\"scatterpolargl\":[{\"marker\":{\"colorbar\":{\"outlinewidth\":0,\"ticks\":\"\"}},\"type\":\"scatterpolargl\"}],\"scatterternary\":[{\"marker\":{\"colorbar\":{\"outlinewidth\":0,\"ticks\":\"\"}},\"type\":\"scatterternary\"}],\"surface\":[{\"colorbar\":{\"outlinewidth\":0,\"ticks\":\"\"},\"colorscale\":[[0.0,\"#0d0887\"],[0.1111111111111111,\"#46039f\"],[0.2222222222222222,\"#7201a8\"],[0.3333333333333333,\"#9c179e\"],[0.4444444444444444,\"#bd3786\"],[0.5555555555555556,\"#d8576b\"],[0.6666666666666666,\"#ed7953\"],[0.7777777777777778,\"#fb9f3a\"],[0.8888888888888888,\"#fdca26\"],[1.0,\"#f0f921\"]],\"type\":\"surface\"}],\"table\":[{\"cells\":{\"fill\":{\"color\":\"#EBF0F8\"},\"line\":{\"color\":\"white\"}},\"header\":{\"fill\":{\"color\":\"#C8D4E3\"},\"line\":{\"color\":\"white\"}},\"type\":\"table\"}]},\"layout\":{\"annotationdefaults\":{\"arrowcolor\":\"#2a3f5f\",\"arrowhead\":0,\"arrowwidth\":1},\"autotypenumbers\":\"strict\",\"coloraxis\":{\"colorbar\":{\"outlinewidth\":0,\"ticks\":\"\"}},\"colorscale\":{\"diverging\":[[0,\"#8e0152\"],[0.1,\"#c51b7d\"],[0.2,\"#de77ae\"],[0.3,\"#f1b6da\"],[0.4,\"#fde0ef\"],[0.5,\"#f7f7f7\"],[0.6,\"#e6f5d0\"],[0.7,\"#b8e186\"],[0.8,\"#7fbc41\"],[0.9,\"#4d9221\"],[1,\"#276419\"]],\"sequential\":[[0.0,\"#0d0887\"],[0.1111111111111111,\"#46039f\"],[0.2222222222222222,\"#7201a8\"],[0.3333333333333333,\"#9c179e\"],[0.4444444444444444,\"#bd3786\"],[0.5555555555555556,\"#d8576b\"],[0.6666666666666666,\"#ed7953\"],[0.7777777777777778,\"#fb9f3a\"],[0.8888888888888888,\"#fdca26\"],[1.0,\"#f0f921\"]],\"sequentialminus\":[[0.0,\"#0d0887\"],[0.1111111111111111,\"#46039f\"],[0.2222222222222222,\"#7201a8\"],[0.3333333333333333,\"#9c179e\"],[0.4444444444444444,\"#bd3786\"],[0.5555555555555556,\"#d8576b\"],[0.6666666666666666,\"#ed7953\"],[0.7777777777777778,\"#fb9f3a\"],[0.8888888888888888,\"#fdca26\"],[1.0,\"#f0f921\"]]},\"colorway\":[\"#636efa\",\"#EF553B\",\"#00cc96\",\"#ab63fa\",\"#FFA15A\",\"#19d3f3\",\"#FF6692\",\"#B6E880\",\"#FF97FF\",\"#FECB52\"],\"font\":{\"color\":\"#2a3f5f\"},\"geo\":{\"bgcolor\":\"white\",\"lakecolor\":\"white\",\"landcolor\":\"#E5ECF6\",\"showlakes\":true,\"showland\":true,\"subunitcolor\":\"white\"},\"hoverlabel\":{\"align\":\"left\"},\"hovermode\":\"closest\",\"mapbox\":{\"style\":\"light\"},\"paper_bgcolor\":\"white\",\"plot_bgcolor\":\"#E5ECF6\",\"polar\":{\"angularaxis\":{\"gridcolor\":\"white\",\"linecolor\":\"white\",\"ticks\":\"\"},\"bgcolor\":\"#E5ECF6\",\"radialaxis\":{\"gridcolor\":\"white\",\"linecolor\":\"white\",\"ticks\":\"\"}},\"scene\":{\"xaxis\":{\"backgroundcolor\":\"#E5ECF6\",\"gridcolor\":\"white\",\"gridwidth\":2,\"linecolor\":\"white\",\"showbackground\":true,\"ticks\":\"\",\"zerolinecolor\":\"white\"},\"yaxis\":{\"backgroundcolor\":\"#E5ECF6\",\"gridcolor\":\"white\",\"gridwidth\":2,\"linecolor\":\"white\",\"showbackground\":true,\"ticks\":\"\",\"zerolinecolor\":\"white\"},\"zaxis\":{\"backgroundcolor\":\"#E5ECF6\",\"gridcolor\":\"white\",\"gridwidth\":2,\"linecolor\":\"white\",\"showbackground\":true,\"ticks\":\"\",\"zerolinecolor\":\"white\"}},\"shapedefaults\":{\"line\":{\"color\":\"#2a3f5f\"}},\"ternary\":{\"aaxis\":{\"gridcolor\":\"white\",\"linecolor\":\"white\",\"ticks\":\"\"},\"baxis\":{\"gridcolor\":\"white\",\"linecolor\":\"white\",\"ticks\":\"\"},\"bgcolor\":\"#E5ECF6\",\"caxis\":{\"gridcolor\":\"white\",\"linecolor\":\"white\",\"ticks\":\"\"}},\"title\":{\"x\":0.05},\"xaxis\":{\"automargin\":true,\"gridcolor\":\"white\",\"linecolor\":\"white\",\"ticks\":\"\",\"title\":{\"standoff\":15},\"zerolinecolor\":\"white\",\"zerolinewidth\":2},\"yaxis\":{\"automargin\":true,\"gridcolor\":\"white\",\"linecolor\":\"white\",\"ticks\":\"\",\"title\":{\"standoff\":15},\"zerolinecolor\":\"white\",\"zerolinewidth\":2}}},\"xaxis\":{\"anchor\":\"y\",\"domain\":[0.0,0.94],\"title\":{\"text\":\"Data Size (N)\"},\"type\":\"log\"},\"yaxis\":{\"anchor\":\"x\",\"domain\":[0.0,1.0],\"title\":{\"text\":\"Probability\"},\"type\":\"log\"},\"yaxis2\":{\"anchor\":\"x\",\"overlaying\":\"y\",\"side\":\"right\",\"title\":{\"text\":\"Seconds\"},\"type\":\"log\"}},                        {\"responsive\": true}                    ).then(function(){\n",
       "                            \n",
       "var gd = document.getElementById('80f8ffc2-68bb-4d11-90d8-5113b82fce06');\n",
       "var x = new MutationObserver(function (mutations, observer) {{\n",
       "        var display = window.getComputedStyle(gd).display;\n",
       "        if (!display || display === 'none') {{\n",
       "            console.log([gd, 'removed!']);\n",
       "            Plotly.purge(gd);\n",
       "            observer.disconnect();\n",
       "        }}\n",
       "}});\n",
       "\n",
       "// Listen for the removal of the full notebook cells\n",
       "var notebookContainer = gd.closest('#notebook-container');\n",
       "if (notebookContainer) {{\n",
       "    x.observe(notebookContainer, {childList: true});\n",
       "}}\n",
       "\n",
       "// Listen for the clearing of the current output cell\n",
       "var outputEl = gd.closest('.output');\n",
       "if (outputEl) {{\n",
       "    x.observe(outputEl, {childList: true});\n",
       "}}\n",
       "\n",
       "                        })                };                });            </script>        </div>"
      ]
     },
     "metadata": {}
    },
    {
     "output_type": "display_data",
     "data": {
      "application/javascript": "\n            setTimeout(function() {\n                var nbb_cell_id = 67;\n                var nbb_unformatted_code = \"plot_results(results, \\\"p_hat\\\", p_true)\";\n                var nbb_formatted_code = \"plot_results(results, \\\"p_hat\\\", p_true)\";\n                var nbb_cells = Jupyter.notebook.get_cells();\n                for (var i = 0; i < nbb_cells.length; ++i) {\n                    if (nbb_cells[i].input_prompt_number == nbb_cell_id) {\n                        if (nbb_cells[i].get_text() == nbb_unformatted_code) {\n                             nbb_cells[i].set_text(nbb_formatted_code);\n                        }\n                        break;\n                    }\n                }\n            }, 500);\n            ",
      "text/plain": [
       "<IPython.core.display.Javascript object>"
      ]
     },
     "metadata": {}
    }
   ],
   "metadata": {}
  },
  {
   "cell_type": "code",
   "execution_count": 47,
   "source": [
    "def weighted_bernoulli_loglike(p, weight, value):\n",
    "    loglike = weight * pm.Bernoulli.dist(p=p).logp(value)\n",
    "    return loglike\n",
    "\n",
    "\n",
    "def pandas_bernoulli_model_agg(pdf: pd.DataFrame) -> pd.Series:\n",
    "\n",
    "    t0 = datetime.now()\n",
    "\n",
    "    pdf_agg = pdf.assign(freq=1).groupby([\"x\"]).agg({\"freq\": \"count\"}).reset_index()\n",
    "    weights = pdf_agg.freq.values\n",
    "    values = pdf_agg.x.values\n",
    "\n",
    "    with pm.Model() as model:\n",
    "        p = pm.Beta(\"p\", alpha=1, beta=1)\n",
    "        obs = pm.Potential(\n",
    "            \"obs\", weighted_bernoulli_loglike(p=p, weight=weights, value=values)\n",
    "        )\n",
    "        trace = pm.sample(1_000, return_inferencedata=False)\n",
    "    t1 = datetime.now()\n",
    "\n",
    "    p_hat = trace[\"p\"].mean()\n",
    "    hdi = pm.hdi(trace[\"p\"], hdi_prob=0.94)\n",
    "    sample_time = trace.report.t_sampling\n",
    "    deltat = t1 - t0\n",
    "\n",
    "    return pd.Series(\n",
    "        {\n",
    "            \"p_hat\": p_hat,\n",
    "            \"hdi_3%\": hdi[0],\n",
    "            \"hdi_97%\": hdi[1],\n",
    "            \"runtime\": deltat,\n",
    "            \"sample_time\": sample_time,\n",
    "        }\n",
    "    )"
   ],
   "outputs": [
    {
     "output_type": "display_data",
     "data": {
      "application/javascript": "\n            setTimeout(function() {\n                var nbb_cell_id = 47;\n                var nbb_unformatted_code = \"def weighted_bernoulli_loglike(p, weight, value):\\n    loglike = weight * pm.Bernoulli.dist(p=p).logp(value)\\n    return loglike\\n\\n\\ndef pandas_bernoulli_model_agg(pdf: pd.DataFrame) -> pd.Series:\\n\\n    t0 = datetime.now()\\n\\n    pdf_agg = pdf.assign(freq=1).groupby([\\\"x\\\"]).agg({\\\"freq\\\": \\\"count\\\"}).reset_index()\\n    weights = pdf_agg.freq.values\\n    values = pdf_agg.x.values\\n\\n    with pm.Model() as model:\\n        p = pm.Beta(\\\"p\\\", alpha=1, beta=1)\\n        obs = pm.Potential(\\n            \\\"obs\\\", weighted_bernoulli_loglike(p=p, weight=weights, value=values)\\n        )\\n        trace = pm.sample(1_000, return_inferencedata=False)\\n    t1 = datetime.now()\\n\\n    p_hat = trace[\\\"p\\\"].mean()\\n    hdi = pm.hdi(trace[\\\"p\\\"], hdi_prob=0.94)\\n    sample_time = trace.report.t_sampling\\n    deltat = t1 - t0\\n\\n    return pd.Series(\\n        {\\\"p_hat\\\": p_hat, \\\"hdi_3%\\\": hdi[0], \\\"hdi_97%\\\": hdi[1], \\\"runtime\\\": deltat, \\\"sample_time\\\": sample_time,}\\n    )\";\n                var nbb_formatted_code = \"def weighted_bernoulli_loglike(p, weight, value):\\n    loglike = weight * pm.Bernoulli.dist(p=p).logp(value)\\n    return loglike\\n\\n\\ndef pandas_bernoulli_model_agg(pdf: pd.DataFrame) -> pd.Series:\\n\\n    t0 = datetime.now()\\n\\n    pdf_agg = pdf.assign(freq=1).groupby([\\\"x\\\"]).agg({\\\"freq\\\": \\\"count\\\"}).reset_index()\\n    weights = pdf_agg.freq.values\\n    values = pdf_agg.x.values\\n\\n    with pm.Model() as model:\\n        p = pm.Beta(\\\"p\\\", alpha=1, beta=1)\\n        obs = pm.Potential(\\n            \\\"obs\\\", weighted_bernoulli_loglike(p=p, weight=weights, value=values)\\n        )\\n        trace = pm.sample(1_000, return_inferencedata=False)\\n    t1 = datetime.now()\\n\\n    p_hat = trace[\\\"p\\\"].mean()\\n    hdi = pm.hdi(trace[\\\"p\\\"], hdi_prob=0.94)\\n    sample_time = trace.report.t_sampling\\n    deltat = t1 - t0\\n\\n    return pd.Series(\\n        {\\n            \\\"p_hat\\\": p_hat,\\n            \\\"hdi_3%\\\": hdi[0],\\n            \\\"hdi_97%\\\": hdi[1],\\n            \\\"runtime\\\": deltat,\\n            \\\"sample_time\\\": sample_time,\\n        }\\n    )\";\n                var nbb_cells = Jupyter.notebook.get_cells();\n                for (var i = 0; i < nbb_cells.length; ++i) {\n                    if (nbb_cells[i].input_prompt_number == nbb_cell_id) {\n                        if (nbb_cells[i].get_text() == nbb_unformatted_code) {\n                             nbb_cells[i].set_text(nbb_formatted_code);\n                        }\n                        break;\n                    }\n                }\n            }, 500);\n            ",
      "text/plain": [
       "<IPython.core.display.Javascript object>"
      ]
     },
     "metadata": {}
    }
   ],
   "metadata": {}
  },
  {
   "cell_type": "code",
   "execution_count": 48,
   "source": [
    "results_agg = pdf.groupby(\"size\").apply(pandas_bernoulli_model_agg)"
   ],
   "outputs": [
    {
     "output_type": "stream",
     "name": "stderr",
     "text": [
      "Auto-assigning NUTS sampler...\n",
      "Initializing NUTS using jitter+adapt_diag...\n",
      "Multiprocess sampling (4 chains in 4 jobs)\n",
      "NUTS: [p]\n"
     ]
    },
    {
     "output_type": "display_data",
     "data": {
      "text/html": [
       "\n",
       "    <div>\n",
       "        <style>\n",
       "            /* Turns off some styling */\n",
       "            progress {\n",
       "                /* gets rid of default border in Firefox and Opera. */\n",
       "                border: none;\n",
       "                /* Needs to be in here for Safari polyfill so background images work as expected. */\n",
       "                background-size: auto;\n",
       "            }\n",
       "            .progress-bar-interrupted, .progress-bar-interrupted::-webkit-progress-bar {\n",
       "                background: #F44336;\n",
       "            }\n",
       "        </style>\n",
       "      <progress value='8000' class='' max='8000' style='width:300px; height:20px; vertical-align: middle;'></progress>\n",
       "      100.00% [8000/8000 00:01<00:00 Sampling 4 chains, 0 divergences]\n",
       "    </div>\n",
       "    "
      ],
      "text/plain": [
       "<IPython.core.display.HTML object>"
      ]
     },
     "metadata": {}
    },
    {
     "output_type": "stream",
     "name": "stderr",
     "text": [
      "Sampling 4 chains for 1_000 tune and 1_000 draw iterations (4_000 + 4_000 draws total) took 12 seconds.\n",
      "The acceptance probability does not match the target. It is 0.8883089558104506, but should be close to 0.8. Try to increase the number of tuning steps.\n",
      "Auto-assigning NUTS sampler...\n",
      "Initializing NUTS using jitter+adapt_diag...\n",
      "Multiprocess sampling (4 chains in 4 jobs)\n",
      "NUTS: [p]\n"
     ]
    },
    {
     "output_type": "display_data",
     "data": {
      "text/html": [
       "\n",
       "    <div>\n",
       "        <style>\n",
       "            /* Turns off some styling */\n",
       "            progress {\n",
       "                /* gets rid of default border in Firefox and Opera. */\n",
       "                border: none;\n",
       "                /* Needs to be in here for Safari polyfill so background images work as expected. */\n",
       "                background-size: auto;\n",
       "            }\n",
       "            .progress-bar-interrupted, .progress-bar-interrupted::-webkit-progress-bar {\n",
       "                background: #F44336;\n",
       "            }\n",
       "        </style>\n",
       "      <progress value='8000' class='' max='8000' style='width:300px; height:20px; vertical-align: middle;'></progress>\n",
       "      100.00% [8000/8000 00:01<00:00 Sampling 4 chains, 0 divergences]\n",
       "    </div>\n",
       "    "
      ],
      "text/plain": [
       "<IPython.core.display.HTML object>"
      ]
     },
     "metadata": {}
    },
    {
     "output_type": "stream",
     "name": "stderr",
     "text": [
      "Sampling 4 chains for 1_000 tune and 1_000 draw iterations (4_000 + 4_000 draws total) took 10 seconds.\n",
      "Auto-assigning NUTS sampler...\n",
      "Initializing NUTS using jitter+adapt_diag...\n",
      "Multiprocess sampling (4 chains in 4 jobs)\n",
      "NUTS: [p]\n"
     ]
    },
    {
     "output_type": "display_data",
     "data": {
      "text/html": [
       "\n",
       "    <div>\n",
       "        <style>\n",
       "            /* Turns off some styling */\n",
       "            progress {\n",
       "                /* gets rid of default border in Firefox and Opera. */\n",
       "                border: none;\n",
       "                /* Needs to be in here for Safari polyfill so background images work as expected. */\n",
       "                background-size: auto;\n",
       "            }\n",
       "            .progress-bar-interrupted, .progress-bar-interrupted::-webkit-progress-bar {\n",
       "                background: #F44336;\n",
       "            }\n",
       "        </style>\n",
       "      <progress value='8000' class='' max='8000' style='width:300px; height:20px; vertical-align: middle;'></progress>\n",
       "      100.00% [8000/8000 00:01<00:00 Sampling 4 chains, 0 divergences]\n",
       "    </div>\n",
       "    "
      ],
      "text/plain": [
       "<IPython.core.display.HTML object>"
      ]
     },
     "metadata": {}
    },
    {
     "output_type": "stream",
     "name": "stderr",
     "text": [
      "Sampling 4 chains for 1_000 tune and 1_000 draw iterations (4_000 + 4_000 draws total) took 10 seconds.\n",
      "The acceptance probability does not match the target. It is 0.8843723247113201, but should be close to 0.8. Try to increase the number of tuning steps.\n",
      "Auto-assigning NUTS sampler...\n",
      "Initializing NUTS using jitter+adapt_diag...\n",
      "Multiprocess sampling (4 chains in 4 jobs)\n",
      "NUTS: [p]\n"
     ]
    },
    {
     "output_type": "display_data",
     "data": {
      "text/html": [
       "\n",
       "    <div>\n",
       "        <style>\n",
       "            /* Turns off some styling */\n",
       "            progress {\n",
       "                /* gets rid of default border in Firefox and Opera. */\n",
       "                border: none;\n",
       "                /* Needs to be in here for Safari polyfill so background images work as expected. */\n",
       "                background-size: auto;\n",
       "            }\n",
       "            .progress-bar-interrupted, .progress-bar-interrupted::-webkit-progress-bar {\n",
       "                background: #F44336;\n",
       "            }\n",
       "        </style>\n",
       "      <progress value='8000' class='' max='8000' style='width:300px; height:20px; vertical-align: middle;'></progress>\n",
       "      100.00% [8000/8000 00:01<00:00 Sampling 4 chains, 0 divergences]\n",
       "    </div>\n",
       "    "
      ],
      "text/plain": [
       "<IPython.core.display.HTML object>"
      ]
     },
     "metadata": {}
    },
    {
     "output_type": "stream",
     "name": "stderr",
     "text": [
      "Sampling 4 chains for 1_000 tune and 1_000 draw iterations (4_000 + 4_000 draws total) took 10 seconds.\n",
      "Auto-assigning NUTS sampler...\n",
      "Initializing NUTS using jitter+adapt_diag...\n",
      "Multiprocess sampling (4 chains in 4 jobs)\n",
      "NUTS: [p]\n"
     ]
    },
    {
     "output_type": "display_data",
     "data": {
      "text/html": [
       "\n",
       "    <div>\n",
       "        <style>\n",
       "            /* Turns off some styling */\n",
       "            progress {\n",
       "                /* gets rid of default border in Firefox and Opera. */\n",
       "                border: none;\n",
       "                /* Needs to be in here for Safari polyfill so background images work as expected. */\n",
       "                background-size: auto;\n",
       "            }\n",
       "            .progress-bar-interrupted, .progress-bar-interrupted::-webkit-progress-bar {\n",
       "                background: #F44336;\n",
       "            }\n",
       "        </style>\n",
       "      <progress value='8000' class='' max='8000' style='width:300px; height:20px; vertical-align: middle;'></progress>\n",
       "      100.00% [8000/8000 00:01<00:00 Sampling 4 chains, 0 divergences]\n",
       "    </div>\n",
       "    "
      ],
      "text/plain": [
       "<IPython.core.display.HTML object>"
      ]
     },
     "metadata": {}
    },
    {
     "output_type": "stream",
     "name": "stderr",
     "text": [
      "Sampling 4 chains for 1_000 tune and 1_000 draw iterations (4_000 + 4_000 draws total) took 10 seconds.\n",
      "Auto-assigning NUTS sampler...\n",
      "Initializing NUTS using jitter+adapt_diag...\n",
      "Multiprocess sampling (4 chains in 4 jobs)\n",
      "NUTS: [p]\n"
     ]
    },
    {
     "output_type": "display_data",
     "data": {
      "text/html": [
       "\n",
       "    <div>\n",
       "        <style>\n",
       "            /* Turns off some styling */\n",
       "            progress {\n",
       "                /* gets rid of default border in Firefox and Opera. */\n",
       "                border: none;\n",
       "                /* Needs to be in here for Safari polyfill so background images work as expected. */\n",
       "                background-size: auto;\n",
       "            }\n",
       "            .progress-bar-interrupted, .progress-bar-interrupted::-webkit-progress-bar {\n",
       "                background: #F44336;\n",
       "            }\n",
       "        </style>\n",
       "      <progress value='8000' class='' max='8000' style='width:300px; height:20px; vertical-align: middle;'></progress>\n",
       "      100.00% [8000/8000 00:01<00:00 Sampling 4 chains, 0 divergences]\n",
       "    </div>\n",
       "    "
      ],
      "text/plain": [
       "<IPython.core.display.HTML object>"
      ]
     },
     "metadata": {}
    },
    {
     "output_type": "stream",
     "name": "stderr",
     "text": [
      "Sampling 4 chains for 1_000 tune and 1_000 draw iterations (4_000 + 4_000 draws total) took 10 seconds.\n"
     ]
    },
    {
     "output_type": "display_data",
     "data": {
      "application/javascript": "\n            setTimeout(function() {\n                var nbb_cell_id = 48;\n                var nbb_unformatted_code = \"results_agg = pdf.groupby(\\\"size\\\").apply(pandas_bernoulli_model_agg)\";\n                var nbb_formatted_code = \"results_agg = pdf.groupby(\\\"size\\\").apply(pandas_bernoulli_model_agg)\";\n                var nbb_cells = Jupyter.notebook.get_cells();\n                for (var i = 0; i < nbb_cells.length; ++i) {\n                    if (nbb_cells[i].input_prompt_number == nbb_cell_id) {\n                        if (nbb_cells[i].get_text() == nbb_unformatted_code) {\n                             nbb_cells[i].set_text(nbb_formatted_code);\n                        }\n                        break;\n                    }\n                }\n            }, 500);\n            ",
      "text/plain": [
       "<IPython.core.display.Javascript object>"
      ]
     },
     "metadata": {}
    }
   ],
   "metadata": {
    "scrolled": true
   }
  },
  {
   "cell_type": "code",
   "execution_count": 49,
   "source": [
    "results_agg.assign(runtime=lambda x: x.runtime.dt.total_seconds())"
   ],
   "outputs": [
    {
     "output_type": "execute_result",
     "data": {
      "text/html": [
       "<div>\n",
       "<style scoped>\n",
       "    .dataframe tbody tr th:only-of-type {\n",
       "        vertical-align: middle;\n",
       "    }\n",
       "\n",
       "    .dataframe tbody tr th {\n",
       "        vertical-align: top;\n",
       "    }\n",
       "\n",
       "    .dataframe thead th {\n",
       "        text-align: right;\n",
       "    }\n",
       "</style>\n",
       "<table border=\"1\" class=\"dataframe\">\n",
       "  <thead>\n",
       "    <tr style=\"text-align: right;\">\n",
       "      <th></th>\n",
       "      <th>p_hat</th>\n",
       "      <th>hdi_3%</th>\n",
       "      <th>hdi_97%</th>\n",
       "      <th>runtime</th>\n",
       "      <th>sample_time</th>\n",
       "    </tr>\n",
       "    <tr>\n",
       "      <th>size</th>\n",
       "      <th></th>\n",
       "      <th></th>\n",
       "      <th></th>\n",
       "      <th></th>\n",
       "      <th></th>\n",
       "    </tr>\n",
       "  </thead>\n",
       "  <tbody>\n",
       "    <tr>\n",
       "      <th>10</th>\n",
       "      <td>0.751236</td>\n",
       "      <td>0.537472</td>\n",
       "      <td>0.954397</td>\n",
       "      <td>12.603707</td>\n",
       "      <td>11.556741</td>\n",
       "    </tr>\n",
       "    <tr>\n",
       "      <th>100</th>\n",
       "      <td>0.752583</td>\n",
       "      <td>0.673767</td>\n",
       "      <td>0.832658</td>\n",
       "      <td>11.125611</td>\n",
       "      <td>10.210250</td>\n",
       "    </tr>\n",
       "    <tr>\n",
       "      <th>1000</th>\n",
       "      <td>0.756531</td>\n",
       "      <td>0.732278</td>\n",
       "      <td>0.781910</td>\n",
       "      <td>11.365488</td>\n",
       "      <td>10.353999</td>\n",
       "    </tr>\n",
       "    <tr>\n",
       "      <th>10000</th>\n",
       "      <td>0.758663</td>\n",
       "      <td>0.750756</td>\n",
       "      <td>0.766811</td>\n",
       "      <td>11.152941</td>\n",
       "      <td>10.139856</td>\n",
       "    </tr>\n",
       "    <tr>\n",
       "      <th>100000</th>\n",
       "      <td>0.750546</td>\n",
       "      <td>0.748079</td>\n",
       "      <td>0.753195</td>\n",
       "      <td>11.106577</td>\n",
       "      <td>10.113874</td>\n",
       "    </tr>\n",
       "    <tr>\n",
       "      <th>1000000</th>\n",
       "      <td>0.749875</td>\n",
       "      <td>0.749066</td>\n",
       "      <td>0.750688</td>\n",
       "      <td>11.113571</td>\n",
       "      <td>10.091803</td>\n",
       "    </tr>\n",
       "  </tbody>\n",
       "</table>\n",
       "</div>"
      ],
      "text/plain": [
       "            p_hat    hdi_3%   hdi_97%    runtime  sample_time\n",
       "size                                                         \n",
       "10       0.751236  0.537472  0.954397  12.603707    11.556741\n",
       "100      0.752583  0.673767  0.832658  11.125611    10.210250\n",
       "1000     0.756531  0.732278  0.781910  11.365488    10.353999\n",
       "10000    0.758663  0.750756  0.766811  11.152941    10.139856\n",
       "100000   0.750546  0.748079  0.753195  11.106577    10.113874\n",
       "1000000  0.749875  0.749066  0.750688  11.113571    10.091803"
      ]
     },
     "metadata": {},
     "execution_count": 49
    },
    {
     "output_type": "display_data",
     "data": {
      "application/javascript": "\n            setTimeout(function() {\n                var nbb_cell_id = 49;\n                var nbb_unformatted_code = \"results_agg.assign(runtime=lambda x: x.runtime.dt.total_seconds())\";\n                var nbb_formatted_code = \"results_agg.assign(runtime=lambda x: x.runtime.dt.total_seconds())\";\n                var nbb_cells = Jupyter.notebook.get_cells();\n                for (var i = 0; i < nbb_cells.length; ++i) {\n                    if (nbb_cells[i].input_prompt_number == nbb_cell_id) {\n                        if (nbb_cells[i].get_text() == nbb_unformatted_code) {\n                             nbb_cells[i].set_text(nbb_formatted_code);\n                        }\n                        break;\n                    }\n                }\n            }, 500);\n            ",
      "text/plain": [
       "<IPython.core.display.Javascript object>"
      ]
     },
     "metadata": {}
    }
   ],
   "metadata": {}
  },
  {
   "cell_type": "code",
   "execution_count": 68,
   "source": [
    "plot_results(results_agg, \"p_hat\", p_true)"
   ],
   "outputs": [
    {
     "output_type": "display_data",
     "data": {
      "application/vnd.plotly.v1+json": {
       "config": {
        "plotlyServerURL": "https://plot.ly"
       },
       "data": [
        {
         "fill": "toself",
         "fillcolor": "rgba(0,100,80,0.2)",
         "line": {
          "color": "rgba(255,255,255,0)"
         },
         "name": "HDI Bands (94%)",
         "type": "scatter",
         "x": [
          10,
          100,
          1000,
          10000,
          100000,
          1000000,
          1000000,
          100000,
          10000,
          1000,
          100,
          10
         ],
         "y": [
          0.9543967903074604,
          0.8326577410442892,
          0.7819097397960533,
          0.7668113416813187,
          0.7531945148816191,
          0.750687605367866,
          0.7490664869447323,
          0.7480786990982374,
          0.7507556692024929,
          0.7322778451167038,
          0.6737667910866784,
          0.5374723584620893
         ]
        },
        {
         "line": {
          "color": "rgb(0,100,80)"
         },
         "mode": "lines",
         "name": "Mean",
         "type": "scatter",
         "x": [
          10,
          100,
          1000,
          10000,
          100000,
          1000000
         ],
         "y": [
          0.7512364442381076,
          0.752583191248085,
          0.756531170932735,
          0.7586632752332209,
          0.7505461089195005,
          0.7498751982308713
         ]
        },
        {
         "mode": "lines",
         "name": "Runtime",
         "type": "scatter",
         "x": [
          10,
          100,
          1000,
          10000,
          100000,
          1000000
         ],
         "xaxis": "x",
         "y": [
          11.556740999221802,
          10.210249900817871,
          10.353999137878418,
          10.139855861663818,
          10.113873958587646,
          10.091803073883057
         ],
         "yaxis": "y2"
        }
       ],
       "layout": {
        "shapes": [
         {
          "line": {
           "dash": "dash"
          },
          "name": "True Value",
          "type": "line",
          "x0": 0,
          "x1": 1,
          "xref": "x domain",
          "y0": 0.75,
          "y1": 0.75,
          "yref": "y"
         }
        ],
        "template": {
         "data": {
          "bar": [
           {
            "error_x": {
             "color": "#2a3f5f"
            },
            "error_y": {
             "color": "#2a3f5f"
            },
            "marker": {
             "line": {
              "color": "#E5ECF6",
              "width": 0.5
             },
             "pattern": {
              "fillmode": "overlay",
              "size": 10,
              "solidity": 0.2
             }
            },
            "type": "bar"
           }
          ],
          "barpolar": [
           {
            "marker": {
             "line": {
              "color": "#E5ECF6",
              "width": 0.5
             },
             "pattern": {
              "fillmode": "overlay",
              "size": 10,
              "solidity": 0.2
             }
            },
            "type": "barpolar"
           }
          ],
          "carpet": [
           {
            "aaxis": {
             "endlinecolor": "#2a3f5f",
             "gridcolor": "white",
             "linecolor": "white",
             "minorgridcolor": "white",
             "startlinecolor": "#2a3f5f"
            },
            "baxis": {
             "endlinecolor": "#2a3f5f",
             "gridcolor": "white",
             "linecolor": "white",
             "minorgridcolor": "white",
             "startlinecolor": "#2a3f5f"
            },
            "type": "carpet"
           }
          ],
          "choropleth": [
           {
            "colorbar": {
             "outlinewidth": 0,
             "ticks": ""
            },
            "type": "choropleth"
           }
          ],
          "contour": [
           {
            "colorbar": {
             "outlinewidth": 0,
             "ticks": ""
            },
            "colorscale": [
             [
              0,
              "#0d0887"
             ],
             [
              0.1111111111111111,
              "#46039f"
             ],
             [
              0.2222222222222222,
              "#7201a8"
             ],
             [
              0.3333333333333333,
              "#9c179e"
             ],
             [
              0.4444444444444444,
              "#bd3786"
             ],
             [
              0.5555555555555556,
              "#d8576b"
             ],
             [
              0.6666666666666666,
              "#ed7953"
             ],
             [
              0.7777777777777778,
              "#fb9f3a"
             ],
             [
              0.8888888888888888,
              "#fdca26"
             ],
             [
              1,
              "#f0f921"
             ]
            ],
            "type": "contour"
           }
          ],
          "contourcarpet": [
           {
            "colorbar": {
             "outlinewidth": 0,
             "ticks": ""
            },
            "type": "contourcarpet"
           }
          ],
          "heatmap": [
           {
            "colorbar": {
             "outlinewidth": 0,
             "ticks": ""
            },
            "colorscale": [
             [
              0,
              "#0d0887"
             ],
             [
              0.1111111111111111,
              "#46039f"
             ],
             [
              0.2222222222222222,
              "#7201a8"
             ],
             [
              0.3333333333333333,
              "#9c179e"
             ],
             [
              0.4444444444444444,
              "#bd3786"
             ],
             [
              0.5555555555555556,
              "#d8576b"
             ],
             [
              0.6666666666666666,
              "#ed7953"
             ],
             [
              0.7777777777777778,
              "#fb9f3a"
             ],
             [
              0.8888888888888888,
              "#fdca26"
             ],
             [
              1,
              "#f0f921"
             ]
            ],
            "type": "heatmap"
           }
          ],
          "heatmapgl": [
           {
            "colorbar": {
             "outlinewidth": 0,
             "ticks": ""
            },
            "colorscale": [
             [
              0,
              "#0d0887"
             ],
             [
              0.1111111111111111,
              "#46039f"
             ],
             [
              0.2222222222222222,
              "#7201a8"
             ],
             [
              0.3333333333333333,
              "#9c179e"
             ],
             [
              0.4444444444444444,
              "#bd3786"
             ],
             [
              0.5555555555555556,
              "#d8576b"
             ],
             [
              0.6666666666666666,
              "#ed7953"
             ],
             [
              0.7777777777777778,
              "#fb9f3a"
             ],
             [
              0.8888888888888888,
              "#fdca26"
             ],
             [
              1,
              "#f0f921"
             ]
            ],
            "type": "heatmapgl"
           }
          ],
          "histogram": [
           {
            "marker": {
             "pattern": {
              "fillmode": "overlay",
              "size": 10,
              "solidity": 0.2
             }
            },
            "type": "histogram"
           }
          ],
          "histogram2d": [
           {
            "colorbar": {
             "outlinewidth": 0,
             "ticks": ""
            },
            "colorscale": [
             [
              0,
              "#0d0887"
             ],
             [
              0.1111111111111111,
              "#46039f"
             ],
             [
              0.2222222222222222,
              "#7201a8"
             ],
             [
              0.3333333333333333,
              "#9c179e"
             ],
             [
              0.4444444444444444,
              "#bd3786"
             ],
             [
              0.5555555555555556,
              "#d8576b"
             ],
             [
              0.6666666666666666,
              "#ed7953"
             ],
             [
              0.7777777777777778,
              "#fb9f3a"
             ],
             [
              0.8888888888888888,
              "#fdca26"
             ],
             [
              1,
              "#f0f921"
             ]
            ],
            "type": "histogram2d"
           }
          ],
          "histogram2dcontour": [
           {
            "colorbar": {
             "outlinewidth": 0,
             "ticks": ""
            },
            "colorscale": [
             [
              0,
              "#0d0887"
             ],
             [
              0.1111111111111111,
              "#46039f"
             ],
             [
              0.2222222222222222,
              "#7201a8"
             ],
             [
              0.3333333333333333,
              "#9c179e"
             ],
             [
              0.4444444444444444,
              "#bd3786"
             ],
             [
              0.5555555555555556,
              "#d8576b"
             ],
             [
              0.6666666666666666,
              "#ed7953"
             ],
             [
              0.7777777777777778,
              "#fb9f3a"
             ],
             [
              0.8888888888888888,
              "#fdca26"
             ],
             [
              1,
              "#f0f921"
             ]
            ],
            "type": "histogram2dcontour"
           }
          ],
          "mesh3d": [
           {
            "colorbar": {
             "outlinewidth": 0,
             "ticks": ""
            },
            "type": "mesh3d"
           }
          ],
          "parcoords": [
           {
            "line": {
             "colorbar": {
              "outlinewidth": 0,
              "ticks": ""
             }
            },
            "type": "parcoords"
           }
          ],
          "pie": [
           {
            "automargin": true,
            "type": "pie"
           }
          ],
          "scatter": [
           {
            "marker": {
             "colorbar": {
              "outlinewidth": 0,
              "ticks": ""
             }
            },
            "type": "scatter"
           }
          ],
          "scatter3d": [
           {
            "line": {
             "colorbar": {
              "outlinewidth": 0,
              "ticks": ""
             }
            },
            "marker": {
             "colorbar": {
              "outlinewidth": 0,
              "ticks": ""
             }
            },
            "type": "scatter3d"
           }
          ],
          "scattercarpet": [
           {
            "marker": {
             "colorbar": {
              "outlinewidth": 0,
              "ticks": ""
             }
            },
            "type": "scattercarpet"
           }
          ],
          "scattergeo": [
           {
            "marker": {
             "colorbar": {
              "outlinewidth": 0,
              "ticks": ""
             }
            },
            "type": "scattergeo"
           }
          ],
          "scattergl": [
           {
            "marker": {
             "colorbar": {
              "outlinewidth": 0,
              "ticks": ""
             }
            },
            "type": "scattergl"
           }
          ],
          "scattermapbox": [
           {
            "marker": {
             "colorbar": {
              "outlinewidth": 0,
              "ticks": ""
             }
            },
            "type": "scattermapbox"
           }
          ],
          "scatterpolar": [
           {
            "marker": {
             "colorbar": {
              "outlinewidth": 0,
              "ticks": ""
             }
            },
            "type": "scatterpolar"
           }
          ],
          "scatterpolargl": [
           {
            "marker": {
             "colorbar": {
              "outlinewidth": 0,
              "ticks": ""
             }
            },
            "type": "scatterpolargl"
           }
          ],
          "scatterternary": [
           {
            "marker": {
             "colorbar": {
              "outlinewidth": 0,
              "ticks": ""
             }
            },
            "type": "scatterternary"
           }
          ],
          "surface": [
           {
            "colorbar": {
             "outlinewidth": 0,
             "ticks": ""
            },
            "colorscale": [
             [
              0,
              "#0d0887"
             ],
             [
              0.1111111111111111,
              "#46039f"
             ],
             [
              0.2222222222222222,
              "#7201a8"
             ],
             [
              0.3333333333333333,
              "#9c179e"
             ],
             [
              0.4444444444444444,
              "#bd3786"
             ],
             [
              0.5555555555555556,
              "#d8576b"
             ],
             [
              0.6666666666666666,
              "#ed7953"
             ],
             [
              0.7777777777777778,
              "#fb9f3a"
             ],
             [
              0.8888888888888888,
              "#fdca26"
             ],
             [
              1,
              "#f0f921"
             ]
            ],
            "type": "surface"
           }
          ],
          "table": [
           {
            "cells": {
             "fill": {
              "color": "#EBF0F8"
             },
             "line": {
              "color": "white"
             }
            },
            "header": {
             "fill": {
              "color": "#C8D4E3"
             },
             "line": {
              "color": "white"
             }
            },
            "type": "table"
           }
          ]
         },
         "layout": {
          "annotationdefaults": {
           "arrowcolor": "#2a3f5f",
           "arrowhead": 0,
           "arrowwidth": 1
          },
          "autotypenumbers": "strict",
          "coloraxis": {
           "colorbar": {
            "outlinewidth": 0,
            "ticks": ""
           }
          },
          "colorscale": {
           "diverging": [
            [
             0,
             "#8e0152"
            ],
            [
             0.1,
             "#c51b7d"
            ],
            [
             0.2,
             "#de77ae"
            ],
            [
             0.3,
             "#f1b6da"
            ],
            [
             0.4,
             "#fde0ef"
            ],
            [
             0.5,
             "#f7f7f7"
            ],
            [
             0.6,
             "#e6f5d0"
            ],
            [
             0.7,
             "#b8e186"
            ],
            [
             0.8,
             "#7fbc41"
            ],
            [
             0.9,
             "#4d9221"
            ],
            [
             1,
             "#276419"
            ]
           ],
           "sequential": [
            [
             0,
             "#0d0887"
            ],
            [
             0.1111111111111111,
             "#46039f"
            ],
            [
             0.2222222222222222,
             "#7201a8"
            ],
            [
             0.3333333333333333,
             "#9c179e"
            ],
            [
             0.4444444444444444,
             "#bd3786"
            ],
            [
             0.5555555555555556,
             "#d8576b"
            ],
            [
             0.6666666666666666,
             "#ed7953"
            ],
            [
             0.7777777777777778,
             "#fb9f3a"
            ],
            [
             0.8888888888888888,
             "#fdca26"
            ],
            [
             1,
             "#f0f921"
            ]
           ],
           "sequentialminus": [
            [
             0,
             "#0d0887"
            ],
            [
             0.1111111111111111,
             "#46039f"
            ],
            [
             0.2222222222222222,
             "#7201a8"
            ],
            [
             0.3333333333333333,
             "#9c179e"
            ],
            [
             0.4444444444444444,
             "#bd3786"
            ],
            [
             0.5555555555555556,
             "#d8576b"
            ],
            [
             0.6666666666666666,
             "#ed7953"
            ],
            [
             0.7777777777777778,
             "#fb9f3a"
            ],
            [
             0.8888888888888888,
             "#fdca26"
            ],
            [
             1,
             "#f0f921"
            ]
           ]
          },
          "colorway": [
           "#636efa",
           "#EF553B",
           "#00cc96",
           "#ab63fa",
           "#FFA15A",
           "#19d3f3",
           "#FF6692",
           "#B6E880",
           "#FF97FF",
           "#FECB52"
          ],
          "font": {
           "color": "#2a3f5f"
          },
          "geo": {
           "bgcolor": "white",
           "lakecolor": "white",
           "landcolor": "#E5ECF6",
           "showlakes": true,
           "showland": true,
           "subunitcolor": "white"
          },
          "hoverlabel": {
           "align": "left"
          },
          "hovermode": "closest",
          "mapbox": {
           "style": "light"
          },
          "paper_bgcolor": "white",
          "plot_bgcolor": "#E5ECF6",
          "polar": {
           "angularaxis": {
            "gridcolor": "white",
            "linecolor": "white",
            "ticks": ""
           },
           "bgcolor": "#E5ECF6",
           "radialaxis": {
            "gridcolor": "white",
            "linecolor": "white",
            "ticks": ""
           }
          },
          "scene": {
           "xaxis": {
            "backgroundcolor": "#E5ECF6",
            "gridcolor": "white",
            "gridwidth": 2,
            "linecolor": "white",
            "showbackground": true,
            "ticks": "",
            "zerolinecolor": "white"
           },
           "yaxis": {
            "backgroundcolor": "#E5ECF6",
            "gridcolor": "white",
            "gridwidth": 2,
            "linecolor": "white",
            "showbackground": true,
            "ticks": "",
            "zerolinecolor": "white"
           },
           "zaxis": {
            "backgroundcolor": "#E5ECF6",
            "gridcolor": "white",
            "gridwidth": 2,
            "linecolor": "white",
            "showbackground": true,
            "ticks": "",
            "zerolinecolor": "white"
           }
          },
          "shapedefaults": {
           "line": {
            "color": "#2a3f5f"
           }
          },
          "ternary": {
           "aaxis": {
            "gridcolor": "white",
            "linecolor": "white",
            "ticks": ""
           },
           "baxis": {
            "gridcolor": "white",
            "linecolor": "white",
            "ticks": ""
           },
           "bgcolor": "#E5ECF6",
           "caxis": {
            "gridcolor": "white",
            "linecolor": "white",
            "ticks": ""
           }
          },
          "title": {
           "x": 0.05
          },
          "xaxis": {
           "automargin": true,
           "gridcolor": "white",
           "linecolor": "white",
           "ticks": "",
           "title": {
            "standoff": 15
           },
           "zerolinecolor": "white",
           "zerolinewidth": 2
          },
          "yaxis": {
           "automargin": true,
           "gridcolor": "white",
           "linecolor": "white",
           "ticks": "",
           "title": {
            "standoff": 15
           },
           "zerolinecolor": "white",
           "zerolinewidth": 2
          }
         }
        },
        "xaxis": {
         "anchor": "y",
         "domain": [
          0,
          0.94
         ],
         "title": {
          "text": "Data Size (N)"
         },
         "type": "log"
        },
        "yaxis": {
         "anchor": "x",
         "domain": [
          0,
          1
         ],
         "title": {
          "text": "Probability"
         },
         "type": "log"
        },
        "yaxis2": {
         "anchor": "x",
         "overlaying": "y",
         "side": "right",
         "title": {
          "text": "Seconds"
         },
         "type": "log"
        }
       }
      },
      "text/html": [
       "<div>                            <div id=\"cefcd91a-8a4d-42ce-a40a-3081b990e2a7\" class=\"plotly-graph-div\" style=\"height:525px; width:100%;\"></div>            <script type=\"text/javascript\">                require([\"plotly\"], function(Plotly) {                    window.PLOTLYENV=window.PLOTLYENV || {};                                    if (document.getElementById(\"cefcd91a-8a4d-42ce-a40a-3081b990e2a7\")) {                    Plotly.newPlot(                        \"cefcd91a-8a4d-42ce-a40a-3081b990e2a7\",                        [{\"fill\":\"toself\",\"fillcolor\":\"rgba(0,100,80,0.2)\",\"line\":{\"color\":\"rgba(255,255,255,0)\"},\"name\":\"HDI Bands (94%)\",\"type\":\"scatter\",\"x\":[10,100,1000,10000,100000,1000000,1000000,100000,10000,1000,100,10],\"y\":[0.9543967903074604,0.8326577410442892,0.7819097397960533,0.7668113416813187,0.7531945148816191,0.750687605367866,0.7490664869447323,0.7480786990982374,0.7507556692024929,0.7322778451167038,0.6737667910866784,0.5374723584620893]},{\"line\":{\"color\":\"rgb(0,100,80)\"},\"mode\":\"lines\",\"name\":\"Mean\",\"type\":\"scatter\",\"x\":[10,100,1000,10000,100000,1000000],\"y\":[0.7512364442381076,0.752583191248085,0.756531170932735,0.7586632752332209,0.7505461089195005,0.7498751982308713]},{\"mode\":\"lines\",\"name\":\"Runtime\",\"type\":\"scatter\",\"x\":[10,100,1000,10000,100000,1000000],\"xaxis\":\"x\",\"y\":[11.556740999221802,10.210249900817871,10.353999137878418,10.139855861663818,10.113873958587646,10.091803073883057],\"yaxis\":\"y2\"}],                        {\"shapes\":[{\"line\":{\"dash\":\"dash\"},\"name\":\"True Value\",\"type\":\"line\",\"x0\":0,\"x1\":1,\"xref\":\"x domain\",\"y0\":0.75,\"y1\":0.75,\"yref\":\"y\"}],\"template\":{\"data\":{\"bar\":[{\"error_x\":{\"color\":\"#2a3f5f\"},\"error_y\":{\"color\":\"#2a3f5f\"},\"marker\":{\"line\":{\"color\":\"#E5ECF6\",\"width\":0.5},\"pattern\":{\"fillmode\":\"overlay\",\"size\":10,\"solidity\":0.2}},\"type\":\"bar\"}],\"barpolar\":[{\"marker\":{\"line\":{\"color\":\"#E5ECF6\",\"width\":0.5},\"pattern\":{\"fillmode\":\"overlay\",\"size\":10,\"solidity\":0.2}},\"type\":\"barpolar\"}],\"carpet\":[{\"aaxis\":{\"endlinecolor\":\"#2a3f5f\",\"gridcolor\":\"white\",\"linecolor\":\"white\",\"minorgridcolor\":\"white\",\"startlinecolor\":\"#2a3f5f\"},\"baxis\":{\"endlinecolor\":\"#2a3f5f\",\"gridcolor\":\"white\",\"linecolor\":\"white\",\"minorgridcolor\":\"white\",\"startlinecolor\":\"#2a3f5f\"},\"type\":\"carpet\"}],\"choropleth\":[{\"colorbar\":{\"outlinewidth\":0,\"ticks\":\"\"},\"type\":\"choropleth\"}],\"contour\":[{\"colorbar\":{\"outlinewidth\":0,\"ticks\":\"\"},\"colorscale\":[[0.0,\"#0d0887\"],[0.1111111111111111,\"#46039f\"],[0.2222222222222222,\"#7201a8\"],[0.3333333333333333,\"#9c179e\"],[0.4444444444444444,\"#bd3786\"],[0.5555555555555556,\"#d8576b\"],[0.6666666666666666,\"#ed7953\"],[0.7777777777777778,\"#fb9f3a\"],[0.8888888888888888,\"#fdca26\"],[1.0,\"#f0f921\"]],\"type\":\"contour\"}],\"contourcarpet\":[{\"colorbar\":{\"outlinewidth\":0,\"ticks\":\"\"},\"type\":\"contourcarpet\"}],\"heatmap\":[{\"colorbar\":{\"outlinewidth\":0,\"ticks\":\"\"},\"colorscale\":[[0.0,\"#0d0887\"],[0.1111111111111111,\"#46039f\"],[0.2222222222222222,\"#7201a8\"],[0.3333333333333333,\"#9c179e\"],[0.4444444444444444,\"#bd3786\"],[0.5555555555555556,\"#d8576b\"],[0.6666666666666666,\"#ed7953\"],[0.7777777777777778,\"#fb9f3a\"],[0.8888888888888888,\"#fdca26\"],[1.0,\"#f0f921\"]],\"type\":\"heatmap\"}],\"heatmapgl\":[{\"colorbar\":{\"outlinewidth\":0,\"ticks\":\"\"},\"colorscale\":[[0.0,\"#0d0887\"],[0.1111111111111111,\"#46039f\"],[0.2222222222222222,\"#7201a8\"],[0.3333333333333333,\"#9c179e\"],[0.4444444444444444,\"#bd3786\"],[0.5555555555555556,\"#d8576b\"],[0.6666666666666666,\"#ed7953\"],[0.7777777777777778,\"#fb9f3a\"],[0.8888888888888888,\"#fdca26\"],[1.0,\"#f0f921\"]],\"type\":\"heatmapgl\"}],\"histogram\":[{\"marker\":{\"pattern\":{\"fillmode\":\"overlay\",\"size\":10,\"solidity\":0.2}},\"type\":\"histogram\"}],\"histogram2d\":[{\"colorbar\":{\"outlinewidth\":0,\"ticks\":\"\"},\"colorscale\":[[0.0,\"#0d0887\"],[0.1111111111111111,\"#46039f\"],[0.2222222222222222,\"#7201a8\"],[0.3333333333333333,\"#9c179e\"],[0.4444444444444444,\"#bd3786\"],[0.5555555555555556,\"#d8576b\"],[0.6666666666666666,\"#ed7953\"],[0.7777777777777778,\"#fb9f3a\"],[0.8888888888888888,\"#fdca26\"],[1.0,\"#f0f921\"]],\"type\":\"histogram2d\"}],\"histogram2dcontour\":[{\"colorbar\":{\"outlinewidth\":0,\"ticks\":\"\"},\"colorscale\":[[0.0,\"#0d0887\"],[0.1111111111111111,\"#46039f\"],[0.2222222222222222,\"#7201a8\"],[0.3333333333333333,\"#9c179e\"],[0.4444444444444444,\"#bd3786\"],[0.5555555555555556,\"#d8576b\"],[0.6666666666666666,\"#ed7953\"],[0.7777777777777778,\"#fb9f3a\"],[0.8888888888888888,\"#fdca26\"],[1.0,\"#f0f921\"]],\"type\":\"histogram2dcontour\"}],\"mesh3d\":[{\"colorbar\":{\"outlinewidth\":0,\"ticks\":\"\"},\"type\":\"mesh3d\"}],\"parcoords\":[{\"line\":{\"colorbar\":{\"outlinewidth\":0,\"ticks\":\"\"}},\"type\":\"parcoords\"}],\"pie\":[{\"automargin\":true,\"type\":\"pie\"}],\"scatter\":[{\"marker\":{\"colorbar\":{\"outlinewidth\":0,\"ticks\":\"\"}},\"type\":\"scatter\"}],\"scatter3d\":[{\"line\":{\"colorbar\":{\"outlinewidth\":0,\"ticks\":\"\"}},\"marker\":{\"colorbar\":{\"outlinewidth\":0,\"ticks\":\"\"}},\"type\":\"scatter3d\"}],\"scattercarpet\":[{\"marker\":{\"colorbar\":{\"outlinewidth\":0,\"ticks\":\"\"}},\"type\":\"scattercarpet\"}],\"scattergeo\":[{\"marker\":{\"colorbar\":{\"outlinewidth\":0,\"ticks\":\"\"}},\"type\":\"scattergeo\"}],\"scattergl\":[{\"marker\":{\"colorbar\":{\"outlinewidth\":0,\"ticks\":\"\"}},\"type\":\"scattergl\"}],\"scattermapbox\":[{\"marker\":{\"colorbar\":{\"outlinewidth\":0,\"ticks\":\"\"}},\"type\":\"scattermapbox\"}],\"scatterpolar\":[{\"marker\":{\"colorbar\":{\"outlinewidth\":0,\"ticks\":\"\"}},\"type\":\"scatterpolar\"}],\"scatterpolargl\":[{\"marker\":{\"colorbar\":{\"outlinewidth\":0,\"ticks\":\"\"}},\"type\":\"scatterpolargl\"}],\"scatterternary\":[{\"marker\":{\"colorbar\":{\"outlinewidth\":0,\"ticks\":\"\"}},\"type\":\"scatterternary\"}],\"surface\":[{\"colorbar\":{\"outlinewidth\":0,\"ticks\":\"\"},\"colorscale\":[[0.0,\"#0d0887\"],[0.1111111111111111,\"#46039f\"],[0.2222222222222222,\"#7201a8\"],[0.3333333333333333,\"#9c179e\"],[0.4444444444444444,\"#bd3786\"],[0.5555555555555556,\"#d8576b\"],[0.6666666666666666,\"#ed7953\"],[0.7777777777777778,\"#fb9f3a\"],[0.8888888888888888,\"#fdca26\"],[1.0,\"#f0f921\"]],\"type\":\"surface\"}],\"table\":[{\"cells\":{\"fill\":{\"color\":\"#EBF0F8\"},\"line\":{\"color\":\"white\"}},\"header\":{\"fill\":{\"color\":\"#C8D4E3\"},\"line\":{\"color\":\"white\"}},\"type\":\"table\"}]},\"layout\":{\"annotationdefaults\":{\"arrowcolor\":\"#2a3f5f\",\"arrowhead\":0,\"arrowwidth\":1},\"autotypenumbers\":\"strict\",\"coloraxis\":{\"colorbar\":{\"outlinewidth\":0,\"ticks\":\"\"}},\"colorscale\":{\"diverging\":[[0,\"#8e0152\"],[0.1,\"#c51b7d\"],[0.2,\"#de77ae\"],[0.3,\"#f1b6da\"],[0.4,\"#fde0ef\"],[0.5,\"#f7f7f7\"],[0.6,\"#e6f5d0\"],[0.7,\"#b8e186\"],[0.8,\"#7fbc41\"],[0.9,\"#4d9221\"],[1,\"#276419\"]],\"sequential\":[[0.0,\"#0d0887\"],[0.1111111111111111,\"#46039f\"],[0.2222222222222222,\"#7201a8\"],[0.3333333333333333,\"#9c179e\"],[0.4444444444444444,\"#bd3786\"],[0.5555555555555556,\"#d8576b\"],[0.6666666666666666,\"#ed7953\"],[0.7777777777777778,\"#fb9f3a\"],[0.8888888888888888,\"#fdca26\"],[1.0,\"#f0f921\"]],\"sequentialminus\":[[0.0,\"#0d0887\"],[0.1111111111111111,\"#46039f\"],[0.2222222222222222,\"#7201a8\"],[0.3333333333333333,\"#9c179e\"],[0.4444444444444444,\"#bd3786\"],[0.5555555555555556,\"#d8576b\"],[0.6666666666666666,\"#ed7953\"],[0.7777777777777778,\"#fb9f3a\"],[0.8888888888888888,\"#fdca26\"],[1.0,\"#f0f921\"]]},\"colorway\":[\"#636efa\",\"#EF553B\",\"#00cc96\",\"#ab63fa\",\"#FFA15A\",\"#19d3f3\",\"#FF6692\",\"#B6E880\",\"#FF97FF\",\"#FECB52\"],\"font\":{\"color\":\"#2a3f5f\"},\"geo\":{\"bgcolor\":\"white\",\"lakecolor\":\"white\",\"landcolor\":\"#E5ECF6\",\"showlakes\":true,\"showland\":true,\"subunitcolor\":\"white\"},\"hoverlabel\":{\"align\":\"left\"},\"hovermode\":\"closest\",\"mapbox\":{\"style\":\"light\"},\"paper_bgcolor\":\"white\",\"plot_bgcolor\":\"#E5ECF6\",\"polar\":{\"angularaxis\":{\"gridcolor\":\"white\",\"linecolor\":\"white\",\"ticks\":\"\"},\"bgcolor\":\"#E5ECF6\",\"radialaxis\":{\"gridcolor\":\"white\",\"linecolor\":\"white\",\"ticks\":\"\"}},\"scene\":{\"xaxis\":{\"backgroundcolor\":\"#E5ECF6\",\"gridcolor\":\"white\",\"gridwidth\":2,\"linecolor\":\"white\",\"showbackground\":true,\"ticks\":\"\",\"zerolinecolor\":\"white\"},\"yaxis\":{\"backgroundcolor\":\"#E5ECF6\",\"gridcolor\":\"white\",\"gridwidth\":2,\"linecolor\":\"white\",\"showbackground\":true,\"ticks\":\"\",\"zerolinecolor\":\"white\"},\"zaxis\":{\"backgroundcolor\":\"#E5ECF6\",\"gridcolor\":\"white\",\"gridwidth\":2,\"linecolor\":\"white\",\"showbackground\":true,\"ticks\":\"\",\"zerolinecolor\":\"white\"}},\"shapedefaults\":{\"line\":{\"color\":\"#2a3f5f\"}},\"ternary\":{\"aaxis\":{\"gridcolor\":\"white\",\"linecolor\":\"white\",\"ticks\":\"\"},\"baxis\":{\"gridcolor\":\"white\",\"linecolor\":\"white\",\"ticks\":\"\"},\"bgcolor\":\"#E5ECF6\",\"caxis\":{\"gridcolor\":\"white\",\"linecolor\":\"white\",\"ticks\":\"\"}},\"title\":{\"x\":0.05},\"xaxis\":{\"automargin\":true,\"gridcolor\":\"white\",\"linecolor\":\"white\",\"ticks\":\"\",\"title\":{\"standoff\":15},\"zerolinecolor\":\"white\",\"zerolinewidth\":2},\"yaxis\":{\"automargin\":true,\"gridcolor\":\"white\",\"linecolor\":\"white\",\"ticks\":\"\",\"title\":{\"standoff\":15},\"zerolinecolor\":\"white\",\"zerolinewidth\":2}}},\"xaxis\":{\"anchor\":\"y\",\"domain\":[0.0,0.94],\"title\":{\"text\":\"Data Size (N)\"},\"type\":\"log\"},\"yaxis\":{\"anchor\":\"x\",\"domain\":[0.0,1.0],\"title\":{\"text\":\"Probability\"},\"type\":\"log\"},\"yaxis2\":{\"anchor\":\"x\",\"overlaying\":\"y\",\"side\":\"right\",\"title\":{\"text\":\"Seconds\"},\"type\":\"log\"}},                        {\"responsive\": true}                    ).then(function(){\n",
       "                            \n",
       "var gd = document.getElementById('cefcd91a-8a4d-42ce-a40a-3081b990e2a7');\n",
       "var x = new MutationObserver(function (mutations, observer) {{\n",
       "        var display = window.getComputedStyle(gd).display;\n",
       "        if (!display || display === 'none') {{\n",
       "            console.log([gd, 'removed!']);\n",
       "            Plotly.purge(gd);\n",
       "            observer.disconnect();\n",
       "        }}\n",
       "}});\n",
       "\n",
       "// Listen for the removal of the full notebook cells\n",
       "var notebookContainer = gd.closest('#notebook-container');\n",
       "if (notebookContainer) {{\n",
       "    x.observe(notebookContainer, {childList: true});\n",
       "}}\n",
       "\n",
       "// Listen for the clearing of the current output cell\n",
       "var outputEl = gd.closest('.output');\n",
       "if (outputEl) {{\n",
       "    x.observe(outputEl, {childList: true});\n",
       "}}\n",
       "\n",
       "                        })                };                });            </script>        </div>"
      ]
     },
     "metadata": {}
    },
    {
     "output_type": "display_data",
     "data": {
      "application/javascript": "\n            setTimeout(function() {\n                var nbb_cell_id = 68;\n                var nbb_unformatted_code = \"plot_results(results_agg,'p_hat', p_true)\";\n                var nbb_formatted_code = \"plot_results(results_agg, \\\"p_hat\\\", p_true)\";\n                var nbb_cells = Jupyter.notebook.get_cells();\n                for (var i = 0; i < nbb_cells.length; ++i) {\n                    if (nbb_cells[i].input_prompt_number == nbb_cell_id) {\n                        if (nbb_cells[i].get_text() == nbb_unformatted_code) {\n                             nbb_cells[i].set_text(nbb_formatted_code);\n                        }\n                        break;\n                    }\n                }\n            }, 500);\n            ",
      "text/plain": [
       "<IPython.core.display.Javascript object>"
      ]
     },
     "metadata": {}
    }
   ],
   "metadata": {}
  },
  {
   "cell_type": "markdown",
   "source": [
    "### Poisson Example"
   ],
   "metadata": {}
  },
  {
   "cell_type": "code",
   "execution_count": 73,
   "source": [
    "mu_true = 100\n",
    "pdf_poisson = pd.DataFrame()\n",
    "\n",
    "for size in [10 ** j for j in range(1, 7)]:\n",
    "    x = stats.poisson.rvs(mu_true, size=size, random_state=42)\n",
    "    pdf_poisson = pdf_poisson.append(pd.DataFrame({\"size\": size, \"x\": x}))"
   ],
   "outputs": [
    {
     "output_type": "display_data",
     "data": {
      "application/javascript": "\n            setTimeout(function() {\n                var nbb_cell_id = 73;\n                var nbb_unformatted_code = \"mu_true = 100\\npdf_poisson = pd.DataFrame()\\n\\nfor size in [10 ** j for j in range(1, 7)]:\\n    x = stats.poisson.rvs(mu_true, size=size, random_state=42)\\n    pdf_poisson = pdf_poisson.append(pd.DataFrame({\\\"size\\\": size, \\\"x\\\": x}))\";\n                var nbb_formatted_code = \"mu_true = 100\\npdf_poisson = pd.DataFrame()\\n\\nfor size in [10 ** j for j in range(1, 7)]:\\n    x = stats.poisson.rvs(mu_true, size=size, random_state=42)\\n    pdf_poisson = pdf_poisson.append(pd.DataFrame({\\\"size\\\": size, \\\"x\\\": x}))\";\n                var nbb_cells = Jupyter.notebook.get_cells();\n                for (var i = 0; i < nbb_cells.length; ++i) {\n                    if (nbb_cells[i].input_prompt_number == nbb_cell_id) {\n                        if (nbb_cells[i].get_text() == nbb_unformatted_code) {\n                             nbb_cells[i].set_text(nbb_formatted_code);\n                        }\n                        break;\n                    }\n                }\n            }, 500);\n            ",
      "text/plain": [
       "<IPython.core.display.Javascript object>"
      ]
     },
     "metadata": {}
    }
   ],
   "metadata": {}
  },
  {
   "cell_type": "code",
   "execution_count": 74,
   "source": [
    "def pandas_poisson_model(pdf: pd.DataFrame):\n",
    "\n",
    "    t0 = datetime.now()\n",
    "\n",
    "    x = pdf[\"x\"].values\n",
    "\n",
    "    with pm.Model() as model:\n",
    "        mu = pm.Gamma(\"mu\", alpha=1, beta=1)\n",
    "        obs = pm.Poisson(\"obs\", mu=mu, observed=x)\n",
    "        trace = pm.sample(1_000, return_inferencedata=False)\n",
    "\n",
    "    t1 = datetime.now()\n",
    "    deltat = t1 - t0\n",
    "    mu_hat = trace[\"mu\"].mean()\n",
    "    sample_time = trace.report.t_sampling\n",
    "    hdi = pm.hdi(trace[\"mu\"], hdi_prob=0.94)\n",
    "\n",
    "    return pd.Series(\n",
    "        {\n",
    "            \"mu_hat\": mu_hat,\n",
    "            \"hdi_3%\": hdi[0],\n",
    "            \"hdi_97%\": hdi[1],\n",
    "            \"runtime\": deltat,\n",
    "            \"sample_time\": sample_time,\n",
    "        }\n",
    "    )"
   ],
   "outputs": [
    {
     "output_type": "display_data",
     "data": {
      "application/javascript": "\n            setTimeout(function() {\n                var nbb_cell_id = 74;\n                var nbb_unformatted_code = \"def pandas_poisson_model(pdf: pd.DataFrame):\\n\\n    t0 = datetime.now()\\n\\n    x = pdf[\\\"x\\\"].values\\n\\n    with pm.Model() as model:\\n        mu = pm.Gamma(\\\"mu\\\", alpha=1, beta=1)\\n        obs = pm.Poisson(\\\"obs\\\", mu=mu, observed=x)\\n        trace = pm.sample(1_000, return_inferencedata=False)\\n\\n    t1 = datetime.now()\\n    deltat = t1 - t0\\n    mu_hat = trace[\\\"mu\\\"].mean()\\n    sample_time = trace.report.t_sampling\\n    hdi = pm.hdi(trace[\\\"mu\\\"], hdi_prob=0.94)\\n\\n    return pd.Series(\\n        {\\n            \\\"mu_hat\\\": mu_hat,\\n            \\\"hdi_3%\\\": hdi[0],\\n            \\\"hdi_97%\\\": hdi[1],\\n            \\\"runtime\\\": deltat,\\n            \\\"sample_time\\\": sample_time,\\n        }\\n    )\";\n                var nbb_formatted_code = \"def pandas_poisson_model(pdf: pd.DataFrame):\\n\\n    t0 = datetime.now()\\n\\n    x = pdf[\\\"x\\\"].values\\n\\n    with pm.Model() as model:\\n        mu = pm.Gamma(\\\"mu\\\", alpha=1, beta=1)\\n        obs = pm.Poisson(\\\"obs\\\", mu=mu, observed=x)\\n        trace = pm.sample(1_000, return_inferencedata=False)\\n\\n    t1 = datetime.now()\\n    deltat = t1 - t0\\n    mu_hat = trace[\\\"mu\\\"].mean()\\n    sample_time = trace.report.t_sampling\\n    hdi = pm.hdi(trace[\\\"mu\\\"], hdi_prob=0.94)\\n\\n    return pd.Series(\\n        {\\n            \\\"mu_hat\\\": mu_hat,\\n            \\\"hdi_3%\\\": hdi[0],\\n            \\\"hdi_97%\\\": hdi[1],\\n            \\\"runtime\\\": deltat,\\n            \\\"sample_time\\\": sample_time,\\n        }\\n    )\";\n                var nbb_cells = Jupyter.notebook.get_cells();\n                for (var i = 0; i < nbb_cells.length; ++i) {\n                    if (nbb_cells[i].input_prompt_number == nbb_cell_id) {\n                        if (nbb_cells[i].get_text() == nbb_unformatted_code) {\n                             nbb_cells[i].set_text(nbb_formatted_code);\n                        }\n                        break;\n                    }\n                }\n            }, 500);\n            ",
      "text/plain": [
       "<IPython.core.display.Javascript object>"
      ]
     },
     "metadata": {}
    }
   ],
   "metadata": {}
  },
  {
   "cell_type": "code",
   "execution_count": null,
   "source": [
    "poisson_results = pdf_poisson.groupby([\"size\"]).apply(pandas_poisson_model)"
   ],
   "outputs": [
    {
     "output_type": "stream",
     "name": "stderr",
     "text": [
      "DEBUG:filelock:Attempting to acquire lock 6626666336 on /Users/felipepinochet/.theano/compiledir_macOS-11.2.3-x86_64-i386-64bit-i386-3.9.7-64/.lock\n",
      "DEBUG:filelock:Lock 6626666336 acquired on /Users/felipepinochet/.theano/compiledir_macOS-11.2.3-x86_64-i386-64bit-i386-3.9.7-64/.lock\n",
      "DEBUG:filelock:Attempting to release lock 6626666336 on /Users/felipepinochet/.theano/compiledir_macOS-11.2.3-x86_64-i386-64bit-i386-3.9.7-64/.lock\n",
      "DEBUG:filelock:Lock 6626666336 released on /Users/felipepinochet/.theano/compiledir_macOS-11.2.3-x86_64-i386-64bit-i386-3.9.7-64/.lock\n",
      "DEBUG:filelock:Attempting to acquire lock 6626837408 on /Users/felipepinochet/.theano/compiledir_macOS-11.2.3-x86_64-i386-64bit-i386-3.9.7-64/.lock\n",
      "DEBUG:filelock:Lock 6626837408 acquired on /Users/felipepinochet/.theano/compiledir_macOS-11.2.3-x86_64-i386-64bit-i386-3.9.7-64/.lock\n",
      "DEBUG:filelock:Attempting to release lock 6626837408 on /Users/felipepinochet/.theano/compiledir_macOS-11.2.3-x86_64-i386-64bit-i386-3.9.7-64/.lock\n",
      "DEBUG:filelock:Lock 6626837408 released on /Users/felipepinochet/.theano/compiledir_macOS-11.2.3-x86_64-i386-64bit-i386-3.9.7-64/.lock\n",
      "DEBUG:filelock:Attempting to acquire lock 6626856432 on /Users/felipepinochet/.theano/compiledir_macOS-11.2.3-x86_64-i386-64bit-i386-3.9.7-64/.lock\n",
      "DEBUG:filelock:Lock 6626856432 acquired on /Users/felipepinochet/.theano/compiledir_macOS-11.2.3-x86_64-i386-64bit-i386-3.9.7-64/.lock\n",
      "DEBUG:filelock:Attempting to release lock 6626856432 on /Users/felipepinochet/.theano/compiledir_macOS-11.2.3-x86_64-i386-64bit-i386-3.9.7-64/.lock\n",
      "DEBUG:filelock:Lock 6626856432 released on /Users/felipepinochet/.theano/compiledir_macOS-11.2.3-x86_64-i386-64bit-i386-3.9.7-64/.lock\n",
      "DEBUG:filelock:Attempting to acquire lock 6626836544 on /Users/felipepinochet/.theano/compiledir_macOS-11.2.3-x86_64-i386-64bit-i386-3.9.7-64/.lock\n",
      "DEBUG:filelock:Lock 6626836544 acquired on /Users/felipepinochet/.theano/compiledir_macOS-11.2.3-x86_64-i386-64bit-i386-3.9.7-64/.lock\n",
      "DEBUG:filelock:Attempting to release lock 6626836544 on /Users/felipepinochet/.theano/compiledir_macOS-11.2.3-x86_64-i386-64bit-i386-3.9.7-64/.lock\n",
      "DEBUG:filelock:Lock 6626836544 released on /Users/felipepinochet/.theano/compiledir_macOS-11.2.3-x86_64-i386-64bit-i386-3.9.7-64/.lock\n",
      "DEBUG:filelock:Attempting to acquire lock 6627435280 on /Users/felipepinochet/.theano/compiledir_macOS-11.2.3-x86_64-i386-64bit-i386-3.9.7-64/.lock\n",
      "DEBUG:filelock:Lock 6627435280 acquired on /Users/felipepinochet/.theano/compiledir_macOS-11.2.3-x86_64-i386-64bit-i386-3.9.7-64/.lock\n",
      "DEBUG:filelock:Attempting to release lock 6627435280 on /Users/felipepinochet/.theano/compiledir_macOS-11.2.3-x86_64-i386-64bit-i386-3.9.7-64/.lock\n",
      "DEBUG:filelock:Lock 6627435280 released on /Users/felipepinochet/.theano/compiledir_macOS-11.2.3-x86_64-i386-64bit-i386-3.9.7-64/.lock\n",
      "DEBUG:filelock:Attempting to acquire lock 6627437296 on /Users/felipepinochet/.theano/compiledir_macOS-11.2.3-x86_64-i386-64bit-i386-3.9.7-64/.lock\n",
      "DEBUG:filelock:Lock 6627437296 acquired on /Users/felipepinochet/.theano/compiledir_macOS-11.2.3-x86_64-i386-64bit-i386-3.9.7-64/.lock\n",
      "DEBUG:filelock:Attempting to release lock 6627437296 on /Users/felipepinochet/.theano/compiledir_macOS-11.2.3-x86_64-i386-64bit-i386-3.9.7-64/.lock\n",
      "DEBUG:filelock:Lock 6627437296 released on /Users/felipepinochet/.theano/compiledir_macOS-11.2.3-x86_64-i386-64bit-i386-3.9.7-64/.lock\n",
      "DEBUG:filelock:Attempting to acquire lock 6628094496 on /Users/felipepinochet/.theano/compiledir_macOS-11.2.3-x86_64-i386-64bit-i386-3.9.7-64/.lock\n",
      "DEBUG:filelock:Lock 6628094496 acquired on /Users/felipepinochet/.theano/compiledir_macOS-11.2.3-x86_64-i386-64bit-i386-3.9.7-64/.lock\n",
      "DEBUG:filelock:Attempting to release lock 6628094496 on /Users/felipepinochet/.theano/compiledir_macOS-11.2.3-x86_64-i386-64bit-i386-3.9.7-64/.lock\n",
      "DEBUG:filelock:Lock 6628094496 released on /Users/felipepinochet/.theano/compiledir_macOS-11.2.3-x86_64-i386-64bit-i386-3.9.7-64/.lock\n",
      "DEBUG:filelock:Attempting to acquire lock 6628046544 on /Users/felipepinochet/.theano/compiledir_macOS-11.2.3-x86_64-i386-64bit-i386-3.9.7-64/.lock\n",
      "DEBUG:filelock:Lock 6628046544 acquired on /Users/felipepinochet/.theano/compiledir_macOS-11.2.3-x86_64-i386-64bit-i386-3.9.7-64/.lock\n",
      "DEBUG:filelock:Attempting to release lock 6628046544 on /Users/felipepinochet/.theano/compiledir_macOS-11.2.3-x86_64-i386-64bit-i386-3.9.7-64/.lock\n",
      "DEBUG:filelock:Lock 6628046544 released on /Users/felipepinochet/.theano/compiledir_macOS-11.2.3-x86_64-i386-64bit-i386-3.9.7-64/.lock\n",
      "DEBUG:filelock:Attempting to acquire lock 6628022496 on /Users/felipepinochet/.theano/compiledir_macOS-11.2.3-x86_64-i386-64bit-i386-3.9.7-64/.lock\n",
      "DEBUG:filelock:Lock 6628022496 acquired on /Users/felipepinochet/.theano/compiledir_macOS-11.2.3-x86_64-i386-64bit-i386-3.9.7-64/.lock\n",
      "DEBUG:filelock:Attempting to release lock 6628022496 on /Users/felipepinochet/.theano/compiledir_macOS-11.2.3-x86_64-i386-64bit-i386-3.9.7-64/.lock\n",
      "DEBUG:filelock:Lock 6628022496 released on /Users/felipepinochet/.theano/compiledir_macOS-11.2.3-x86_64-i386-64bit-i386-3.9.7-64/.lock\n",
      "DEBUG:filelock:Attempting to acquire lock 6625107488 on /Users/felipepinochet/.theano/compiledir_macOS-11.2.3-x86_64-i386-64bit-i386-3.9.7-64/.lock\n",
      "DEBUG:filelock:Lock 6625107488 acquired on /Users/felipepinochet/.theano/compiledir_macOS-11.2.3-x86_64-i386-64bit-i386-3.9.7-64/.lock\n",
      "DEBUG:filelock:Attempting to release lock 6625107488 on /Users/felipepinochet/.theano/compiledir_macOS-11.2.3-x86_64-i386-64bit-i386-3.9.7-64/.lock\n",
      "DEBUG:filelock:Lock 6625107488 released on /Users/felipepinochet/.theano/compiledir_macOS-11.2.3-x86_64-i386-64bit-i386-3.9.7-64/.lock\n",
      "DEBUG:filelock:Attempting to acquire lock 6628189472 on /Users/felipepinochet/.theano/compiledir_macOS-11.2.3-x86_64-i386-64bit-i386-3.9.7-64/.lock\n",
      "DEBUG:filelock:Lock 6628189472 acquired on /Users/felipepinochet/.theano/compiledir_macOS-11.2.3-x86_64-i386-64bit-i386-3.9.7-64/.lock\n",
      "DEBUG:filelock:Attempting to release lock 6628189472 on /Users/felipepinochet/.theano/compiledir_macOS-11.2.3-x86_64-i386-64bit-i386-3.9.7-64/.lock\n",
      "DEBUG:filelock:Lock 6628189472 released on /Users/felipepinochet/.theano/compiledir_macOS-11.2.3-x86_64-i386-64bit-i386-3.9.7-64/.lock\n",
      "DEBUG:filelock:Attempting to acquire lock 6628496096 on /Users/felipepinochet/.theano/compiledir_macOS-11.2.3-x86_64-i386-64bit-i386-3.9.7-64/.lock\n",
      "DEBUG:filelock:Lock 6628496096 acquired on /Users/felipepinochet/.theano/compiledir_macOS-11.2.3-x86_64-i386-64bit-i386-3.9.7-64/.lock\n",
      "DEBUG:filelock:Attempting to release lock 6628496096 on /Users/felipepinochet/.theano/compiledir_macOS-11.2.3-x86_64-i386-64bit-i386-3.9.7-64/.lock\n",
      "DEBUG:filelock:Lock 6628496096 released on /Users/felipepinochet/.theano/compiledir_macOS-11.2.3-x86_64-i386-64bit-i386-3.9.7-64/.lock\n",
      "Auto-assigning NUTS sampler...\n",
      "INFO:pymc3:Auto-assigning NUTS sampler...\n",
      "Initializing NUTS using jitter+adapt_diag...\n",
      "INFO:pymc3:Initializing NUTS using jitter+adapt_diag...\n",
      "DEBUG:filelock:Attempting to acquire lock 6621716640 on /Users/felipepinochet/.theano/compiledir_macOS-11.2.3-x86_64-i386-64bit-i386-3.9.7-64/.lock\n",
      "DEBUG:filelock:Lock 6621716640 acquired on /Users/felipepinochet/.theano/compiledir_macOS-11.2.3-x86_64-i386-64bit-i386-3.9.7-64/.lock\n",
      "DEBUG:filelock:Attempting to release lock 6621716640 on /Users/felipepinochet/.theano/compiledir_macOS-11.2.3-x86_64-i386-64bit-i386-3.9.7-64/.lock\n",
      "DEBUG:filelock:Lock 6621716640 released on /Users/felipepinochet/.theano/compiledir_macOS-11.2.3-x86_64-i386-64bit-i386-3.9.7-64/.lock\n",
      "DEBUG:filelock:Attempting to acquire lock 6527154736 on /Users/felipepinochet/.theano/compiledir_macOS-11.2.3-x86_64-i386-64bit-i386-3.9.7-64/.lock\n",
      "DEBUG:filelock:Lock 6527154736 acquired on /Users/felipepinochet/.theano/compiledir_macOS-11.2.3-x86_64-i386-64bit-i386-3.9.7-64/.lock\n",
      "DEBUG:filelock:Attempting to release lock 6527154736 on /Users/felipepinochet/.theano/compiledir_macOS-11.2.3-x86_64-i386-64bit-i386-3.9.7-64/.lock\n",
      "DEBUG:filelock:Lock 6527154736 released on /Users/felipepinochet/.theano/compiledir_macOS-11.2.3-x86_64-i386-64bit-i386-3.9.7-64/.lock\n",
      "DEBUG:filelock:Attempting to acquire lock 6529346240 on /Users/felipepinochet/.theano/compiledir_macOS-11.2.3-x86_64-i386-64bit-i386-3.9.7-64/.lock\n"
     ]
    },
    {
     "output_type": "stream",
     "name": "stderr",
     "text": [
      "DEBUG:filelock:Lock 6529346240 acquired on /Users/felipepinochet/.theano/compiledir_macOS-11.2.3-x86_64-i386-64bit-i386-3.9.7-64/.lock\n",
      "DEBUG:filelock:Attempting to release lock 6529346240 on /Users/felipepinochet/.theano/compiledir_macOS-11.2.3-x86_64-i386-64bit-i386-3.9.7-64/.lock\n",
      "DEBUG:filelock:Lock 6529346240 released on /Users/felipepinochet/.theano/compiledir_macOS-11.2.3-x86_64-i386-64bit-i386-3.9.7-64/.lock\n",
      "DEBUG:filelock:Attempting to acquire lock 6502951952 on /Users/felipepinochet/.theano/compiledir_macOS-11.2.3-x86_64-i386-64bit-i386-3.9.7-64/.lock\n",
      "DEBUG:filelock:Lock 6502951952 acquired on /Users/felipepinochet/.theano/compiledir_macOS-11.2.3-x86_64-i386-64bit-i386-3.9.7-64/.lock\n",
      "DEBUG:filelock:Attempting to release lock 6502951952 on /Users/felipepinochet/.theano/compiledir_macOS-11.2.3-x86_64-i386-64bit-i386-3.9.7-64/.lock\n",
      "DEBUG:filelock:Lock 6502951952 released on /Users/felipepinochet/.theano/compiledir_macOS-11.2.3-x86_64-i386-64bit-i386-3.9.7-64/.lock\n",
      "Multiprocess sampling (4 chains in 4 jobs)\n",
      "INFO:pymc3:Multiprocess sampling (4 chains in 4 jobs)\n",
      "NUTS: [mu]\n",
      "INFO:pymc3:NUTS: [mu]\n"
     ]
    },
    {
     "output_type": "display_data",
     "data": {
      "text/html": [
       "\n",
       "    <div>\n",
       "        <style>\n",
       "            /* Turns off some styling */\n",
       "            progress {\n",
       "                /* gets rid of default border in Firefox and Opera. */\n",
       "                border: none;\n",
       "                /* Needs to be in here for Safari polyfill so background images work as expected. */\n",
       "                background-size: auto;\n",
       "            }\n",
       "            .progress-bar-interrupted, .progress-bar-interrupted::-webkit-progress-bar {\n",
       "                background: #F44336;\n",
       "            }\n",
       "        </style>\n",
       "      <progress value='8000' class='' max='8000' style='width:300px; height:20px; vertical-align: middle;'></progress>\n",
       "      100.00% [8000/8000 00:01<00:00 Sampling 4 chains, 0 divergences]\n",
       "    </div>\n",
       "    "
      ],
      "text/plain": [
       "<IPython.core.display.HTML object>"
      ]
     },
     "metadata": {}
    },
    {
     "output_type": "stream",
     "name": "stderr",
     "text": [
      "Sampling 4 chains for 1_000 tune and 1_000 draw iterations (4_000 + 4_000 draws total) took 10 seconds.\n",
      "INFO:pymc3:Sampling 4 chains for 1_000 tune and 1_000 draw iterations (4_000 + 4_000 draws total) took 10 seconds.\n",
      "The acceptance probability does not match the target. It is 0.8801657829349819, but should be close to 0.8. Try to increase the number of tuning steps.\n",
      "WARNING:pymc3:The acceptance probability does not match the target. It is 0.8801657829349819, but should be close to 0.8. Try to increase the number of tuning steps.\n",
      "DEBUG:filelock:Attempting to acquire lock 6533280576 on /Users/felipepinochet/.theano/compiledir_macOS-11.2.3-x86_64-i386-64bit-i386-3.9.7-64/.lock\n",
      "DEBUG:filelock:Lock 6533280576 acquired on /Users/felipepinochet/.theano/compiledir_macOS-11.2.3-x86_64-i386-64bit-i386-3.9.7-64/.lock\n",
      "DEBUG:filelock:Attempting to release lock 6533280576 on /Users/felipepinochet/.theano/compiledir_macOS-11.2.3-x86_64-i386-64bit-i386-3.9.7-64/.lock\n",
      "DEBUG:filelock:Lock 6533280576 released on /Users/felipepinochet/.theano/compiledir_macOS-11.2.3-x86_64-i386-64bit-i386-3.9.7-64/.lock\n",
      "DEBUG:filelock:Attempting to acquire lock 6523139792 on /Users/felipepinochet/.theano/compiledir_macOS-11.2.3-x86_64-i386-64bit-i386-3.9.7-64/.lock\n",
      "DEBUG:filelock:Lock 6523139792 acquired on /Users/felipepinochet/.theano/compiledir_macOS-11.2.3-x86_64-i386-64bit-i386-3.9.7-64/.lock\n",
      "DEBUG:filelock:Attempting to release lock 6523139792 on /Users/felipepinochet/.theano/compiledir_macOS-11.2.3-x86_64-i386-64bit-i386-3.9.7-64/.lock\n",
      "DEBUG:filelock:Lock 6523139792 released on /Users/felipepinochet/.theano/compiledir_macOS-11.2.3-x86_64-i386-64bit-i386-3.9.7-64/.lock\n",
      "DEBUG:filelock:Attempting to acquire lock 6498842704 on /Users/felipepinochet/.theano/compiledir_macOS-11.2.3-x86_64-i386-64bit-i386-3.9.7-64/.lock\n",
      "DEBUG:filelock:Lock 6498842704 acquired on /Users/felipepinochet/.theano/compiledir_macOS-11.2.3-x86_64-i386-64bit-i386-3.9.7-64/.lock\n",
      "DEBUG:filelock:Attempting to release lock 6498842704 on /Users/felipepinochet/.theano/compiledir_macOS-11.2.3-x86_64-i386-64bit-i386-3.9.7-64/.lock\n",
      "DEBUG:filelock:Lock 6498842704 released on /Users/felipepinochet/.theano/compiledir_macOS-11.2.3-x86_64-i386-64bit-i386-3.9.7-64/.lock\n",
      "DEBUG:filelock:Attempting to acquire lock 6533772336 on /Users/felipepinochet/.theano/compiledir_macOS-11.2.3-x86_64-i386-64bit-i386-3.9.7-64/.lock\n",
      "DEBUG:filelock:Lock 6533772336 acquired on /Users/felipepinochet/.theano/compiledir_macOS-11.2.3-x86_64-i386-64bit-i386-3.9.7-64/.lock\n",
      "DEBUG:filelock:Attempting to release lock 6533772336 on /Users/felipepinochet/.theano/compiledir_macOS-11.2.3-x86_64-i386-64bit-i386-3.9.7-64/.lock\n",
      "DEBUG:filelock:Lock 6533772336 released on /Users/felipepinochet/.theano/compiledir_macOS-11.2.3-x86_64-i386-64bit-i386-3.9.7-64/.lock\n",
      "DEBUG:filelock:Attempting to acquire lock 6560729360 on /Users/felipepinochet/.theano/compiledir_macOS-11.2.3-x86_64-i386-64bit-i386-3.9.7-64/.lock\n",
      "DEBUG:filelock:Lock 6560729360 acquired on /Users/felipepinochet/.theano/compiledir_macOS-11.2.3-x86_64-i386-64bit-i386-3.9.7-64/.lock\n",
      "DEBUG:filelock:Attempting to release lock 6560729360 on /Users/felipepinochet/.theano/compiledir_macOS-11.2.3-x86_64-i386-64bit-i386-3.9.7-64/.lock\n",
      "DEBUG:filelock:Lock 6560729360 released on /Users/felipepinochet/.theano/compiledir_macOS-11.2.3-x86_64-i386-64bit-i386-3.9.7-64/.lock\n",
      "DEBUG:filelock:Attempting to acquire lock 6527739264 on /Users/felipepinochet/.theano/compiledir_macOS-11.2.3-x86_64-i386-64bit-i386-3.9.7-64/.lock\n",
      "DEBUG:filelock:Lock 6527739264 acquired on /Users/felipepinochet/.theano/compiledir_macOS-11.2.3-x86_64-i386-64bit-i386-3.9.7-64/.lock\n",
      "DEBUG:filelock:Attempting to release lock 6527739264 on /Users/felipepinochet/.theano/compiledir_macOS-11.2.3-x86_64-i386-64bit-i386-3.9.7-64/.lock\n",
      "DEBUG:filelock:Lock 6527739264 released on /Users/felipepinochet/.theano/compiledir_macOS-11.2.3-x86_64-i386-64bit-i386-3.9.7-64/.lock\n",
      "DEBUG:filelock:Attempting to acquire lock 6499908912 on /Users/felipepinochet/.theano/compiledir_macOS-11.2.3-x86_64-i386-64bit-i386-3.9.7-64/.lock\n",
      "DEBUG:filelock:Lock 6499908912 acquired on /Users/felipepinochet/.theano/compiledir_macOS-11.2.3-x86_64-i386-64bit-i386-3.9.7-64/.lock\n",
      "DEBUG:filelock:Attempting to release lock 6499908912 on /Users/felipepinochet/.theano/compiledir_macOS-11.2.3-x86_64-i386-64bit-i386-3.9.7-64/.lock\n",
      "DEBUG:filelock:Lock 6499908912 released on /Users/felipepinochet/.theano/compiledir_macOS-11.2.3-x86_64-i386-64bit-i386-3.9.7-64/.lock\n",
      "DEBUG:filelock:Attempting to acquire lock 6522609184 on /Users/felipepinochet/.theano/compiledir_macOS-11.2.3-x86_64-i386-64bit-i386-3.9.7-64/.lock\n",
      "DEBUG:filelock:Lock 6522609184 acquired on /Users/felipepinochet/.theano/compiledir_macOS-11.2.3-x86_64-i386-64bit-i386-3.9.7-64/.lock\n",
      "DEBUG:filelock:Attempting to release lock 6522609184 on /Users/felipepinochet/.theano/compiledir_macOS-11.2.3-x86_64-i386-64bit-i386-3.9.7-64/.lock\n",
      "DEBUG:filelock:Lock 6522609184 released on /Users/felipepinochet/.theano/compiledir_macOS-11.2.3-x86_64-i386-64bit-i386-3.9.7-64/.lock\n",
      "DEBUG:filelock:Attempting to acquire lock 6540005184 on /Users/felipepinochet/.theano/compiledir_macOS-11.2.3-x86_64-i386-64bit-i386-3.9.7-64/.lock\n",
      "DEBUG:filelock:Lock 6540005184 acquired on /Users/felipepinochet/.theano/compiledir_macOS-11.2.3-x86_64-i386-64bit-i386-3.9.7-64/.lock\n",
      "DEBUG:filelock:Attempting to release lock 6540005184 on /Users/felipepinochet/.theano/compiledir_macOS-11.2.3-x86_64-i386-64bit-i386-3.9.7-64/.lock\n",
      "DEBUG:filelock:Lock 6540005184 released on /Users/felipepinochet/.theano/compiledir_macOS-11.2.3-x86_64-i386-64bit-i386-3.9.7-64/.lock\n",
      "DEBUG:filelock:Attempting to acquire lock 6622529328 on /Users/felipepinochet/.theano/compiledir_macOS-11.2.3-x86_64-i386-64bit-i386-3.9.7-64/.lock\n",
      "DEBUG:filelock:Lock 6622529328 acquired on /Users/felipepinochet/.theano/compiledir_macOS-11.2.3-x86_64-i386-64bit-i386-3.9.7-64/.lock\n",
      "DEBUG:filelock:Attempting to release lock 6622529328 on /Users/felipepinochet/.theano/compiledir_macOS-11.2.3-x86_64-i386-64bit-i386-3.9.7-64/.lock\n",
      "DEBUG:filelock:Lock 6622529328 released on /Users/felipepinochet/.theano/compiledir_macOS-11.2.3-x86_64-i386-64bit-i386-3.9.7-64/.lock\n",
      "DEBUG:filelock:Attempting to acquire lock 6522871712 on /Users/felipepinochet/.theano/compiledir_macOS-11.2.3-x86_64-i386-64bit-i386-3.9.7-64/.lock\n",
      "DEBUG:filelock:Lock 6522871712 acquired on /Users/felipepinochet/.theano/compiledir_macOS-11.2.3-x86_64-i386-64bit-i386-3.9.7-64/.lock\n",
      "DEBUG:filelock:Attempting to release lock 6522871712 on /Users/felipepinochet/.theano/compiledir_macOS-11.2.3-x86_64-i386-64bit-i386-3.9.7-64/.lock\n",
      "DEBUG:filelock:Lock 6522871712 released on /Users/felipepinochet/.theano/compiledir_macOS-11.2.3-x86_64-i386-64bit-i386-3.9.7-64/.lock\n",
      "DEBUG:filelock:Attempting to acquire lock 6534333008 on /Users/felipepinochet/.theano/compiledir_macOS-11.2.3-x86_64-i386-64bit-i386-3.9.7-64/.lock\n",
      "DEBUG:filelock:Lock 6534333008 acquired on /Users/felipepinochet/.theano/compiledir_macOS-11.2.3-x86_64-i386-64bit-i386-3.9.7-64/.lock\n",
      "DEBUG:filelock:Attempting to release lock 6534333008 on /Users/felipepinochet/.theano/compiledir_macOS-11.2.3-x86_64-i386-64bit-i386-3.9.7-64/.lock\n",
      "DEBUG:filelock:Lock 6534333008 released on /Users/felipepinochet/.theano/compiledir_macOS-11.2.3-x86_64-i386-64bit-i386-3.9.7-64/.lock\n",
      "Auto-assigning NUTS sampler...\n",
      "INFO:pymc3:Auto-assigning NUTS sampler...\n",
      "Initializing NUTS using jitter+adapt_diag...\n",
      "INFO:pymc3:Initializing NUTS using jitter+adapt_diag...\n",
      "DEBUG:filelock:Attempting to acquire lock 6500605184 on /Users/felipepinochet/.theano/compiledir_macOS-11.2.3-x86_64-i386-64bit-i386-3.9.7-64/.lock\n",
      "DEBUG:filelock:Lock 6500605184 acquired on /Users/felipepinochet/.theano/compiledir_macOS-11.2.3-x86_64-i386-64bit-i386-3.9.7-64/.lock\n",
      "DEBUG:filelock:Attempting to release lock 6500605184 on /Users/felipepinochet/.theano/compiledir_macOS-11.2.3-x86_64-i386-64bit-i386-3.9.7-64/.lock\n",
      "DEBUG:filelock:Lock 6500605184 released on /Users/felipepinochet/.theano/compiledir_macOS-11.2.3-x86_64-i386-64bit-i386-3.9.7-64/.lock\n",
      "DEBUG:filelock:Attempting to acquire lock 6500719008 on /Users/felipepinochet/.theano/compiledir_macOS-11.2.3-x86_64-i386-64bit-i386-3.9.7-64/.lock\n"
     ]
    },
    {
     "output_type": "stream",
     "name": "stderr",
     "text": [
      "DEBUG:filelock:Lock 6500719008 acquired on /Users/felipepinochet/.theano/compiledir_macOS-11.2.3-x86_64-i386-64bit-i386-3.9.7-64/.lock\n",
      "DEBUG:filelock:Attempting to release lock 6500719008 on /Users/felipepinochet/.theano/compiledir_macOS-11.2.3-x86_64-i386-64bit-i386-3.9.7-64/.lock\n",
      "DEBUG:filelock:Lock 6500719008 released on /Users/felipepinochet/.theano/compiledir_macOS-11.2.3-x86_64-i386-64bit-i386-3.9.7-64/.lock\n",
      "DEBUG:filelock:Attempting to acquire lock 6592824656 on /Users/felipepinochet/.theano/compiledir_macOS-11.2.3-x86_64-i386-64bit-i386-3.9.7-64/.lock\n",
      "DEBUG:filelock:Lock 6592824656 acquired on /Users/felipepinochet/.theano/compiledir_macOS-11.2.3-x86_64-i386-64bit-i386-3.9.7-64/.lock\n",
      "DEBUG:filelock:Attempting to release lock 6592824656 on /Users/felipepinochet/.theano/compiledir_macOS-11.2.3-x86_64-i386-64bit-i386-3.9.7-64/.lock\n",
      "DEBUG:filelock:Lock 6592824656 released on /Users/felipepinochet/.theano/compiledir_macOS-11.2.3-x86_64-i386-64bit-i386-3.9.7-64/.lock\n",
      "DEBUG:filelock:Attempting to acquire lock 6592812416 on /Users/felipepinochet/.theano/compiledir_macOS-11.2.3-x86_64-i386-64bit-i386-3.9.7-64/.lock\n",
      "DEBUG:filelock:Lock 6592812416 acquired on /Users/felipepinochet/.theano/compiledir_macOS-11.2.3-x86_64-i386-64bit-i386-3.9.7-64/.lock\n",
      "DEBUG:filelock:Attempting to release lock 6592812416 on /Users/felipepinochet/.theano/compiledir_macOS-11.2.3-x86_64-i386-64bit-i386-3.9.7-64/.lock\n",
      "DEBUG:filelock:Lock 6592812416 released on /Users/felipepinochet/.theano/compiledir_macOS-11.2.3-x86_64-i386-64bit-i386-3.9.7-64/.lock\n",
      "Multiprocess sampling (4 chains in 4 jobs)\n",
      "INFO:pymc3:Multiprocess sampling (4 chains in 4 jobs)\n",
      "NUTS: [mu]\n",
      "INFO:pymc3:NUTS: [mu]\n"
     ]
    },
    {
     "output_type": "display_data",
     "data": {
      "text/html": [
       "\n",
       "    <div>\n",
       "        <style>\n",
       "            /* Turns off some styling */\n",
       "            progress {\n",
       "                /* gets rid of default border in Firefox and Opera. */\n",
       "                border: none;\n",
       "                /* Needs to be in here for Safari polyfill so background images work as expected. */\n",
       "                background-size: auto;\n",
       "            }\n",
       "            .progress-bar-interrupted, .progress-bar-interrupted::-webkit-progress-bar {\n",
       "                background: #F44336;\n",
       "            }\n",
       "        </style>\n",
       "      <progress value='8000' class='' max='8000' style='width:300px; height:20px; vertical-align: middle;'></progress>\n",
       "      100.00% [8000/8000 00:01<00:00 Sampling 4 chains, 0 divergences]\n",
       "    </div>\n",
       "    "
      ],
      "text/plain": [
       "<IPython.core.display.HTML object>"
      ]
     },
     "metadata": {}
    },
    {
     "output_type": "stream",
     "name": "stderr",
     "text": [
      "Sampling 4 chains for 1_000 tune and 1_000 draw iterations (4_000 + 4_000 draws total) took 10 seconds.\n",
      "INFO:pymc3:Sampling 4 chains for 1_000 tune and 1_000 draw iterations (4_000 + 4_000 draws total) took 10 seconds.\n",
      "DEBUG:filelock:Attempting to acquire lock 6624657856 on /Users/felipepinochet/.theano/compiledir_macOS-11.2.3-x86_64-i386-64bit-i386-3.9.7-64/.lock\n",
      "DEBUG:filelock:Lock 6624657856 acquired on /Users/felipepinochet/.theano/compiledir_macOS-11.2.3-x86_64-i386-64bit-i386-3.9.7-64/.lock\n",
      "DEBUG:filelock:Attempting to release lock 6624657856 on /Users/felipepinochet/.theano/compiledir_macOS-11.2.3-x86_64-i386-64bit-i386-3.9.7-64/.lock\n",
      "DEBUG:filelock:Lock 6624657856 released on /Users/felipepinochet/.theano/compiledir_macOS-11.2.3-x86_64-i386-64bit-i386-3.9.7-64/.lock\n",
      "DEBUG:filelock:Attempting to acquire lock 6625852576 on /Users/felipepinochet/.theano/compiledir_macOS-11.2.3-x86_64-i386-64bit-i386-3.9.7-64/.lock\n",
      "DEBUG:filelock:Lock 6625852576 acquired on /Users/felipepinochet/.theano/compiledir_macOS-11.2.3-x86_64-i386-64bit-i386-3.9.7-64/.lock\n",
      "DEBUG:filelock:Attempting to release lock 6625852576 on /Users/felipepinochet/.theano/compiledir_macOS-11.2.3-x86_64-i386-64bit-i386-3.9.7-64/.lock\n",
      "DEBUG:filelock:Lock 6625852576 released on /Users/felipepinochet/.theano/compiledir_macOS-11.2.3-x86_64-i386-64bit-i386-3.9.7-64/.lock\n",
      "DEBUG:filelock:Attempting to acquire lock 6611025440 on /Users/felipepinochet/.theano/compiledir_macOS-11.2.3-x86_64-i386-64bit-i386-3.9.7-64/.lock\n",
      "DEBUG:filelock:Lock 6611025440 acquired on /Users/felipepinochet/.theano/compiledir_macOS-11.2.3-x86_64-i386-64bit-i386-3.9.7-64/.lock\n",
      "DEBUG:filelock:Attempting to release lock 6611025440 on /Users/felipepinochet/.theano/compiledir_macOS-11.2.3-x86_64-i386-64bit-i386-3.9.7-64/.lock\n",
      "DEBUG:filelock:Lock 6611025440 released on /Users/felipepinochet/.theano/compiledir_macOS-11.2.3-x86_64-i386-64bit-i386-3.9.7-64/.lock\n",
      "DEBUG:filelock:Attempting to acquire lock 6610942704 on /Users/felipepinochet/.theano/compiledir_macOS-11.2.3-x86_64-i386-64bit-i386-3.9.7-64/.lock\n",
      "DEBUG:filelock:Lock 6610942704 acquired on /Users/felipepinochet/.theano/compiledir_macOS-11.2.3-x86_64-i386-64bit-i386-3.9.7-64/.lock\n",
      "DEBUG:filelock:Attempting to release lock 6610942704 on /Users/felipepinochet/.theano/compiledir_macOS-11.2.3-x86_64-i386-64bit-i386-3.9.7-64/.lock\n",
      "DEBUG:filelock:Lock 6610942704 released on /Users/felipepinochet/.theano/compiledir_macOS-11.2.3-x86_64-i386-64bit-i386-3.9.7-64/.lock\n",
      "DEBUG:filelock:Attempting to acquire lock 6612687984 on /Users/felipepinochet/.theano/compiledir_macOS-11.2.3-x86_64-i386-64bit-i386-3.9.7-64/.lock\n",
      "DEBUG:filelock:Lock 6612687984 acquired on /Users/felipepinochet/.theano/compiledir_macOS-11.2.3-x86_64-i386-64bit-i386-3.9.7-64/.lock\n",
      "DEBUG:filelock:Attempting to release lock 6612687984 on /Users/felipepinochet/.theano/compiledir_macOS-11.2.3-x86_64-i386-64bit-i386-3.9.7-64/.lock\n",
      "DEBUG:filelock:Lock 6612687984 released on /Users/felipepinochet/.theano/compiledir_macOS-11.2.3-x86_64-i386-64bit-i386-3.9.7-64/.lock\n",
      "DEBUG:filelock:Attempting to acquire lock 6593041456 on /Users/felipepinochet/.theano/compiledir_macOS-11.2.3-x86_64-i386-64bit-i386-3.9.7-64/.lock\n",
      "DEBUG:filelock:Lock 6593041456 acquired on /Users/felipepinochet/.theano/compiledir_macOS-11.2.3-x86_64-i386-64bit-i386-3.9.7-64/.lock\n",
      "DEBUG:filelock:Attempting to release lock 6593041456 on /Users/felipepinochet/.theano/compiledir_macOS-11.2.3-x86_64-i386-64bit-i386-3.9.7-64/.lock\n",
      "DEBUG:filelock:Lock 6593041456 released on /Users/felipepinochet/.theano/compiledir_macOS-11.2.3-x86_64-i386-64bit-i386-3.9.7-64/.lock\n",
      "DEBUG:filelock:Attempting to acquire lock 6611497456 on /Users/felipepinochet/.theano/compiledir_macOS-11.2.3-x86_64-i386-64bit-i386-3.9.7-64/.lock\n",
      "DEBUG:filelock:Lock 6611497456 acquired on /Users/felipepinochet/.theano/compiledir_macOS-11.2.3-x86_64-i386-64bit-i386-3.9.7-64/.lock\n",
      "DEBUG:filelock:Attempting to release lock 6611497456 on /Users/felipepinochet/.theano/compiledir_macOS-11.2.3-x86_64-i386-64bit-i386-3.9.7-64/.lock\n",
      "DEBUG:filelock:Lock 6611497456 released on /Users/felipepinochet/.theano/compiledir_macOS-11.2.3-x86_64-i386-64bit-i386-3.9.7-64/.lock\n",
      "DEBUG:filelock:Attempting to acquire lock 6584530544 on /Users/felipepinochet/.theano/compiledir_macOS-11.2.3-x86_64-i386-64bit-i386-3.9.7-64/.lock\n",
      "DEBUG:filelock:Lock 6584530544 acquired on /Users/felipepinochet/.theano/compiledir_macOS-11.2.3-x86_64-i386-64bit-i386-3.9.7-64/.lock\n",
      "DEBUG:filelock:Attempting to release lock 6584530544 on /Users/felipepinochet/.theano/compiledir_macOS-11.2.3-x86_64-i386-64bit-i386-3.9.7-64/.lock\n",
      "DEBUG:filelock:Lock 6584530544 released on /Users/felipepinochet/.theano/compiledir_macOS-11.2.3-x86_64-i386-64bit-i386-3.9.7-64/.lock\n",
      "DEBUG:filelock:Attempting to acquire lock 6584529104 on /Users/felipepinochet/.theano/compiledir_macOS-11.2.3-x86_64-i386-64bit-i386-3.9.7-64/.lock\n",
      "DEBUG:filelock:Lock 6584529104 acquired on /Users/felipepinochet/.theano/compiledir_macOS-11.2.3-x86_64-i386-64bit-i386-3.9.7-64/.lock\n",
      "DEBUG:filelock:Attempting to release lock 6584529104 on /Users/felipepinochet/.theano/compiledir_macOS-11.2.3-x86_64-i386-64bit-i386-3.9.7-64/.lock\n",
      "DEBUG:filelock:Lock 6584529104 released on /Users/felipepinochet/.theano/compiledir_macOS-11.2.3-x86_64-i386-64bit-i386-3.9.7-64/.lock\n",
      "DEBUG:filelock:Attempting to acquire lock 6584966880 on /Users/felipepinochet/.theano/compiledir_macOS-11.2.3-x86_64-i386-64bit-i386-3.9.7-64/.lock\n",
      "DEBUG:filelock:Lock 6584966880 acquired on /Users/felipepinochet/.theano/compiledir_macOS-11.2.3-x86_64-i386-64bit-i386-3.9.7-64/.lock\n",
      "DEBUG:filelock:Attempting to release lock 6584966880 on /Users/felipepinochet/.theano/compiledir_macOS-11.2.3-x86_64-i386-64bit-i386-3.9.7-64/.lock\n",
      "DEBUG:filelock:Lock 6584966880 released on /Users/felipepinochet/.theano/compiledir_macOS-11.2.3-x86_64-i386-64bit-i386-3.9.7-64/.lock\n",
      "DEBUG:filelock:Attempting to acquire lock 6609090208 on /Users/felipepinochet/.theano/compiledir_macOS-11.2.3-x86_64-i386-64bit-i386-3.9.7-64/.lock\n",
      "DEBUG:filelock:Lock 6609090208 acquired on /Users/felipepinochet/.theano/compiledir_macOS-11.2.3-x86_64-i386-64bit-i386-3.9.7-64/.lock\n",
      "DEBUG:filelock:Attempting to release lock 6609090208 on /Users/felipepinochet/.theano/compiledir_macOS-11.2.3-x86_64-i386-64bit-i386-3.9.7-64/.lock\n",
      "DEBUG:filelock:Lock 6609090208 released on /Users/felipepinochet/.theano/compiledir_macOS-11.2.3-x86_64-i386-64bit-i386-3.9.7-64/.lock\n",
      "DEBUG:filelock:Attempting to acquire lock 6617539008 on /Users/felipepinochet/.theano/compiledir_macOS-11.2.3-x86_64-i386-64bit-i386-3.9.7-64/.lock\n",
      "DEBUG:filelock:Lock 6617539008 acquired on /Users/felipepinochet/.theano/compiledir_macOS-11.2.3-x86_64-i386-64bit-i386-3.9.7-64/.lock\n",
      "DEBUG:filelock:Attempting to release lock 6617539008 on /Users/felipepinochet/.theano/compiledir_macOS-11.2.3-x86_64-i386-64bit-i386-3.9.7-64/.lock\n",
      "DEBUG:filelock:Lock 6617539008 released on /Users/felipepinochet/.theano/compiledir_macOS-11.2.3-x86_64-i386-64bit-i386-3.9.7-64/.lock\n",
      "Auto-assigning NUTS sampler...\n",
      "INFO:pymc3:Auto-assigning NUTS sampler...\n",
      "Initializing NUTS using jitter+adapt_diag...\n",
      "INFO:pymc3:Initializing NUTS using jitter+adapt_diag...\n",
      "DEBUG:filelock:Attempting to acquire lock 6617540976 on /Users/felipepinochet/.theano/compiledir_macOS-11.2.3-x86_64-i386-64bit-i386-3.9.7-64/.lock\n",
      "DEBUG:filelock:Lock 6617540976 acquired on /Users/felipepinochet/.theano/compiledir_macOS-11.2.3-x86_64-i386-64bit-i386-3.9.7-64/.lock\n",
      "DEBUG:filelock:Attempting to release lock 6617540976 on /Users/felipepinochet/.theano/compiledir_macOS-11.2.3-x86_64-i386-64bit-i386-3.9.7-64/.lock\n",
      "DEBUG:filelock:Lock 6617540976 released on /Users/felipepinochet/.theano/compiledir_macOS-11.2.3-x86_64-i386-64bit-i386-3.9.7-64/.lock\n",
      "DEBUG:filelock:Attempting to acquire lock 6616289040 on /Users/felipepinochet/.theano/compiledir_macOS-11.2.3-x86_64-i386-64bit-i386-3.9.7-64/.lock\n",
      "DEBUG:filelock:Lock 6616289040 acquired on /Users/felipepinochet/.theano/compiledir_macOS-11.2.3-x86_64-i386-64bit-i386-3.9.7-64/.lock\n",
      "DEBUG:filelock:Attempting to release lock 6616289040 on /Users/felipepinochet/.theano/compiledir_macOS-11.2.3-x86_64-i386-64bit-i386-3.9.7-64/.lock\n",
      "DEBUG:filelock:Lock 6616289040 released on /Users/felipepinochet/.theano/compiledir_macOS-11.2.3-x86_64-i386-64bit-i386-3.9.7-64/.lock\n"
     ]
    },
    {
     "output_type": "stream",
     "name": "stderr",
     "text": [
      "DEBUG:filelock:Attempting to acquire lock 6582313888 on /Users/felipepinochet/.theano/compiledir_macOS-11.2.3-x86_64-i386-64bit-i386-3.9.7-64/.lock\n",
      "DEBUG:filelock:Lock 6582313888 acquired on /Users/felipepinochet/.theano/compiledir_macOS-11.2.3-x86_64-i386-64bit-i386-3.9.7-64/.lock\n",
      "DEBUG:filelock:Attempting to release lock 6582313888 on /Users/felipepinochet/.theano/compiledir_macOS-11.2.3-x86_64-i386-64bit-i386-3.9.7-64/.lock\n",
      "DEBUG:filelock:Lock 6582313888 released on /Users/felipepinochet/.theano/compiledir_macOS-11.2.3-x86_64-i386-64bit-i386-3.9.7-64/.lock\n",
      "DEBUG:filelock:Attempting to acquire lock 6589618640 on /Users/felipepinochet/.theano/compiledir_macOS-11.2.3-x86_64-i386-64bit-i386-3.9.7-64/.lock\n",
      "DEBUG:filelock:Lock 6589618640 acquired on /Users/felipepinochet/.theano/compiledir_macOS-11.2.3-x86_64-i386-64bit-i386-3.9.7-64/.lock\n",
      "DEBUG:filelock:Attempting to release lock 6589618640 on /Users/felipepinochet/.theano/compiledir_macOS-11.2.3-x86_64-i386-64bit-i386-3.9.7-64/.lock\n",
      "DEBUG:filelock:Lock 6589618640 released on /Users/felipepinochet/.theano/compiledir_macOS-11.2.3-x86_64-i386-64bit-i386-3.9.7-64/.lock\n",
      "Multiprocess sampling (4 chains in 4 jobs)\n",
      "INFO:pymc3:Multiprocess sampling (4 chains in 4 jobs)\n",
      "NUTS: [mu]\n",
      "INFO:pymc3:NUTS: [mu]\n"
     ]
    },
    {
     "output_type": "display_data",
     "data": {
      "text/html": [
       "\n",
       "    <div>\n",
       "        <style>\n",
       "            /* Turns off some styling */\n",
       "            progress {\n",
       "                /* gets rid of default border in Firefox and Opera. */\n",
       "                border: none;\n",
       "                /* Needs to be in here for Safari polyfill so background images work as expected. */\n",
       "                background-size: auto;\n",
       "            }\n",
       "            .progress-bar-interrupted, .progress-bar-interrupted::-webkit-progress-bar {\n",
       "                background: #F44336;\n",
       "            }\n",
       "        </style>\n",
       "      <progress value='8000' class='' max='8000' style='width:300px; height:20px; vertical-align: middle;'></progress>\n",
       "      100.00% [8000/8000 00:01<00:00 Sampling 4 chains, 0 divergences]\n",
       "    </div>\n",
       "    "
      ],
      "text/plain": [
       "<IPython.core.display.HTML object>"
      ]
     },
     "metadata": {}
    },
    {
     "output_type": "stream",
     "name": "stderr",
     "text": [
      "Sampling 4 chains for 1_000 tune and 1_000 draw iterations (4_000 + 4_000 draws total) took 11 seconds.\n",
      "INFO:pymc3:Sampling 4 chains for 1_000 tune and 1_000 draw iterations (4_000 + 4_000 draws total) took 11 seconds.\n",
      "DEBUG:filelock:Attempting to acquire lock 6556155280 on /Users/felipepinochet/.theano/compiledir_macOS-11.2.3-x86_64-i386-64bit-i386-3.9.7-64/.lock\n",
      "DEBUG:filelock:Lock 6556155280 acquired on /Users/felipepinochet/.theano/compiledir_macOS-11.2.3-x86_64-i386-64bit-i386-3.9.7-64/.lock\n",
      "DEBUG:filelock:Attempting to release lock 6556155280 on /Users/felipepinochet/.theano/compiledir_macOS-11.2.3-x86_64-i386-64bit-i386-3.9.7-64/.lock\n",
      "DEBUG:filelock:Lock 6556155280 released on /Users/felipepinochet/.theano/compiledir_macOS-11.2.3-x86_64-i386-64bit-i386-3.9.7-64/.lock\n",
      "DEBUG:filelock:Attempting to acquire lock 6556155376 on /Users/felipepinochet/.theano/compiledir_macOS-11.2.3-x86_64-i386-64bit-i386-3.9.7-64/.lock\n",
      "DEBUG:filelock:Lock 6556155376 acquired on /Users/felipepinochet/.theano/compiledir_macOS-11.2.3-x86_64-i386-64bit-i386-3.9.7-64/.lock\n",
      "DEBUG:filelock:Attempting to release lock 6556155376 on /Users/felipepinochet/.theano/compiledir_macOS-11.2.3-x86_64-i386-64bit-i386-3.9.7-64/.lock\n",
      "DEBUG:filelock:Lock 6556155376 released on /Users/felipepinochet/.theano/compiledir_macOS-11.2.3-x86_64-i386-64bit-i386-3.9.7-64/.lock\n",
      "DEBUG:filelock:Attempting to acquire lock 6522882560 on /Users/felipepinochet/.theano/compiledir_macOS-11.2.3-x86_64-i386-64bit-i386-3.9.7-64/.lock\n",
      "DEBUG:filelock:Lock 6522882560 acquired on /Users/felipepinochet/.theano/compiledir_macOS-11.2.3-x86_64-i386-64bit-i386-3.9.7-64/.lock\n",
      "DEBUG:filelock:Attempting to release lock 6522882560 on /Users/felipepinochet/.theano/compiledir_macOS-11.2.3-x86_64-i386-64bit-i386-3.9.7-64/.lock\n",
      "DEBUG:filelock:Lock 6522882560 released on /Users/felipepinochet/.theano/compiledir_macOS-11.2.3-x86_64-i386-64bit-i386-3.9.7-64/.lock\n",
      "DEBUG:filelock:Attempting to acquire lock 6522883760 on /Users/felipepinochet/.theano/compiledir_macOS-11.2.3-x86_64-i386-64bit-i386-3.9.7-64/.lock\n",
      "DEBUG:filelock:Lock 6522883760 acquired on /Users/felipepinochet/.theano/compiledir_macOS-11.2.3-x86_64-i386-64bit-i386-3.9.7-64/.lock\n",
      "DEBUG:filelock:Attempting to release lock 6522883760 on /Users/felipepinochet/.theano/compiledir_macOS-11.2.3-x86_64-i386-64bit-i386-3.9.7-64/.lock\n",
      "DEBUG:filelock:Lock 6522883760 released on /Users/felipepinochet/.theano/compiledir_macOS-11.2.3-x86_64-i386-64bit-i386-3.9.7-64/.lock\n",
      "DEBUG:filelock:Attempting to acquire lock 6522605872 on /Users/felipepinochet/.theano/compiledir_macOS-11.2.3-x86_64-i386-64bit-i386-3.9.7-64/.lock\n",
      "DEBUG:filelock:Lock 6522605872 acquired on /Users/felipepinochet/.theano/compiledir_macOS-11.2.3-x86_64-i386-64bit-i386-3.9.7-64/.lock\n",
      "DEBUG:filelock:Attempting to release lock 6522605872 on /Users/felipepinochet/.theano/compiledir_macOS-11.2.3-x86_64-i386-64bit-i386-3.9.7-64/.lock\n",
      "DEBUG:filelock:Lock 6522605872 released on /Users/felipepinochet/.theano/compiledir_macOS-11.2.3-x86_64-i386-64bit-i386-3.9.7-64/.lock\n",
      "DEBUG:filelock:Attempting to acquire lock 6563149088 on /Users/felipepinochet/.theano/compiledir_macOS-11.2.3-x86_64-i386-64bit-i386-3.9.7-64/.lock\n",
      "DEBUG:filelock:Lock 6563149088 acquired on /Users/felipepinochet/.theano/compiledir_macOS-11.2.3-x86_64-i386-64bit-i386-3.9.7-64/.lock\n",
      "DEBUG:filelock:Attempting to release lock 6563149088 on /Users/felipepinochet/.theano/compiledir_macOS-11.2.3-x86_64-i386-64bit-i386-3.9.7-64/.lock\n",
      "DEBUG:filelock:Lock 6563149088 released on /Users/felipepinochet/.theano/compiledir_macOS-11.2.3-x86_64-i386-64bit-i386-3.9.7-64/.lock\n",
      "DEBUG:filelock:Attempting to acquire lock 6528459728 on /Users/felipepinochet/.theano/compiledir_macOS-11.2.3-x86_64-i386-64bit-i386-3.9.7-64/.lock\n",
      "DEBUG:filelock:Lock 6528459728 acquired on /Users/felipepinochet/.theano/compiledir_macOS-11.2.3-x86_64-i386-64bit-i386-3.9.7-64/.lock\n",
      "DEBUG:filelock:Attempting to release lock 6528459728 on /Users/felipepinochet/.theano/compiledir_macOS-11.2.3-x86_64-i386-64bit-i386-3.9.7-64/.lock\n",
      "DEBUG:filelock:Lock 6528459728 released on /Users/felipepinochet/.theano/compiledir_macOS-11.2.3-x86_64-i386-64bit-i386-3.9.7-64/.lock\n",
      "DEBUG:filelock:Attempting to acquire lock 6520688848 on /Users/felipepinochet/.theano/compiledir_macOS-11.2.3-x86_64-i386-64bit-i386-3.9.7-64/.lock\n",
      "DEBUG:filelock:Lock 6520688848 acquired on /Users/felipepinochet/.theano/compiledir_macOS-11.2.3-x86_64-i386-64bit-i386-3.9.7-64/.lock\n",
      "DEBUG:filelock:Attempting to release lock 6520688848 on /Users/felipepinochet/.theano/compiledir_macOS-11.2.3-x86_64-i386-64bit-i386-3.9.7-64/.lock\n",
      "DEBUG:filelock:Lock 6520688848 released on /Users/felipepinochet/.theano/compiledir_macOS-11.2.3-x86_64-i386-64bit-i386-3.9.7-64/.lock\n",
      "DEBUG:filelock:Attempting to acquire lock 6519110768 on /Users/felipepinochet/.theano/compiledir_macOS-11.2.3-x86_64-i386-64bit-i386-3.9.7-64/.lock\n",
      "DEBUG:filelock:Lock 6519110768 acquired on /Users/felipepinochet/.theano/compiledir_macOS-11.2.3-x86_64-i386-64bit-i386-3.9.7-64/.lock\n",
      "DEBUG:filelock:Attempting to release lock 6519110768 on /Users/felipepinochet/.theano/compiledir_macOS-11.2.3-x86_64-i386-64bit-i386-3.9.7-64/.lock\n",
      "DEBUG:filelock:Lock 6519110768 released on /Users/felipepinochet/.theano/compiledir_macOS-11.2.3-x86_64-i386-64bit-i386-3.9.7-64/.lock\n",
      "DEBUG:filelock:Attempting to acquire lock 6519110048 on /Users/felipepinochet/.theano/compiledir_macOS-11.2.3-x86_64-i386-64bit-i386-3.9.7-64/.lock\n",
      "DEBUG:filelock:Lock 6519110048 acquired on /Users/felipepinochet/.theano/compiledir_macOS-11.2.3-x86_64-i386-64bit-i386-3.9.7-64/.lock\n",
      "DEBUG:filelock:Attempting to release lock 6519110048 on /Users/felipepinochet/.theano/compiledir_macOS-11.2.3-x86_64-i386-64bit-i386-3.9.7-64/.lock\n",
      "DEBUG:filelock:Lock 6519110048 released on /Users/felipepinochet/.theano/compiledir_macOS-11.2.3-x86_64-i386-64bit-i386-3.9.7-64/.lock\n",
      "DEBUG:filelock:Attempting to acquire lock 6519107648 on /Users/felipepinochet/.theano/compiledir_macOS-11.2.3-x86_64-i386-64bit-i386-3.9.7-64/.lock\n",
      "DEBUG:filelock:Lock 6519107648 acquired on /Users/felipepinochet/.theano/compiledir_macOS-11.2.3-x86_64-i386-64bit-i386-3.9.7-64/.lock\n",
      "DEBUG:filelock:Attempting to release lock 6519107648 on /Users/felipepinochet/.theano/compiledir_macOS-11.2.3-x86_64-i386-64bit-i386-3.9.7-64/.lock\n",
      "DEBUG:filelock:Lock 6519107648 released on /Users/felipepinochet/.theano/compiledir_macOS-11.2.3-x86_64-i386-64bit-i386-3.9.7-64/.lock\n",
      "DEBUG:filelock:Attempting to acquire lock 6537820048 on /Users/felipepinochet/.theano/compiledir_macOS-11.2.3-x86_64-i386-64bit-i386-3.9.7-64/.lock\n",
      "DEBUG:filelock:Lock 6537820048 acquired on /Users/felipepinochet/.theano/compiledir_macOS-11.2.3-x86_64-i386-64bit-i386-3.9.7-64/.lock\n",
      "DEBUG:filelock:Attempting to release lock 6537820048 on /Users/felipepinochet/.theano/compiledir_macOS-11.2.3-x86_64-i386-64bit-i386-3.9.7-64/.lock\n",
      "DEBUG:filelock:Lock 6537820048 released on /Users/felipepinochet/.theano/compiledir_macOS-11.2.3-x86_64-i386-64bit-i386-3.9.7-64/.lock\n",
      "Auto-assigning NUTS sampler...\n",
      "INFO:pymc3:Auto-assigning NUTS sampler...\n",
      "Initializing NUTS using jitter+adapt_diag...\n",
      "INFO:pymc3:Initializing NUTS using jitter+adapt_diag...\n",
      "DEBUG:filelock:Attempting to acquire lock 6522737136 on /Users/felipepinochet/.theano/compiledir_macOS-11.2.3-x86_64-i386-64bit-i386-3.9.7-64/.lock\n",
      "DEBUG:filelock:Lock 6522737136 acquired on /Users/felipepinochet/.theano/compiledir_macOS-11.2.3-x86_64-i386-64bit-i386-3.9.7-64/.lock\n",
      "DEBUG:filelock:Attempting to release lock 6522737136 on /Users/felipepinochet/.theano/compiledir_macOS-11.2.3-x86_64-i386-64bit-i386-3.9.7-64/.lock\n",
      "DEBUG:filelock:Lock 6522737136 released on /Users/felipepinochet/.theano/compiledir_macOS-11.2.3-x86_64-i386-64bit-i386-3.9.7-64/.lock\n",
      "DEBUG:filelock:Attempting to acquire lock 6589721904 on /Users/felipepinochet/.theano/compiledir_macOS-11.2.3-x86_64-i386-64bit-i386-3.9.7-64/.lock\n",
      "DEBUG:filelock:Lock 6589721904 acquired on /Users/felipepinochet/.theano/compiledir_macOS-11.2.3-x86_64-i386-64bit-i386-3.9.7-64/.lock\n",
      "DEBUG:filelock:Attempting to release lock 6589721904 on /Users/felipepinochet/.theano/compiledir_macOS-11.2.3-x86_64-i386-64bit-i386-3.9.7-64/.lock\n",
      "DEBUG:filelock:Lock 6589721904 released on /Users/felipepinochet/.theano/compiledir_macOS-11.2.3-x86_64-i386-64bit-i386-3.9.7-64/.lock\n"
     ]
    },
    {
     "output_type": "stream",
     "name": "stderr",
     "text": [
      "DEBUG:filelock:Attempting to acquire lock 6529000544 on /Users/felipepinochet/.theano/compiledir_macOS-11.2.3-x86_64-i386-64bit-i386-3.9.7-64/.lock\n",
      "DEBUG:filelock:Lock 6529000544 acquired on /Users/felipepinochet/.theano/compiledir_macOS-11.2.3-x86_64-i386-64bit-i386-3.9.7-64/.lock\n",
      "DEBUG:filelock:Attempting to release lock 6529000544 on /Users/felipepinochet/.theano/compiledir_macOS-11.2.3-x86_64-i386-64bit-i386-3.9.7-64/.lock\n",
      "DEBUG:filelock:Lock 6529000544 released on /Users/felipepinochet/.theano/compiledir_macOS-11.2.3-x86_64-i386-64bit-i386-3.9.7-64/.lock\n",
      "DEBUG:filelock:Attempting to acquire lock 6519998832 on /Users/felipepinochet/.theano/compiledir_macOS-11.2.3-x86_64-i386-64bit-i386-3.9.7-64/.lock\n",
      "DEBUG:filelock:Lock 6519998832 acquired on /Users/felipepinochet/.theano/compiledir_macOS-11.2.3-x86_64-i386-64bit-i386-3.9.7-64/.lock\n",
      "DEBUG:filelock:Attempting to release lock 6519998832 on /Users/felipepinochet/.theano/compiledir_macOS-11.2.3-x86_64-i386-64bit-i386-3.9.7-64/.lock\n",
      "DEBUG:filelock:Lock 6519998832 released on /Users/felipepinochet/.theano/compiledir_macOS-11.2.3-x86_64-i386-64bit-i386-3.9.7-64/.lock\n",
      "Multiprocess sampling (4 chains in 4 jobs)\n",
      "INFO:pymc3:Multiprocess sampling (4 chains in 4 jobs)\n",
      "NUTS: [mu]\n",
      "INFO:pymc3:NUTS: [mu]\n"
     ]
    },
    {
     "output_type": "display_data",
     "data": {
      "text/html": [
       "\n",
       "    <div>\n",
       "        <style>\n",
       "            /* Turns off some styling */\n",
       "            progress {\n",
       "                /* gets rid of default border in Firefox and Opera. */\n",
       "                border: none;\n",
       "                /* Needs to be in here for Safari polyfill so background images work as expected. */\n",
       "                background-size: auto;\n",
       "            }\n",
       "            .progress-bar-interrupted, .progress-bar-interrupted::-webkit-progress-bar {\n",
       "                background: #F44336;\n",
       "            }\n",
       "        </style>\n",
       "      <progress value='8000' class='' max='8000' style='width:300px; height:20px; vertical-align: middle;'></progress>\n",
       "      100.00% [8000/8000 00:02<00:00 Sampling 4 chains, 0 divergences]\n",
       "    </div>\n",
       "    "
      ],
      "text/plain": [
       "<IPython.core.display.HTML object>"
      ]
     },
     "metadata": {}
    },
    {
     "output_type": "stream",
     "name": "stderr",
     "text": [
      "Sampling 4 chains for 1_000 tune and 1_000 draw iterations (4_000 + 4_000 draws total) took 11 seconds.\n",
      "INFO:pymc3:Sampling 4 chains for 1_000 tune and 1_000 draw iterations (4_000 + 4_000 draws total) took 11 seconds.\n",
      "DEBUG:filelock:Attempting to acquire lock 6627969680 on /Users/felipepinochet/.theano/compiledir_macOS-11.2.3-x86_64-i386-64bit-i386-3.9.7-64/.lock\n",
      "DEBUG:filelock:Lock 6627969680 acquired on /Users/felipepinochet/.theano/compiledir_macOS-11.2.3-x86_64-i386-64bit-i386-3.9.7-64/.lock\n",
      "DEBUG:filelock:Attempting to release lock 6627969680 on /Users/felipepinochet/.theano/compiledir_macOS-11.2.3-x86_64-i386-64bit-i386-3.9.7-64/.lock\n",
      "DEBUG:filelock:Lock 6627969680 released on /Users/felipepinochet/.theano/compiledir_macOS-11.2.3-x86_64-i386-64bit-i386-3.9.7-64/.lock\n",
      "DEBUG:filelock:Attempting to acquire lock 6622678800 on /Users/felipepinochet/.theano/compiledir_macOS-11.2.3-x86_64-i386-64bit-i386-3.9.7-64/.lock\n",
      "DEBUG:filelock:Lock 6622678800 acquired on /Users/felipepinochet/.theano/compiledir_macOS-11.2.3-x86_64-i386-64bit-i386-3.9.7-64/.lock\n",
      "DEBUG:filelock:Attempting to release lock 6622678800 on /Users/felipepinochet/.theano/compiledir_macOS-11.2.3-x86_64-i386-64bit-i386-3.9.7-64/.lock\n",
      "DEBUG:filelock:Lock 6622678800 released on /Users/felipepinochet/.theano/compiledir_macOS-11.2.3-x86_64-i386-64bit-i386-3.9.7-64/.lock\n",
      "DEBUG:filelock:Attempting to acquire lock 6628191344 on /Users/felipepinochet/.theano/compiledir_macOS-11.2.3-x86_64-i386-64bit-i386-3.9.7-64/.lock\n",
      "DEBUG:filelock:Lock 6628191344 acquired on /Users/felipepinochet/.theano/compiledir_macOS-11.2.3-x86_64-i386-64bit-i386-3.9.7-64/.lock\n",
      "DEBUG:filelock:Attempting to release lock 6628191344 on /Users/felipepinochet/.theano/compiledir_macOS-11.2.3-x86_64-i386-64bit-i386-3.9.7-64/.lock\n",
      "DEBUG:filelock:Lock 6628191344 released on /Users/felipepinochet/.theano/compiledir_macOS-11.2.3-x86_64-i386-64bit-i386-3.9.7-64/.lock\n",
      "DEBUG:filelock:Attempting to acquire lock 6628191104 on /Users/felipepinochet/.theano/compiledir_macOS-11.2.3-x86_64-i386-64bit-i386-3.9.7-64/.lock\n",
      "DEBUG:filelock:Lock 6628191104 acquired on /Users/felipepinochet/.theano/compiledir_macOS-11.2.3-x86_64-i386-64bit-i386-3.9.7-64/.lock\n",
      "DEBUG:filelock:Attempting to release lock 6628191104 on /Users/felipepinochet/.theano/compiledir_macOS-11.2.3-x86_64-i386-64bit-i386-3.9.7-64/.lock\n",
      "DEBUG:filelock:Lock 6628191104 released on /Users/felipepinochet/.theano/compiledir_macOS-11.2.3-x86_64-i386-64bit-i386-3.9.7-64/.lock\n",
      "DEBUG:filelock:Attempting to acquire lock 6622812864 on /Users/felipepinochet/.theano/compiledir_macOS-11.2.3-x86_64-i386-64bit-i386-3.9.7-64/.lock\n",
      "DEBUG:filelock:Lock 6622812864 acquired on /Users/felipepinochet/.theano/compiledir_macOS-11.2.3-x86_64-i386-64bit-i386-3.9.7-64/.lock\n",
      "DEBUG:filelock:Attempting to release lock 6622812864 on /Users/felipepinochet/.theano/compiledir_macOS-11.2.3-x86_64-i386-64bit-i386-3.9.7-64/.lock\n",
      "DEBUG:filelock:Lock 6622812864 released on /Users/felipepinochet/.theano/compiledir_macOS-11.2.3-x86_64-i386-64bit-i386-3.9.7-64/.lock\n",
      "DEBUG:filelock:Attempting to acquire lock 6528354816 on /Users/felipepinochet/.theano/compiledir_macOS-11.2.3-x86_64-i386-64bit-i386-3.9.7-64/.lock\n",
      "DEBUG:filelock:Lock 6528354816 acquired on /Users/felipepinochet/.theano/compiledir_macOS-11.2.3-x86_64-i386-64bit-i386-3.9.7-64/.lock\n",
      "DEBUG:filelock:Attempting to release lock 6528354816 on /Users/felipepinochet/.theano/compiledir_macOS-11.2.3-x86_64-i386-64bit-i386-3.9.7-64/.lock\n",
      "DEBUG:filelock:Lock 6528354816 released on /Users/felipepinochet/.theano/compiledir_macOS-11.2.3-x86_64-i386-64bit-i386-3.9.7-64/.lock\n",
      "DEBUG:filelock:Attempting to acquire lock 6617820992 on /Users/felipepinochet/.theano/compiledir_macOS-11.2.3-x86_64-i386-64bit-i386-3.9.7-64/.lock\n",
      "DEBUG:filelock:Lock 6617820992 acquired on /Users/felipepinochet/.theano/compiledir_macOS-11.2.3-x86_64-i386-64bit-i386-3.9.7-64/.lock\n",
      "DEBUG:filelock:Attempting to release lock 6617820992 on /Users/felipepinochet/.theano/compiledir_macOS-11.2.3-x86_64-i386-64bit-i386-3.9.7-64/.lock\n",
      "DEBUG:filelock:Lock 6617820992 released on /Users/felipepinochet/.theano/compiledir_macOS-11.2.3-x86_64-i386-64bit-i386-3.9.7-64/.lock\n",
      "DEBUG:filelock:Attempting to acquire lock 6591698256 on /Users/felipepinochet/.theano/compiledir_macOS-11.2.3-x86_64-i386-64bit-i386-3.9.7-64/.lock\n",
      "DEBUG:filelock:Lock 6591698256 acquired on /Users/felipepinochet/.theano/compiledir_macOS-11.2.3-x86_64-i386-64bit-i386-3.9.7-64/.lock\n",
      "DEBUG:filelock:Attempting to release lock 6591698256 on /Users/felipepinochet/.theano/compiledir_macOS-11.2.3-x86_64-i386-64bit-i386-3.9.7-64/.lock\n",
      "DEBUG:filelock:Lock 6591698256 released on /Users/felipepinochet/.theano/compiledir_macOS-11.2.3-x86_64-i386-64bit-i386-3.9.7-64/.lock\n",
      "DEBUG:filelock:Attempting to acquire lock 6617475680 on /Users/felipepinochet/.theano/compiledir_macOS-11.2.3-x86_64-i386-64bit-i386-3.9.7-64/.lock\n",
      "DEBUG:filelock:Lock 6617475680 acquired on /Users/felipepinochet/.theano/compiledir_macOS-11.2.3-x86_64-i386-64bit-i386-3.9.7-64/.lock\n",
      "DEBUG:filelock:Attempting to release lock 6617475680 on /Users/felipepinochet/.theano/compiledir_macOS-11.2.3-x86_64-i386-64bit-i386-3.9.7-64/.lock\n",
      "DEBUG:filelock:Lock 6617475680 released on /Users/felipepinochet/.theano/compiledir_macOS-11.2.3-x86_64-i386-64bit-i386-3.9.7-64/.lock\n",
      "DEBUG:filelock:Attempting to acquire lock 6591617104 on /Users/felipepinochet/.theano/compiledir_macOS-11.2.3-x86_64-i386-64bit-i386-3.9.7-64/.lock\n",
      "DEBUG:filelock:Lock 6591617104 acquired on /Users/felipepinochet/.theano/compiledir_macOS-11.2.3-x86_64-i386-64bit-i386-3.9.7-64/.lock\n",
      "DEBUG:filelock:Attempting to release lock 6591617104 on /Users/felipepinochet/.theano/compiledir_macOS-11.2.3-x86_64-i386-64bit-i386-3.9.7-64/.lock\n",
      "DEBUG:filelock:Lock 6591617104 released on /Users/felipepinochet/.theano/compiledir_macOS-11.2.3-x86_64-i386-64bit-i386-3.9.7-64/.lock\n",
      "DEBUG:filelock:Attempting to acquire lock 6580702512 on /Users/felipepinochet/.theano/compiledir_macOS-11.2.3-x86_64-i386-64bit-i386-3.9.7-64/.lock\n",
      "DEBUG:filelock:Lock 6580702512 acquired on /Users/felipepinochet/.theano/compiledir_macOS-11.2.3-x86_64-i386-64bit-i386-3.9.7-64/.lock\n",
      "DEBUG:filelock:Attempting to release lock 6580702512 on /Users/felipepinochet/.theano/compiledir_macOS-11.2.3-x86_64-i386-64bit-i386-3.9.7-64/.lock\n",
      "DEBUG:filelock:Lock 6580702512 released on /Users/felipepinochet/.theano/compiledir_macOS-11.2.3-x86_64-i386-64bit-i386-3.9.7-64/.lock\n",
      "DEBUG:filelock:Attempting to acquire lock 6591616960 on /Users/felipepinochet/.theano/compiledir_macOS-11.2.3-x86_64-i386-64bit-i386-3.9.7-64/.lock\n",
      "DEBUG:filelock:Lock 6591616960 acquired on /Users/felipepinochet/.theano/compiledir_macOS-11.2.3-x86_64-i386-64bit-i386-3.9.7-64/.lock\n",
      "DEBUG:filelock:Attempting to release lock 6591616960 on /Users/felipepinochet/.theano/compiledir_macOS-11.2.3-x86_64-i386-64bit-i386-3.9.7-64/.lock\n",
      "DEBUG:filelock:Lock 6591616960 released on /Users/felipepinochet/.theano/compiledir_macOS-11.2.3-x86_64-i386-64bit-i386-3.9.7-64/.lock\n",
      "DEBUG:filelock:Attempting to acquire lock 6629287872 on /Users/felipepinochet/.theano/compiledir_macOS-11.2.3-x86_64-i386-64bit-i386-3.9.7-64/.lock\n",
      "DEBUG:filelock:Lock 6629287872 acquired on /Users/felipepinochet/.theano/compiledir_macOS-11.2.3-x86_64-i386-64bit-i386-3.9.7-64/.lock\n",
      "DEBUG:filelock:Attempting to release lock 6629287872 on /Users/felipepinochet/.theano/compiledir_macOS-11.2.3-x86_64-i386-64bit-i386-3.9.7-64/.lock\n",
      "DEBUG:filelock:Lock 6629287872 released on /Users/felipepinochet/.theano/compiledir_macOS-11.2.3-x86_64-i386-64bit-i386-3.9.7-64/.lock\n",
      "DEBUG:filelock:Attempting to acquire lock 6619219184 on /Users/felipepinochet/.theano/compiledir_macOS-11.2.3-x86_64-i386-64bit-i386-3.9.7-64/.lock\n",
      "DEBUG:filelock:Lock 6619219184 acquired on /Users/felipepinochet/.theano/compiledir_macOS-11.2.3-x86_64-i386-64bit-i386-3.9.7-64/.lock\n",
      "DEBUG:filelock:Attempting to release lock 6619219184 on /Users/felipepinochet/.theano/compiledir_macOS-11.2.3-x86_64-i386-64bit-i386-3.9.7-64/.lock\n",
      "DEBUG:filelock:Lock 6619219184 released on /Users/felipepinochet/.theano/compiledir_macOS-11.2.3-x86_64-i386-64bit-i386-3.9.7-64/.lock\n",
      "Auto-assigning NUTS sampler...\n",
      "INFO:pymc3:Auto-assigning NUTS sampler...\n"
     ]
    },
    {
     "output_type": "stream",
     "name": "stderr",
     "text": [
      "Initializing NUTS using jitter+adapt_diag...\n",
      "INFO:pymc3:Initializing NUTS using jitter+adapt_diag...\n",
      "DEBUG:filelock:Attempting to acquire lock 6625841056 on /Users/felipepinochet/.theano/compiledir_macOS-11.2.3-x86_64-i386-64bit-i386-3.9.7-64/.lock\n",
      "DEBUG:filelock:Lock 6625841056 acquired on /Users/felipepinochet/.theano/compiledir_macOS-11.2.3-x86_64-i386-64bit-i386-3.9.7-64/.lock\n",
      "DEBUG:filelock:Attempting to release lock 6625841056 on /Users/felipepinochet/.theano/compiledir_macOS-11.2.3-x86_64-i386-64bit-i386-3.9.7-64/.lock\n",
      "DEBUG:filelock:Lock 6625841056 released on /Users/felipepinochet/.theano/compiledir_macOS-11.2.3-x86_64-i386-64bit-i386-3.9.7-64/.lock\n",
      "DEBUG:filelock:Attempting to acquire lock 6626193520 on /Users/felipepinochet/.theano/compiledir_macOS-11.2.3-x86_64-i386-64bit-i386-3.9.7-64/.lock\n",
      "DEBUG:filelock:Lock 6626193520 acquired on /Users/felipepinochet/.theano/compiledir_macOS-11.2.3-x86_64-i386-64bit-i386-3.9.7-64/.lock\n",
      "DEBUG:filelock:Attempting to release lock 6626193520 on /Users/felipepinochet/.theano/compiledir_macOS-11.2.3-x86_64-i386-64bit-i386-3.9.7-64/.lock\n",
      "DEBUG:filelock:Lock 6626193520 released on /Users/felipepinochet/.theano/compiledir_macOS-11.2.3-x86_64-i386-64bit-i386-3.9.7-64/.lock\n",
      "DEBUG:filelock:Attempting to acquire lock 6618393472 on /Users/felipepinochet/.theano/compiledir_macOS-11.2.3-x86_64-i386-64bit-i386-3.9.7-64/.lock\n",
      "DEBUG:filelock:Lock 6618393472 acquired on /Users/felipepinochet/.theano/compiledir_macOS-11.2.3-x86_64-i386-64bit-i386-3.9.7-64/.lock\n",
      "DEBUG:filelock:Attempting to release lock 6618393472 on /Users/felipepinochet/.theano/compiledir_macOS-11.2.3-x86_64-i386-64bit-i386-3.9.7-64/.lock\n",
      "DEBUG:filelock:Lock 6618393472 released on /Users/felipepinochet/.theano/compiledir_macOS-11.2.3-x86_64-i386-64bit-i386-3.9.7-64/.lock\n",
      "DEBUG:filelock:Attempting to acquire lock 6626357056 on /Users/felipepinochet/.theano/compiledir_macOS-11.2.3-x86_64-i386-64bit-i386-3.9.7-64/.lock\n",
      "DEBUG:filelock:Lock 6626357056 acquired on /Users/felipepinochet/.theano/compiledir_macOS-11.2.3-x86_64-i386-64bit-i386-3.9.7-64/.lock\n",
      "DEBUG:filelock:Attempting to release lock 6626357056 on /Users/felipepinochet/.theano/compiledir_macOS-11.2.3-x86_64-i386-64bit-i386-3.9.7-64/.lock\n",
      "DEBUG:filelock:Lock 6626357056 released on /Users/felipepinochet/.theano/compiledir_macOS-11.2.3-x86_64-i386-64bit-i386-3.9.7-64/.lock\n",
      "DEBUG:filelock:Attempting to acquire lock 6626774656 on /Users/felipepinochet/.theano/compiledir_macOS-11.2.3-x86_64-i386-64bit-i386-3.9.7-64/.lock\n",
      "DEBUG:filelock:Lock 6626774656 acquired on /Users/felipepinochet/.theano/compiledir_macOS-11.2.3-x86_64-i386-64bit-i386-3.9.7-64/.lock\n",
      "DEBUG:filelock:Attempting to release lock 6626774656 on /Users/felipepinochet/.theano/compiledir_macOS-11.2.3-x86_64-i386-64bit-i386-3.9.7-64/.lock\n",
      "DEBUG:filelock:Lock 6626774656 released on /Users/felipepinochet/.theano/compiledir_macOS-11.2.3-x86_64-i386-64bit-i386-3.9.7-64/.lock\n",
      "DEBUG:filelock:Attempting to acquire lock 6620068016 on /Users/felipepinochet/.theano/compiledir_macOS-11.2.3-x86_64-i386-64bit-i386-3.9.7-64/.lock\n",
      "DEBUG:filelock:Lock 6620068016 acquired on /Users/felipepinochet/.theano/compiledir_macOS-11.2.3-x86_64-i386-64bit-i386-3.9.7-64/.lock\n",
      "DEBUG:filelock:Attempting to release lock 6620068016 on /Users/felipepinochet/.theano/compiledir_macOS-11.2.3-x86_64-i386-64bit-i386-3.9.7-64/.lock\n",
      "DEBUG:filelock:Lock 6620068016 released on /Users/felipepinochet/.theano/compiledir_macOS-11.2.3-x86_64-i386-64bit-i386-3.9.7-64/.lock\n",
      "Multiprocess sampling (4 chains in 4 jobs)\n",
      "INFO:pymc3:Multiprocess sampling (4 chains in 4 jobs)\n",
      "NUTS: [mu]\n",
      "INFO:pymc3:NUTS: [mu]\n"
     ]
    },
    {
     "output_type": "display_data",
     "data": {
      "text/html": [
       "\n",
       "    <div>\n",
       "        <style>\n",
       "            /* Turns off some styling */\n",
       "            progress {\n",
       "                /* gets rid of default border in Firefox and Opera. */\n",
       "                border: none;\n",
       "                /* Needs to be in here for Safari polyfill so background images work as expected. */\n",
       "                background-size: auto;\n",
       "            }\n",
       "            .progress-bar-interrupted, .progress-bar-interrupted::-webkit-progress-bar {\n",
       "                background: #F44336;\n",
       "            }\n",
       "        </style>\n",
       "      <progress value='8000' class='' max='8000' style='width:300px; height:20px; vertical-align: middle;'></progress>\n",
       "      100.00% [8000/8000 00:09<00:00 Sampling 4 chains, 0 divergences]\n",
       "    </div>\n",
       "    "
      ],
      "text/plain": [
       "<IPython.core.display.HTML object>"
      ]
     },
     "metadata": {}
    },
    {
     "output_type": "stream",
     "name": "stderr",
     "text": [
      "Sampling 4 chains for 1_000 tune and 1_000 draw iterations (4_000 + 4_000 draws total) took 19 seconds.\n",
      "INFO:pymc3:Sampling 4 chains for 1_000 tune and 1_000 draw iterations (4_000 + 4_000 draws total) took 19 seconds.\n",
      "DEBUG:filelock:Attempting to acquire lock 6539240976 on /Users/felipepinochet/.theano/compiledir_macOS-11.2.3-x86_64-i386-64bit-i386-3.9.7-64/.lock\n",
      "DEBUG:filelock:Lock 6539240976 acquired on /Users/felipepinochet/.theano/compiledir_macOS-11.2.3-x86_64-i386-64bit-i386-3.9.7-64/.lock\n",
      "DEBUG:filelock:Attempting to release lock 6539240976 on /Users/felipepinochet/.theano/compiledir_macOS-11.2.3-x86_64-i386-64bit-i386-3.9.7-64/.lock\n",
      "DEBUG:filelock:Lock 6539240976 released on /Users/felipepinochet/.theano/compiledir_macOS-11.2.3-x86_64-i386-64bit-i386-3.9.7-64/.lock\n",
      "DEBUG:filelock:Attempting to acquire lock 6555324768 on /Users/felipepinochet/.theano/compiledir_macOS-11.2.3-x86_64-i386-64bit-i386-3.9.7-64/.lock\n",
      "DEBUG:filelock:Lock 6555324768 acquired on /Users/felipepinochet/.theano/compiledir_macOS-11.2.3-x86_64-i386-64bit-i386-3.9.7-64/.lock\n",
      "DEBUG:filelock:Attempting to release lock 6555324768 on /Users/felipepinochet/.theano/compiledir_macOS-11.2.3-x86_64-i386-64bit-i386-3.9.7-64/.lock\n",
      "DEBUG:filelock:Lock 6555324768 released on /Users/felipepinochet/.theano/compiledir_macOS-11.2.3-x86_64-i386-64bit-i386-3.9.7-64/.lock\n",
      "DEBUG:filelock:Attempting to acquire lock 6543205136 on /Users/felipepinochet/.theano/compiledir_macOS-11.2.3-x86_64-i386-64bit-i386-3.9.7-64/.lock\n",
      "DEBUG:filelock:Lock 6543205136 acquired on /Users/felipepinochet/.theano/compiledir_macOS-11.2.3-x86_64-i386-64bit-i386-3.9.7-64/.lock\n",
      "DEBUG:filelock:Attempting to release lock 6543205136 on /Users/felipepinochet/.theano/compiledir_macOS-11.2.3-x86_64-i386-64bit-i386-3.9.7-64/.lock\n",
      "DEBUG:filelock:Lock 6543205136 released on /Users/felipepinochet/.theano/compiledir_macOS-11.2.3-x86_64-i386-64bit-i386-3.9.7-64/.lock\n",
      "DEBUG:filelock:Attempting to acquire lock 6519515744 on /Users/felipepinochet/.theano/compiledir_macOS-11.2.3-x86_64-i386-64bit-i386-3.9.7-64/.lock\n",
      "DEBUG:filelock:Lock 6519515744 acquired on /Users/felipepinochet/.theano/compiledir_macOS-11.2.3-x86_64-i386-64bit-i386-3.9.7-64/.lock\n",
      "DEBUG:filelock:Attempting to release lock 6519515744 on /Users/felipepinochet/.theano/compiledir_macOS-11.2.3-x86_64-i386-64bit-i386-3.9.7-64/.lock\n",
      "DEBUG:filelock:Lock 6519515744 released on /Users/felipepinochet/.theano/compiledir_macOS-11.2.3-x86_64-i386-64bit-i386-3.9.7-64/.lock\n",
      "DEBUG:filelock:Attempting to acquire lock 6563806128 on /Users/felipepinochet/.theano/compiledir_macOS-11.2.3-x86_64-i386-64bit-i386-3.9.7-64/.lock\n",
      "DEBUG:filelock:Lock 6563806128 acquired on /Users/felipepinochet/.theano/compiledir_macOS-11.2.3-x86_64-i386-64bit-i386-3.9.7-64/.lock\n",
      "DEBUG:filelock:Attempting to release lock 6563806128 on /Users/felipepinochet/.theano/compiledir_macOS-11.2.3-x86_64-i386-64bit-i386-3.9.7-64/.lock\n",
      "DEBUG:filelock:Lock 6563806128 released on /Users/felipepinochet/.theano/compiledir_macOS-11.2.3-x86_64-i386-64bit-i386-3.9.7-64/.lock\n",
      "DEBUG:filelock:Attempting to acquire lock 6518921872 on /Users/felipepinochet/.theano/compiledir_macOS-11.2.3-x86_64-i386-64bit-i386-3.9.7-64/.lock\n",
      "DEBUG:filelock:Lock 6518921872 acquired on /Users/felipepinochet/.theano/compiledir_macOS-11.2.3-x86_64-i386-64bit-i386-3.9.7-64/.lock\n",
      "DEBUG:filelock:Attempting to release lock 6518921872 on /Users/felipepinochet/.theano/compiledir_macOS-11.2.3-x86_64-i386-64bit-i386-3.9.7-64/.lock\n",
      "DEBUG:filelock:Lock 6518921872 released on /Users/felipepinochet/.theano/compiledir_macOS-11.2.3-x86_64-i386-64bit-i386-3.9.7-64/.lock\n",
      "DEBUG:filelock:Attempting to acquire lock 6521141184 on /Users/felipepinochet/.theano/compiledir_macOS-11.2.3-x86_64-i386-64bit-i386-3.9.7-64/.lock\n",
      "DEBUG:filelock:Lock 6521141184 acquired on /Users/felipepinochet/.theano/compiledir_macOS-11.2.3-x86_64-i386-64bit-i386-3.9.7-64/.lock\n",
      "DEBUG:filelock:Attempting to release lock 6521141184 on /Users/felipepinochet/.theano/compiledir_macOS-11.2.3-x86_64-i386-64bit-i386-3.9.7-64/.lock\n",
      "DEBUG:filelock:Lock 6521141184 released on /Users/felipepinochet/.theano/compiledir_macOS-11.2.3-x86_64-i386-64bit-i386-3.9.7-64/.lock\n",
      "DEBUG:filelock:Attempting to acquire lock 6563376192 on /Users/felipepinochet/.theano/compiledir_macOS-11.2.3-x86_64-i386-64bit-i386-3.9.7-64/.lock\n",
      "DEBUG:filelock:Lock 6563376192 acquired on /Users/felipepinochet/.theano/compiledir_macOS-11.2.3-x86_64-i386-64bit-i386-3.9.7-64/.lock\n",
      "DEBUG:filelock:Attempting to release lock 6563376192 on /Users/felipepinochet/.theano/compiledir_macOS-11.2.3-x86_64-i386-64bit-i386-3.9.7-64/.lock\n",
      "DEBUG:filelock:Lock 6563376192 released on /Users/felipepinochet/.theano/compiledir_macOS-11.2.3-x86_64-i386-64bit-i386-3.9.7-64/.lock\n",
      "DEBUG:filelock:Attempting to acquire lock 6523027024 on /Users/felipepinochet/.theano/compiledir_macOS-11.2.3-x86_64-i386-64bit-i386-3.9.7-64/.lock\n",
      "DEBUG:filelock:Lock 6523027024 acquired on /Users/felipepinochet/.theano/compiledir_macOS-11.2.3-x86_64-i386-64bit-i386-3.9.7-64/.lock\n",
      "DEBUG:filelock:Attempting to release lock 6523027024 on /Users/felipepinochet/.theano/compiledir_macOS-11.2.3-x86_64-i386-64bit-i386-3.9.7-64/.lock\n",
      "DEBUG:filelock:Lock 6523027024 released on /Users/felipepinochet/.theano/compiledir_macOS-11.2.3-x86_64-i386-64bit-i386-3.9.7-64/.lock\n",
      "DEBUG:filelock:Attempting to acquire lock 6528667456 on /Users/felipepinochet/.theano/compiledir_macOS-11.2.3-x86_64-i386-64bit-i386-3.9.7-64/.lock\n",
      "DEBUG:filelock:Lock 6528667456 acquired on /Users/felipepinochet/.theano/compiledir_macOS-11.2.3-x86_64-i386-64bit-i386-3.9.7-64/.lock\n",
      "DEBUG:filelock:Attempting to release lock 6528667456 on /Users/felipepinochet/.theano/compiledir_macOS-11.2.3-x86_64-i386-64bit-i386-3.9.7-64/.lock\n",
      "DEBUG:filelock:Lock 6528667456 released on /Users/felipepinochet/.theano/compiledir_macOS-11.2.3-x86_64-i386-64bit-i386-3.9.7-64/.lock\n",
      "DEBUG:filelock:Attempting to acquire lock 6528664528 on /Users/felipepinochet/.theano/compiledir_macOS-11.2.3-x86_64-i386-64bit-i386-3.9.7-64/.lock\n",
      "DEBUG:filelock:Lock 6528664528 acquired on /Users/felipepinochet/.theano/compiledir_macOS-11.2.3-x86_64-i386-64bit-i386-3.9.7-64/.lock\n",
      "DEBUG:filelock:Attempting to release lock 6528664528 on /Users/felipepinochet/.theano/compiledir_macOS-11.2.3-x86_64-i386-64bit-i386-3.9.7-64/.lock\n",
      "DEBUG:filelock:Lock 6528664528 released on /Users/felipepinochet/.theano/compiledir_macOS-11.2.3-x86_64-i386-64bit-i386-3.9.7-64/.lock\n",
      "DEBUG:filelock:Attempting to acquire lock 6523023760 on /Users/felipepinochet/.theano/compiledir_macOS-11.2.3-x86_64-i386-64bit-i386-3.9.7-64/.lock\n",
      "DEBUG:filelock:Lock 6523023760 acquired on /Users/felipepinochet/.theano/compiledir_macOS-11.2.3-x86_64-i386-64bit-i386-3.9.7-64/.lock\n",
      "DEBUG:filelock:Attempting to release lock 6523023760 on /Users/felipepinochet/.theano/compiledir_macOS-11.2.3-x86_64-i386-64bit-i386-3.9.7-64/.lock\n",
      "DEBUG:filelock:Lock 6523023760 released on /Users/felipepinochet/.theano/compiledir_macOS-11.2.3-x86_64-i386-64bit-i386-3.9.7-64/.lock\n",
      "DEBUG:filelock:Attempting to acquire lock 6529002368 on /Users/felipepinochet/.theano/compiledir_macOS-11.2.3-x86_64-i386-64bit-i386-3.9.7-64/.lock\n",
      "DEBUG:filelock:Lock 6529002368 acquired on /Users/felipepinochet/.theano/compiledir_macOS-11.2.3-x86_64-i386-64bit-i386-3.9.7-64/.lock\n",
      "DEBUG:filelock:Attempting to release lock 6529002368 on /Users/felipepinochet/.theano/compiledir_macOS-11.2.3-x86_64-i386-64bit-i386-3.9.7-64/.lock\n",
      "DEBUG:filelock:Lock 6529002368 released on /Users/felipepinochet/.theano/compiledir_macOS-11.2.3-x86_64-i386-64bit-i386-3.9.7-64/.lock\n",
      "DEBUG:filelock:Attempting to acquire lock 6528111184 on /Users/felipepinochet/.theano/compiledir_macOS-11.2.3-x86_64-i386-64bit-i386-3.9.7-64/.lock\n",
      "DEBUG:filelock:Lock 6528111184 acquired on /Users/felipepinochet/.theano/compiledir_macOS-11.2.3-x86_64-i386-64bit-i386-3.9.7-64/.lock\n",
      "DEBUG:filelock:Attempting to release lock 6528111184 on /Users/felipepinochet/.theano/compiledir_macOS-11.2.3-x86_64-i386-64bit-i386-3.9.7-64/.lock\n",
      "DEBUG:filelock:Lock 6528111184 released on /Users/felipepinochet/.theano/compiledir_macOS-11.2.3-x86_64-i386-64bit-i386-3.9.7-64/.lock\n",
      "Auto-assigning NUTS sampler...\n",
      "INFO:pymc3:Auto-assigning NUTS sampler...\n"
     ]
    },
    {
     "output_type": "stream",
     "name": "stderr",
     "text": [
      "Initializing NUTS using jitter+adapt_diag...\n",
      "INFO:pymc3:Initializing NUTS using jitter+adapt_diag...\n",
      "DEBUG:filelock:Attempting to acquire lock 6529195696 on /Users/felipepinochet/.theano/compiledir_macOS-11.2.3-x86_64-i386-64bit-i386-3.9.7-64/.lock\n",
      "DEBUG:filelock:Lock 6529195696 acquired on /Users/felipepinochet/.theano/compiledir_macOS-11.2.3-x86_64-i386-64bit-i386-3.9.7-64/.lock\n",
      "DEBUG:filelock:Attempting to release lock 6529195696 on /Users/felipepinochet/.theano/compiledir_macOS-11.2.3-x86_64-i386-64bit-i386-3.9.7-64/.lock\n",
      "DEBUG:filelock:Lock 6529195696 released on /Users/felipepinochet/.theano/compiledir_macOS-11.2.3-x86_64-i386-64bit-i386-3.9.7-64/.lock\n",
      "DEBUG:filelock:Attempting to acquire lock 6588942896 on /Users/felipepinochet/.theano/compiledir_macOS-11.2.3-x86_64-i386-64bit-i386-3.9.7-64/.lock\n",
      "DEBUG:filelock:Lock 6588942896 acquired on /Users/felipepinochet/.theano/compiledir_macOS-11.2.3-x86_64-i386-64bit-i386-3.9.7-64/.lock\n",
      "DEBUG:filelock:Attempting to release lock 6588942896 on /Users/felipepinochet/.theano/compiledir_macOS-11.2.3-x86_64-i386-64bit-i386-3.9.7-64/.lock\n",
      "DEBUG:filelock:Lock 6588942896 released on /Users/felipepinochet/.theano/compiledir_macOS-11.2.3-x86_64-i386-64bit-i386-3.9.7-64/.lock\n",
      "DEBUG:filelock:Attempting to acquire lock 6560153312 on /Users/felipepinochet/.theano/compiledir_macOS-11.2.3-x86_64-i386-64bit-i386-3.9.7-64/.lock\n",
      "DEBUG:filelock:Lock 6560153312 acquired on /Users/felipepinochet/.theano/compiledir_macOS-11.2.3-x86_64-i386-64bit-i386-3.9.7-64/.lock\n",
      "DEBUG:filelock:Attempting to release lock 6560153312 on /Users/felipepinochet/.theano/compiledir_macOS-11.2.3-x86_64-i386-64bit-i386-3.9.7-64/.lock\n",
      "DEBUG:filelock:Lock 6560153312 released on /Users/felipepinochet/.theano/compiledir_macOS-11.2.3-x86_64-i386-64bit-i386-3.9.7-64/.lock\n",
      "DEBUG:filelock:Attempting to acquire lock 6592125104 on /Users/felipepinochet/.theano/compiledir_macOS-11.2.3-x86_64-i386-64bit-i386-3.9.7-64/.lock\n",
      "DEBUG:filelock:Lock 6592125104 acquired on /Users/felipepinochet/.theano/compiledir_macOS-11.2.3-x86_64-i386-64bit-i386-3.9.7-64/.lock\n",
      "DEBUG:filelock:Attempting to release lock 6592125104 on /Users/felipepinochet/.theano/compiledir_macOS-11.2.3-x86_64-i386-64bit-i386-3.9.7-64/.lock\n",
      "DEBUG:filelock:Lock 6592125104 released on /Users/felipepinochet/.theano/compiledir_macOS-11.2.3-x86_64-i386-64bit-i386-3.9.7-64/.lock\n",
      "DEBUG:filelock:Attempting to acquire lock 6557510960 on /Users/felipepinochet/.theano/compiledir_macOS-11.2.3-x86_64-i386-64bit-i386-3.9.7-64/.lock\n",
      "DEBUG:filelock:Lock 6557510960 acquired on /Users/felipepinochet/.theano/compiledir_macOS-11.2.3-x86_64-i386-64bit-i386-3.9.7-64/.lock\n",
      "DEBUG:filelock:Attempting to release lock 6557510960 on /Users/felipepinochet/.theano/compiledir_macOS-11.2.3-x86_64-i386-64bit-i386-3.9.7-64/.lock\n",
      "DEBUG:filelock:Lock 6557510960 released on /Users/felipepinochet/.theano/compiledir_macOS-11.2.3-x86_64-i386-64bit-i386-3.9.7-64/.lock\n",
      "DEBUG:filelock:Attempting to acquire lock 6557507648 on /Users/felipepinochet/.theano/compiledir_macOS-11.2.3-x86_64-i386-64bit-i386-3.9.7-64/.lock\n",
      "DEBUG:filelock:Lock 6557507648 acquired on /Users/felipepinochet/.theano/compiledir_macOS-11.2.3-x86_64-i386-64bit-i386-3.9.7-64/.lock\n",
      "DEBUG:filelock:Attempting to release lock 6557507648 on /Users/felipepinochet/.theano/compiledir_macOS-11.2.3-x86_64-i386-64bit-i386-3.9.7-64/.lock\n",
      "DEBUG:filelock:Lock 6557507648 released on /Users/felipepinochet/.theano/compiledir_macOS-11.2.3-x86_64-i386-64bit-i386-3.9.7-64/.lock\n",
      "Multiprocess sampling (4 chains in 4 jobs)\n",
      "INFO:pymc3:Multiprocess sampling (4 chains in 4 jobs)\n",
      "NUTS: [mu]\n",
      "INFO:pymc3:NUTS: [mu]\n"
     ]
    },
    {
     "output_type": "display_data",
     "data": {
      "text/html": [
       "\n",
       "    <div>\n",
       "        <style>\n",
       "            /* Turns off some styling */\n",
       "            progress {\n",
       "                /* gets rid of default border in Firefox and Opera. */\n",
       "                border: none;\n",
       "                /* Needs to be in here for Safari polyfill so background images work as expected. */\n",
       "                background-size: auto;\n",
       "            }\n",
       "            .progress-bar-interrupted, .progress-bar-interrupted::-webkit-progress-bar {\n",
       "                background: #F44336;\n",
       "            }\n",
       "        </style>\n",
       "      <progress value='8000' class='' max='8000' style='width:300px; height:20px; vertical-align: middle;'></progress>\n",
       "      100.00% [8000/8000 02:31<00:00 Sampling 4 chains, 0 divergences]\n",
       "    </div>\n",
       "    "
      ],
      "text/plain": [
       "<IPython.core.display.HTML object>"
      ]
     },
     "metadata": {}
    },
    {
     "output_type": "stream",
     "name": "stderr",
     "text": [
      "Sampling 4 chains for 1_000 tune and 1_000 draw iterations (4_000 + 4_000 draws total) took 162 seconds.\n",
      "INFO:pymc3:Sampling 4 chains for 1_000 tune and 1_000 draw iterations (4_000 + 4_000 draws total) took 162 seconds.\n"
     ]
    }
   ],
   "metadata": {
    "scrolled": true
   }
  },
  {
   "cell_type": "code",
   "execution_count": null,
   "source": [
    "poisson_results"
   ],
   "outputs": [],
   "metadata": {}
  },
  {
   "cell_type": "code",
   "execution_count": null,
   "source": [
    "def poisson_likelihood(weight, value, mu):\n",
    "    return weight * pm.Poisson.dist(mu=mu).logp(value)\n",
    "\n",
    "\n",
    "def pandas_poisson_model_agg(pdf: pd.DataFrame):\n",
    "\n",
    "    t0 = datetime.now()\n",
    "\n",
    "    pdf_agg = pdf.assign(freq=1).groupby([\"x\"]).agg({\"freq\": \"count\"}).reset_index()\n",
    "\n",
    "    values = pdf_agg[\"x\"].values\n",
    "    weights = pdf_agg[\"freq\"].values\n",
    "\n",
    "    with pm.Model() as model:\n",
    "        mu = pm.Gamma(\"mu\", alpha=1, beta=1)\n",
    "        obs = pm.Potential(\n",
    "            \"obs\", poisson_likelihood(weight=weights, value=values, mu=mu)\n",
    "        )\n",
    "        trace = pm.sample(1_000, return_inferencedata=False)\n",
    "\n",
    "    t1 = datetime.now()\n",
    "    deltat = t1 - t0\n",
    "    mu_hat = trace[\"mu\"].mean()\n",
    "    sample_time = trace.report.t_sampling\n",
    "    hdi = pm.hdi(trace[\"mu\"], hdi_prob=0.94)\n",
    "\n",
    "    return pd.Series(\n",
    "        {\n",
    "            \"mu_hat\": mu_hat,\n",
    "            \"hdi_3%\": hdi[0],\n",
    "            \"hdi_97%\": hdi[1],\n",
    "            \"runtime\": deltat,\n",
    "            \"sample_time\": sample_time,\n",
    "        }\n",
    "    )"
   ],
   "outputs": [],
   "metadata": {}
  },
  {
   "cell_type": "code",
   "execution_count": null,
   "source": [
    "poisson_results_agg = pdf_poisson.groupby([\"size\"]).apply(pandas_poisson_model_agg)"
   ],
   "outputs": [],
   "metadata": {
    "scrolled": true
   }
  },
  {
   "cell_type": "code",
   "execution_count": null,
   "source": [
    "poisson_results_agg"
   ],
   "outputs": [],
   "metadata": {}
  },
  {
   "cell_type": "code",
   "execution_count": null,
   "source": [
    "plot_results(poisson_results, \"mu_hat\", mu_true).update_traces(mode=\"lines+markers\")"
   ],
   "outputs": [],
   "metadata": {}
  },
  {
   "cell_type": "code",
   "execution_count": null,
   "source": [
    "plot_results(poisson_results_agg, \"mu_hat\", mu_true).update_traces(mode=\"lines+markers\")"
   ],
   "outputs": [],
   "metadata": {}
  },
  {
   "cell_type": "code",
   "execution_count": null,
   "source": [],
   "outputs": [],
   "metadata": {}
  }
 ],
 "metadata": {
  "kernelspec": {
   "display_name": "Python 3 (ipykernel)",
   "language": "python",
   "name": "python3"
  },
  "language_info": {
   "codemirror_mode": {
    "name": "ipython",
    "version": 3
   },
   "file_extension": ".py",
   "mimetype": "text/x-python",
   "name": "python",
   "nbconvert_exporter": "python",
   "pygments_lexer": "ipython3",
   "version": "3.9.7"
  }
 },
 "nbformat": 4,
 "nbformat_minor": 5
}